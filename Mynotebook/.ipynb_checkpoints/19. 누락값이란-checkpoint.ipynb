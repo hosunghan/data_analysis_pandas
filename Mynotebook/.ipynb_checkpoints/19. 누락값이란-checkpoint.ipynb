{
 "cells": [
  {
   "cell_type": "markdown",
   "id": "40b7def5",
   "metadata": {},
   "source": [
    "# 직접 해보세요!\n",
    "## 누락값 확인하기(135쪽)"
   ]
  },
  {
   "cell_type": "markdown",
   "id": "a3e95a0a",
   "metadata": {},
   "source": [
    "- 누락값(NaN)은 NaN, NAN, nan과 같은 방법으로 표기할 수 있다.\n",
    "- 먼저 누락값을 사용하기 위해 numpy에서 누락값을 불러온다."
   ]
  },
  {
   "cell_type": "code",
   "execution_count": 2,
   "id": "e3d1fc9b",
   "metadata": {},
   "outputs": [],
   "source": [
    "from numpy import NaN, NAN, nan"
   ]
  },
  {
   "cell_type": "markdown",
   "id": "7d6e3dc1",
   "metadata": {},
   "source": [
    "- 누락값은 0, ''와 같은 값과는 다른 개념이라는 것에 주의해야 한다. 누락값은 말 그대로 데이터 자체가 없다는 것을 의미한다.\n",
    "- 그래서 '같다'라는 개념도 없다. 다음은 누락값과 True, False, 0 ''을 비교한 결과이다."
   ]
  },
  {
   "cell_type": "code",
   "execution_count": 3,
   "id": "6eadde8b",
   "metadata": {},
   "outputs": [
    {
     "name": "stdout",
     "output_type": "stream",
     "text": [
      "False\n"
     ]
    }
   ],
   "source": [
    "print(NaN == True)"
   ]
  },
  {
   "cell_type": "code",
   "execution_count": 4,
   "id": "129defcf",
   "metadata": {},
   "outputs": [
    {
     "name": "stdout",
     "output_type": "stream",
     "text": [
      "False\n"
     ]
    }
   ],
   "source": [
    "print(NaN == False)"
   ]
  },
  {
   "cell_type": "code",
   "execution_count": 5,
   "id": "9b5016e3",
   "metadata": {},
   "outputs": [
    {
     "name": "stdout",
     "output_type": "stream",
     "text": [
      "False\n"
     ]
    }
   ],
   "source": [
    "print(NaN == 0)"
   ]
  },
  {
   "cell_type": "code",
   "execution_count": 6,
   "id": "213f121a",
   "metadata": {},
   "outputs": [
    {
     "name": "stdout",
     "output_type": "stream",
     "text": [
      "False\n"
     ]
    }
   ],
   "source": [
    "print(NaN == '')"
   ]
  },
  {
   "cell_type": "markdown",
   "id": "f6d498e1",
   "metadata": {},
   "source": [
    "---"
   ]
  },
  {
   "cell_type": "markdown",
   "id": "ded92ee3",
   "metadata": {},
   "source": [
    "- 위의 과정에서 언급했듯이 누락값은 값 자체가 없기 때문에 자기 자신과 비교해도 True가 아닌 False가 출력된다."
   ]
  },
  {
   "cell_type": "code",
   "execution_count": 7,
   "id": "f44140d7",
   "metadata": {},
   "outputs": [
    {
     "name": "stdout",
     "output_type": "stream",
     "text": [
      "False\n"
     ]
    }
   ],
   "source": [
    "print(NaN == NaN)"
   ]
  },
  {
   "cell_type": "code",
   "execution_count": 38,
   "id": "78d00d5e",
   "metadata": {},
   "outputs": [
    {
     "name": "stdout",
     "output_type": "stream",
     "text": [
      "False\n"
     ]
    }
   ],
   "source": [
    "print(NaN == nan)"
   ]
  },
  {
   "cell_type": "code",
   "execution_count": 39,
   "id": "197f68c2",
   "metadata": {},
   "outputs": [
    {
     "name": "stdout",
     "output_type": "stream",
     "text": [
      "False\n"
     ]
    }
   ],
   "source": [
    "print(NaN == NAN)"
   ]
  },
  {
   "cell_type": "code",
   "execution_count": 40,
   "id": "459051e6",
   "metadata": {},
   "outputs": [
    {
     "name": "stdout",
     "output_type": "stream",
     "text": [
      "False\n"
     ]
    }
   ],
   "source": [
    "print(nan == NAN)"
   ]
  },
  {
   "cell_type": "markdown",
   "id": "3e586397",
   "metadata": {},
   "source": [
    "---"
   ]
  },
  {
   "cell_type": "markdown",
   "id": "6663ddfd",
   "metadata": {},
   "source": [
    "- 그러면 누락값은 어떻게 확인할 수 있을까?\n",
    "- 다행히 판다스에는 누락값을 확인하는 메서드인 isnull이 있다. 아래는 Isnull 메서드로 누락값을 검사한 예이다."
   ]
  },
  {
   "cell_type": "code",
   "execution_count": 41,
   "id": "879ff492",
   "metadata": {},
   "outputs": [
    {
     "name": "stdout",
     "output_type": "stream",
     "text": [
      "True\n"
     ]
    }
   ],
   "source": [
    "import pandas as pd \n",
    "\n",
    "print(pd.isnull(NaN))"
   ]
  },
  {
   "cell_type": "code",
   "execution_count": 42,
   "id": "02d31e72",
   "metadata": {},
   "outputs": [
    {
     "name": "stdout",
     "output_type": "stream",
     "text": [
      "True\n"
     ]
    }
   ],
   "source": [
    "print(pd.isnull(nan))"
   ]
  },
  {
   "cell_type": "code",
   "execution_count": 43,
   "id": "7c38e284",
   "metadata": {},
   "outputs": [
    {
     "name": "stdout",
     "output_type": "stream",
     "text": [
      "True\n"
     ]
    }
   ],
   "source": [
    "print(pd.isnull(NAN))"
   ]
  },
  {
   "cell_type": "markdown",
   "id": "e4f1a4d6",
   "metadata": {},
   "source": [
    "- 반대의 경우(누락값이 아닌 경우)도 검사할 수 있다. \n",
    "- 아래는 notnull메서드로 누락값이 아닌 경우를 검사한 예이다"
   ]
  },
  {
   "cell_type": "code",
   "execution_count": 44,
   "id": "0beb6ddf",
   "metadata": {
    "scrolled": true
   },
   "outputs": [
    {
     "name": "stdout",
     "output_type": "stream",
     "text": [
      "False\n"
     ]
    }
   ],
   "source": [
    "print(pd.notnull(NaN))"
   ]
  },
  {
   "cell_type": "code",
   "execution_count": 45,
   "id": "29faed85",
   "metadata": {},
   "outputs": [
    {
     "name": "stdout",
     "output_type": "stream",
     "text": [
      "True\n"
     ]
    }
   ],
   "source": [
    "print(pd.notnull(42))"
   ]
  },
  {
   "cell_type": "code",
   "execution_count": 46,
   "id": "2c76a7fb",
   "metadata": {},
   "outputs": [
    {
     "name": "stdout",
     "output_type": "stream",
     "text": [
      "True\n"
     ]
    }
   ],
   "source": [
    "print(pd.notnull('missing'))"
   ]
  },
  {
   "cell_type": "markdown",
   "id": "8eebca20",
   "metadata": {},
   "source": [
    "# 직접 해보세요!\n",
    "## 누락값이 생기는 이유 알아보기(137쪽)"
   ]
  },
  {
   "cell_type": "markdown",
   "id": "4662efde",
   "metadata": {},
   "source": [
    "- 누락값은 처음부터 누락값이 있는 데이터를 불러오거나 데이터를 연결, 입력하는 등의 과정에서 생길 수 있다.\n",
    "- 그러면 다음 예제를 통해 누락값이 생기는 이유에 대해 자세히 알아보자."
   ]
  },
  {
   "cell_type": "markdown",
   "id": "84720306",
   "metadata": {},
   "source": [
    "### 1. 누락값이 있는 데이터 집합을 연결할 때 누락값이 생기는 경우"
   ]
  },
  {
   "cell_type": "markdown",
   "id": "ba412076",
   "metadata": {},
   "source": [
    "- 이번에는 사용할 데이터 집합은 누락값이 포함되어 있다. 누락값이 포함되어 있는 데이터 집합을 연결하면 어떻게 될까?\n",
    "- 누락값이 포함되어 있는 데이터 집합을 연결하면 더 많은 누락값이 생긴다."
   ]
  },
  {
   "cell_type": "code",
   "execution_count": 25,
   "id": "f8ebd1e9",
   "metadata": {},
   "outputs": [
    {
     "name": "stdout",
     "output_type": "stream",
     "text": [
      "   ident   site       dated\n",
      "0    619   DR-1  1927-02-08\n",
      "1    622   DR-1  1927-02-10\n",
      "2    734   DR-3  1939-01-07\n",
      "3    735   DR-3  1930-01-12\n",
      "4    751   DR-3  1930-02-26\n",
      "5    752   DR-3         NaN\n",
      "6    837  MSK-4  1932-01-14\n",
      "7    844   DR-1  1932-03-22\n"
     ]
    }
   ],
   "source": [
    "visited = pd.read_csv('../data/survey_visited.csv') \n",
    "survey = pd.read_csv('../data/survey_survey.csv')\n",
    "\n",
    "print(visited)"
   ]
  },
  {
   "cell_type": "code",
   "execution_count": 26,
   "id": "5b1e553c",
   "metadata": {},
   "outputs": [
    {
     "name": "stdout",
     "output_type": "stream",
     "text": [
      "    taken person quant  reading\n",
      "0     619   dyer   rad     9.82\n",
      "1     619   dyer   sal     0.13\n",
      "2     622   dyer   rad     7.80\n",
      "3     622   dyer   sal     0.09\n",
      "4     734     pb   rad     8.41\n",
      "5     734   lake   sal     0.05\n",
      "6     734     pb  temp   -21.50\n",
      "7     735     pb   rad     7.22\n",
      "8     735    NaN   sal     0.06\n",
      "9     735    NaN  temp   -26.00\n",
      "10    751     pb   rad     4.35\n",
      "11    751     pb  temp   -18.50\n",
      "12    751   lake   sal     0.10\n",
      "13    752   lake   rad     2.19\n",
      "14    752   lake   sal     0.09\n",
      "15    752   lake  temp   -16.00\n",
      "16    752    roe   sal    41.60\n",
      "17    837   lake   rad     1.46\n",
      "18    837   lake   sal     0.21\n",
      "19    837    roe   sal    22.50\n",
      "20    844    roe   rad    11.25\n"
     ]
    }
   ],
   "source": [
    "print(survey)"
   ]
  },
  {
   "cell_type": "markdown",
   "id": "23afe9d6",
   "metadata": {},
   "source": [
    "- 위의 과정에서 구한 데이터 집합을 연결해보자. 그러면 누락값이 많이 생겨난 것을 볼 수 있다."
   ]
  },
  {
   "cell_type": "code",
   "execution_count": 27,
   "id": "5dbf3c31",
   "metadata": {
    "scrolled": false
   },
   "outputs": [
    {
     "name": "stdout",
     "output_type": "stream",
     "text": [
      "    ident   site       dated  taken person quant  reading\n",
      "0     619   DR-1  1927-02-08    619   dyer   rad     9.82\n",
      "1     619   DR-1  1927-02-08    619   dyer   sal     0.13\n",
      "2     622   DR-1  1927-02-10    622   dyer   rad     7.80\n",
      "3     622   DR-1  1927-02-10    622   dyer   sal     0.09\n",
      "4     734   DR-3  1939-01-07    734     pb   rad     8.41\n",
      "5     734   DR-3  1939-01-07    734   lake   sal     0.05\n",
      "6     734   DR-3  1939-01-07    734     pb  temp   -21.50\n",
      "7     735   DR-3  1930-01-12    735     pb   rad     7.22\n",
      "8     735   DR-3  1930-01-12    735    NaN   sal     0.06\n",
      "9     735   DR-3  1930-01-12    735    NaN  temp   -26.00\n",
      "10    751   DR-3  1930-02-26    751     pb   rad     4.35\n",
      "11    751   DR-3  1930-02-26    751     pb  temp   -18.50\n",
      "12    751   DR-3  1930-02-26    751   lake   sal     0.10\n",
      "13    752   DR-3         NaN    752   lake   rad     2.19\n",
      "14    752   DR-3         NaN    752   lake   sal     0.09\n",
      "15    752   DR-3         NaN    752   lake  temp   -16.00\n",
      "16    752   DR-3         NaN    752    roe   sal    41.60\n",
      "17    837  MSK-4  1932-01-14    837   lake   rad     1.46\n",
      "18    837  MSK-4  1932-01-14    837   lake   sal     0.21\n",
      "19    837  MSK-4  1932-01-14    837    roe   sal    22.50\n",
      "20    844   DR-1  1932-03-22    844    roe   rad    11.25\n"
     ]
    }
   ],
   "source": [
    "vs = visited.merge(survey, left_on='ident', right_on='taken') \n",
    "print(vs)"
   ]
  },
  {
   "cell_type": "markdown",
   "id": "0445fc2c",
   "metadata": {},
   "source": [
    "### 3. 데이터를 입력할 때 누락값이 생기는 경우"
   ]
  },
  {
   "cell_type": "markdown",
   "id": "68959a9c",
   "metadata": {},
   "source": [
    "- 누락값은 데이터를 잘못 입력하여 생길 수도 있다. 다음은 시리즈를 생성할 때 데이터 프레임에 없는 열과 행 데이터를 입력하여 누락값이 생긴 것이다.\n",
    "- scientists 데이터프레임을 확인하면 Missing이라는 열과 함께 행 데이터에 누락값이 추가된 것을 확인할 수 있다."
   ]
  },
  {
   "cell_type": "code",
   "execution_count": 28,
   "id": "5da2f75f",
   "metadata": {
    "scrolled": true
   },
   "outputs": [
    {
     "name": "stdout",
     "output_type": "stream",
     "text": [
      "goat      4.0\n",
      "amoeba    NaN\n",
      "dtype: float64\n",
      "<class 'pandas.core.series.Series'>\n"
     ]
    }
   ],
   "source": [
    "num_legs = pd.Series({'goat': 4, 'amoeba': nan}) \n",
    "print(num_legs)\n",
    "print(type(num_legs))"
   ]
  },
  {
   "cell_type": "code",
   "execution_count": 29,
   "id": "a23ed19e",
   "metadata": {},
   "outputs": [
    {
     "name": "stdout",
     "output_type": "stream",
     "text": [
      "                Name    Occupation        Born        Died  missing\n",
      "0  Rosaline Franklin       Chemist  1920-07-25  1958-04-16      NaN\n",
      "1     William Gosset  Statistician  1876-06-13  1937-10-16      NaN\n",
      "<class 'pandas.core.frame.DataFrame'>\n"
     ]
    }
   ],
   "source": [
    "scientists = pd.DataFrame({ \n",
    "    'Name': ['Rosaline Franklin', 'William Gosset'], \n",
    "    'Occupation': ['Chemist', 'Statistician'], \n",
    "    'Born': ['1920-07-25', '1876-06-13'], \n",
    "    'Died': ['1958-04-16', '1937-10-16'], \n",
    "    'missing': [NaN, nan]}) \n",
    "\n",
    "print(scientists)\n",
    "print(type(scientists))"
   ]
  },
  {
   "cell_type": "markdown",
   "id": "fdf9ca3b",
   "metadata": {},
   "source": [
    "### 4. 범위를 지정하여 데이터를 추출할 때 누락값이 생기는 경우"
   ]
  },
  {
   "cell_type": "markdown",
   "id": "c700235f",
   "metadata": {},
   "source": [
    "- 데이터프레임에 존재하지 않는 데이터를 추출하면 누락값이 생긴다.\n",
    "- 이번에는 갭마인더 데이터 집합을 불러와 실습해보자."
   ]
  },
  {
   "cell_type": "code",
   "execution_count": 30,
   "id": "a431f038",
   "metadata": {},
   "outputs": [],
   "source": [
    "gapminder = pd.read_csv('../data/gapminder.tsv', sep='\\t')"
   ]
  },
  {
   "cell_type": "markdown",
   "id": "e0a8e5ff",
   "metadata": {},
   "source": [
    "- 다음은 gapminder데이터프레임을 연도별로 그룹화한 다음 lifeExp열의 평균을 구한 것이다."
   ]
  },
  {
   "cell_type": "code",
   "execution_count": 31,
   "id": "adbd44ae",
   "metadata": {},
   "outputs": [
    {
     "name": "stdout",
     "output_type": "stream",
     "text": [
      "year\n",
      "1952    49.057620\n",
      "1957    51.507401\n",
      "1962    53.609249\n",
      "1967    55.678290\n",
      "1972    57.647386\n",
      "1977    59.570157\n",
      "1982    61.533197\n",
      "1987    63.212613\n",
      "1992    64.160338\n",
      "1997    65.014676\n",
      "2002    65.694923\n",
      "2007    67.007423\n",
      "Name: lifeExp, dtype: float64\n"
     ]
    }
   ],
   "source": [
    "life_exp = gapminder.groupby(['year'])['lifeExp'].mean() \n",
    "print(life_exp)"
   ]
  },
  {
   "cell_type": "markdown",
   "id": "c75b4d46",
   "metadata": {},
   "source": [
    "- 다음은 range메서드를 이용하여 life_Exp열에서 2000 ~ 2009년의 데이터를 추출한 것이다.\n",
    "- 그런데 이렇게 데이터를 추출하면 처음부터 life_Exp 열에 없었던 연도가 포함되기 때문에 누락값이 많이 발생한다."
   ]
  },
  {
   "cell_type": "code",
   "execution_count": 22,
   "id": "979907ad",
   "metadata": {
    "scrolled": true
   },
   "outputs": [
    {
     "name": "stdout",
     "output_type": "stream",
     "text": [
      "year\n",
      "2000          NaN\n",
      "2001          NaN\n",
      "2002    65.694923\n",
      "2003          NaN\n",
      "2004          NaN\n",
      "2005          NaN\n",
      "2006          NaN\n",
      "2007    67.007423\n",
      "2008          NaN\n",
      "2009          NaN\n",
      "Name: lifeExp, dtype: float64\n"
     ]
    },
    {
     "name": "stderr",
     "output_type": "stream",
     "text": [
      "C:\\Users\\phk70\\Anaconda3\\lib\\site-packages\\ipykernel_launcher.py:1: FutureWarning: \n",
      "Passing list-likes to .loc or [] with any missing label will raise\n",
      "KeyError in the future, you can use .reindex() as an alternative.\n",
      "\n",
      "See the documentation here:\n",
      "https://pandas.pydata.org/pandas-docs/stable/indexing.html#deprecate-loc-reindex-listlike\n",
      "  \"\"\"Entry point for launching an IPython kernel.\n"
     ]
    }
   ],
   "source": [
    "print(life_exp.loc[range(2000, 2010), ])"
   ]
  },
  {
   "cell_type": "markdown",
   "id": "bab2e5e1",
   "metadata": {},
   "source": [
    "- 앞에서 발생한 문제를 해결하기 위해 불린 추출을 이용하여 데이터를 추출하면 된다."
   ]
  },
  {
   "cell_type": "code",
   "execution_count": 24,
   "id": "fd6b7446",
   "metadata": {
    "scrolled": true
   },
   "outputs": [
    {
     "name": "stdout",
     "output_type": "stream",
     "text": [
      "year\n",
      "2002    65.694923\n",
      "2007    67.007423\n",
      "Name: lifeExp, dtype: float64\n"
     ]
    }
   ],
   "source": [
    "y2000 = life_exp[life_exp.index > 2000] \n",
    "print(y2000)"
   ]
  },
  {
   "cell_type": "markdown",
   "id": "9fa1764f",
   "metadata": {},
   "source": [
    "# 직접 해보세요!\n",
    "## 누락값의 개수 구하기(142쪽)"
   ]
  },
  {
   "cell_type": "markdown",
   "id": "038b0ffc",
   "metadata": {},
   "source": [
    "- 지금까지 누락값이 생기는 다양한 경우에 대해 알아보았다.\n",
    "- 이번에는 누락값의 개수를 구하는 방법을 알아보겠다."
   ]
  },
  {
   "cell_type": "code",
   "execution_count": 47,
   "id": "37dde9b3",
   "metadata": {},
   "outputs": [],
   "source": [
    "ebola = pd.read_csv('../data/country_timeseries.csv')"
   ]
  },
  {
   "cell_type": "markdown",
   "id": "ae050d25",
   "metadata": {},
   "source": [
    "- 먼저 count메서드로 누락값이 아닌  값의 개수를 구해 보겠다."
   ]
  },
  {
   "cell_type": "code",
   "execution_count": 48,
   "id": "d6192d54",
   "metadata": {
    "scrolled": true
   },
   "outputs": [
    {
     "name": "stdout",
     "output_type": "stream",
     "text": [
      "Date                   122\n",
      "Day                    122\n",
      "Cases_Guinea            93\n",
      "Cases_Liberia           83\n",
      "Cases_SierraLeone       87\n",
      "Cases_Nigeria           38\n",
      "Cases_Senegal           25\n",
      "Cases_UnitedStates      18\n",
      "Cases_Spain             16\n",
      "Cases_Mali              12\n",
      "Deaths_Guinea           92\n",
      "Deaths_Liberia          81\n",
      "Deaths_SierraLeone      87\n",
      "Deaths_Nigeria          38\n",
      "Deaths_Senegal          22\n",
      "Deaths_UnitedStates     18\n",
      "Deaths_Spain            16\n",
      "Deaths_Mali             12\n",
      "dtype: int64\n"
     ]
    }
   ],
   "source": [
    "print(ebola.count())"
   ]
  },
  {
   "cell_type": "markdown",
   "id": "e5014d09",
   "metadata": {},
   "source": [
    "- 위의 결과만 잘 활용해도 누락값의 개수를 쉽게 구할 수 있다.\n",
    "- shape[0]에 전체 행의 데이터 개수가 저장되어 있다는 점을 이용하여 shape[0]에서 누락값이 아닌 값의 개수를 빼면 누락값의 개수를 구할 수 있다."
   ]
  },
  {
   "cell_type": "code",
   "execution_count": 49,
   "id": "2095f619",
   "metadata": {
    "scrolled": true
   },
   "outputs": [
    {
     "name": "stdout",
     "output_type": "stream",
     "text": [
      "Date                     0\n",
      "Day                      0\n",
      "Cases_Guinea            29\n",
      "Cases_Liberia           39\n",
      "Cases_SierraLeone       35\n",
      "Cases_Nigeria           84\n",
      "Cases_Senegal           97\n",
      "Cases_UnitedStates     104\n",
      "Cases_Spain            106\n",
      "Cases_Mali             110\n",
      "Deaths_Guinea           30\n",
      "Deaths_Liberia          41\n",
      "Deaths_SierraLeone      35\n",
      "Deaths_Nigeria          84\n",
      "Deaths_Senegal         100\n",
      "Deaths_UnitedStates    104\n",
      "Deaths_Spain           106\n",
      "Deaths_Mali            110\n",
      "dtype: int64\n"
     ]
    }
   ],
   "source": [
    "num_rows = ebola.shape[0]\n",
    "num_missing = num_rows - ebola.count() \n",
    "print(num_missing)"
   ]
  },
  {
   "cell_type": "markdown",
   "id": "2db30c18",
   "metadata": {},
   "source": [
    "- count메서드를 사용해도 되지만 count_nonzero, isnull 메서드를 조합해도 누락값의 개수를 구할 수 있다."
   ]
  },
  {
   "cell_type": "code",
   "execution_count": 50,
   "id": "30f0d7ef",
   "metadata": {},
   "outputs": [
    {
     "name": "stdout",
     "output_type": "stream",
     "text": [
      "1214\n"
     ]
    }
   ],
   "source": [
    "import numpy as np \n",
    "\n",
    "print(np.count_nonzero(ebola.isnull()))"
   ]
  },
  {
   "cell_type": "code",
   "execution_count": 51,
   "id": "0b370869",
   "metadata": {},
   "outputs": [
    {
     "name": "stdout",
     "output_type": "stream",
     "text": [
      "29\n"
     ]
    }
   ],
   "source": [
    "print(np.count_nonzero(ebola['Cases_Guinea'].isnull()))"
   ]
  },
  {
   "cell_type": "markdown",
   "id": "271a6717",
   "metadata": {},
   "source": [
    "- 시리즈에 포함된 value_counts 메서드는 지정한 열의 빈도를 구하는 메서드이다.\n",
    "- value_counts 메서드를 사용해 Cases_Guinea 열의 누락값 개수를 구하려면 다음과 같이 입력한다."
   ]
  },
  {
   "cell_type": "code",
   "execution_count": 52,
   "id": "ddc1dc75",
   "metadata": {
    "scrolled": true
   },
   "outputs": [
    {
     "name": "stdout",
     "output_type": "stream",
     "text": [
      "NaN       29\n",
      " 86.0      3\n",
      " 495.0     2\n",
      " 112.0     2\n",
      " 390.0     2\n",
      "Name: Cases_Guinea, dtype: int64\n"
     ]
    }
   ],
   "source": [
    "print(ebola.Cases_Guinea.value_counts(dropna=False).head())"
   ]
  },
  {
   "cell_type": "markdown",
   "id": "15a0df68",
   "metadata": {},
   "source": [
    "# 직접 해보세요!\n",
    "## 누락값 처리하기 ― 변경, 삭제(144쪽)"
   ]
  },
  {
   "cell_type": "markdown",
   "id": "d3acf4fd",
   "metadata": {},
   "source": [
    "- 누락값은 누락값을 임의의 값으로 변경하거나 데이터프레임에 이미 있는 값으로 대신 채우는 방법 등으로 처리할 수 있다.\n",
    "- 그러면 누락값을 처리하는 방법을 하나씩 알아보자."
   ]
  },
  {
   "cell_type": "markdown",
   "id": "2eb319e8",
   "metadata": {},
   "source": [
    "### 1. 누락값 변경하기"
   ]
  },
  {
   "cell_type": "markdown",
   "id": "c4d9743c",
   "metadata": {},
   "source": [
    "- 데이터프레임에 포함된 fillna 메서드에 0을 대입하면 누락값을 0으로 변경한다.\n",
    "- fillna메서드는 처리해야 하는 데이터프레임의 크기가 매우 크고 메모리를 효율적으로 사용해야 하는 경우에 자주 사용하는 메서드이다."
   ]
  },
  {
   "cell_type": "code",
   "execution_count": 53,
   "id": "63d87c12",
   "metadata": {
    "scrolled": true
   },
   "outputs": [
    {
     "name": "stdout",
     "output_type": "stream",
     "text": [
      "         Date  Day  Cases_Guinea  Cases_Liberia  Cases_SierraLeone\n",
      "0    1/5/2015  289        2776.0            0.0            10030.0\n",
      "1    1/4/2015  288        2775.0            0.0             9780.0\n",
      "2    1/3/2015  287        2769.0         8166.0             9722.0\n",
      "3    1/2/2015  286           0.0         8157.0                0.0\n",
      "4  12/31/2014  284        2730.0         8115.0             9633.0\n",
      "5  12/28/2014  281        2706.0         8018.0             9446.0\n",
      "6  12/27/2014  280        2695.0            0.0             9409.0\n",
      "7  12/24/2014  277        2630.0         7977.0             9203.0\n",
      "8  12/21/2014  273        2597.0            0.0             9004.0\n",
      "9  12/20/2014  272        2571.0         7862.0             8939.0\n"
     ]
    }
   ],
   "source": [
    "print(ebola.fillna(0).iloc[0:10, 0:5])"
   ]
  },
  {
   "cell_type": "markdown",
   "id": "bf8cf4e9",
   "metadata": {},
   "source": [
    "- fillna 메서드의 method 인자값을 ffill로 지정하면 누락값이 나타나기 전의 값으로 누락값이 변경된다.\n",
    "- 예를 들어 6행의 누락값은 누락값이 나타나기 전의 값인 5행의 값을 사용하여 누락값을 처리한다.\n",
    "- 하지만 0, 1행은 처음부터 누락값이기 때문에 누락값이 그대로 남아 있다."
   ]
  },
  {
   "cell_type": "code",
   "execution_count": 54,
   "id": "d20af87c",
   "metadata": {},
   "outputs": [
    {
     "name": "stdout",
     "output_type": "stream",
     "text": [
      "         Date  Day  Cases_Guinea  Cases_Liberia  Cases_SierraLeone\n",
      "0    1/5/2015  289        2776.0            NaN            10030.0\n",
      "1    1/4/2015  288        2775.0            NaN             9780.0\n",
      "2    1/3/2015  287        2769.0         8166.0             9722.0\n",
      "3    1/2/2015  286        2769.0         8157.0             9722.0\n",
      "4  12/31/2014  284        2730.0         8115.0             9633.0\n",
      "5  12/28/2014  281        2706.0         8018.0             9446.0\n",
      "6  12/27/2014  280        2695.0         8018.0             9409.0\n",
      "7  12/24/2014  277        2630.0         7977.0             9203.0\n",
      "8  12/21/2014  273        2597.0         7977.0             9004.0\n",
      "9  12/20/2014  272        2571.0         7862.0             8939.0\n"
     ]
    }
   ],
   "source": [
    "print(ebola.fillna(method='ffill').iloc[0:10, 0:5])"
   ]
  },
  {
   "cell_type": "markdown",
   "id": "ccfa40e7",
   "metadata": {},
   "source": [
    "- method 인자값을 bfill로 지정하면 누락값이 나타난 이후의 첫 번째 값으로 앞쪽의 누락값이 모두 변경한다.\n",
    "- 즉 위의 과정 반대 방향으로 누락값을 처리한다고 생각하면 된다.\n",
    "- 하지만 이 방법도 마지막 값이 누락값인 경우에는 처리하지 못한다는 단점이 있다."
   ]
  },
  {
   "cell_type": "code",
   "execution_count": 55,
   "id": "a399ec41",
   "metadata": {},
   "outputs": [
    {
     "name": "stdout",
     "output_type": "stream",
     "text": [
      "         Date  Day  Cases_Guinea  Cases_Liberia  Cases_SierraLeone\n",
      "0    1/5/2015  289        2776.0         8166.0            10030.0\n",
      "1    1/4/2015  288        2775.0         8166.0             9780.0\n",
      "2    1/3/2015  287        2769.0         8166.0             9722.0\n",
      "3    1/2/2015  286        2730.0         8157.0             9633.0\n",
      "4  12/31/2014  284        2730.0         8115.0             9633.0\n",
      "5  12/28/2014  281        2706.0         8018.0             9446.0\n",
      "6  12/27/2014  280        2695.0         7977.0             9409.0\n",
      "7  12/24/2014  277        2630.0         7977.0             9203.0\n",
      "8  12/21/2014  273        2597.0         7862.0             9004.0\n",
      "9  12/20/2014  272        2571.0         7862.0             8939.0\n"
     ]
    }
   ],
   "source": [
    "print(ebola.fillna(method='bfill').iloc[0:10, 0:5])"
   ]
  },
  {
   "cell_type": "markdown",
   "id": "4af3d9ce",
   "metadata": {},
   "source": [
    "- 위의 과정에서 데이터프레임의 값을 그대로 사용하여 누락값을 처리한다.\n",
    "- interpolate메서드는 누락값 양쪽에 있는 값을 이용하여 중간값을 구한 다음 누락값을 처리한다.\n",
    "- 이렇게 하면 데이터프레임이 일정한 간격을 유지하고 있는 것처럼 수정할 수 있다."
   ]
  },
  {
   "cell_type": "code",
   "execution_count": 56,
   "id": "e8dff961",
   "metadata": {},
   "outputs": [
    {
     "name": "stdout",
     "output_type": "stream",
     "text": [
      "         Date  Day  Cases_Guinea  Cases_Liberia  Cases_SierraLeone\n",
      "0    1/5/2015  289        2776.0            NaN            10030.0\n",
      "1    1/4/2015  288        2775.0            NaN             9780.0\n",
      "2    1/3/2015  287        2769.0         8166.0             9722.0\n",
      "3    1/2/2015  286        2749.5         8157.0             9677.5\n",
      "4  12/31/2014  284        2730.0         8115.0             9633.0\n",
      "5  12/28/2014  281        2706.0         8018.0             9446.0\n",
      "6  12/27/2014  280        2695.0         7997.5             9409.0\n",
      "7  12/24/2014  277        2630.0         7977.0             9203.0\n",
      "8  12/21/2014  273        2597.0         7919.5             9004.0\n",
      "9  12/20/2014  272        2571.0         7862.0             8939.0\n"
     ]
    }
   ],
   "source": [
    "print(ebola.interpolate().iloc[0:10, 0:5])"
   ]
  },
  {
   "cell_type": "markdown",
   "id": "b6a0be9d",
   "metadata": {},
   "source": [
    "### 5. 누락값 삭제하기"
   ]
  },
  {
   "cell_type": "markdown",
   "id": "d05dbffa",
   "metadata": {},
   "source": [
    "- 누락값이 필요 없을 경우에는 누락값을 삭제해도 된다. 하지만 누락값을 무작정 삭제하면 데이터가 너무 편향되거나 데이터의 개수가 너무 적어질 수도 있다.\n",
    "- 그래서 누락값을 삭제할 때는 분석하는 사람이 잘 판단해야 한다. 먼저 ebola의 데이터 구조를 확인해보자."
   ]
  },
  {
   "cell_type": "code",
   "execution_count": 36,
   "id": "e7b95133",
   "metadata": {},
   "outputs": [
    {
     "name": "stdout",
     "output_type": "stream",
     "text": [
      "(122, 18)\n"
     ]
    }
   ],
   "source": [
    "print(ebola.shape)"
   ]
  },
  {
   "cell_type": "markdown",
   "id": "a515c812",
   "metadata": {},
   "source": [
    "- 누락값을 삭제하기 위해 dropna 메서드를 사용하겠다.\n",
    "- 누락값이 포함된 행들이 모두 삭제되기 때문에 많은 데이터가 삭제되었다."
   ]
  },
  {
   "cell_type": "code",
   "execution_count": 37,
   "id": "ce63e641",
   "metadata": {},
   "outputs": [
    {
     "name": "stdout",
     "output_type": "stream",
     "text": [
      "(1, 18)\n"
     ]
    }
   ],
   "source": [
    "ebola_dropna = ebola.dropna() \n",
    "print(ebola_dropna.shape)"
   ]
  },
  {
   "cell_type": "code",
   "execution_count": 38,
   "id": "ccb238a1",
   "metadata": {},
   "outputs": [
    {
     "name": "stdout",
     "output_type": "stream",
     "text": [
      "          Date  Day  Cases_Guinea  Cases_Liberia  Cases_SierraLeone  \\\n",
      "19  11/18/2014  241        2047.0         7082.0             6190.0   \n",
      "\n",
      "    Cases_Nigeria  Cases_Senegal  Cases_UnitedStates  Cases_Spain  Cases_Mali  \\\n",
      "19           20.0            1.0                 4.0          1.0         6.0   \n",
      "\n",
      "    Deaths_Guinea  Deaths_Liberia  Deaths_SierraLeone  Deaths_Nigeria  \\\n",
      "19         1214.0          2963.0              1267.0             8.0   \n",
      "\n",
      "    Deaths_Senegal  Deaths_UnitedStates  Deaths_Spain  Deaths_Mali  \n",
      "19             0.0                  1.0           0.0          6.0  \n"
     ]
    }
   ],
   "source": [
    "print(ebola_dropna)"
   ]
  },
  {
   "cell_type": "markdown",
   "id": "52791214",
   "metadata": {},
   "source": [
    "# 직접 해보세요!\n",
    "## 누락값이 포함된 데이터 계산하기(147쪽)"
   ]
  },
  {
   "cell_type": "markdown",
   "id": "a89bb509",
   "metadata": {},
   "source": [
    "- 만약 누락값이 포함된 데이터를 계산하려면 어떻게 해야 할까? 다음의 ebola 데이터프레임에는 누락값이 많다.\n",
    "- 이 점을 염두해두고 확인하자."
   ]
  },
  {
   "cell_type": "markdown",
   "id": "f5fa4f61",
   "metadata": {},
   "source": [
    "- Guinea, Liberia, SierraLeone 열에는 누락값이 존재한다. 만약 누락값이 존재하는 Guinea, Liberia, SierraLeone 열을 가지고 ebola 발병 수의 합을 계산하면 어떻게 될까?\n",
    "- 다음은 Cases_Guinea, Cases_Liberia, Cases_SierraLeone 열을 더하여 Cases_multiple 열을 새로 만든 것이다."
   ]
  },
  {
   "cell_type": "code",
   "execution_count": 57,
   "id": "00ac22a5",
   "metadata": {},
   "outputs": [],
   "source": [
    "ebola['Cases_multiple'] = ebola['Cases_Guinea'] + ebola['Cases_Liberia'] + ebola['Cases_SierraLeone']"
   ]
  },
  {
   "cell_type": "markdown",
   "id": "bdcba1a9",
   "metadata": {},
   "source": [
    "- 위에서 계산한 Cases_multiple 열을 포함하여 ebola_subset이라는 데이터프레임을 새로 만들어서 어떤 값이 존재하는지 확인해 보겠다.\n",
    "- Cases_Guinea, Cases_Liberia, Cases_SierraLeone에서 누락값이 하나라도 있는 행은 계산 결과(Cases_multiple)가 NaN이 되었음을 알 수 있다.\n",
    "- 즉 계산한 결과 누락값이 더 많이 생겼다."
   ]
  },
  {
   "cell_type": "code",
   "execution_count": 58,
   "id": "82cf4662",
   "metadata": {},
   "outputs": [
    {
     "name": "stdout",
     "output_type": "stream",
     "text": [
      "   Cases_Guinea  Cases_Liberia  Cases_SierraLeone  Cases_multiple\n",
      "0        2776.0            NaN            10030.0             NaN\n",
      "1        2775.0            NaN             9780.0             NaN\n",
      "2        2769.0         8166.0             9722.0         20657.0\n",
      "3           NaN         8157.0                NaN             NaN\n",
      "4        2730.0         8115.0             9633.0         20478.0\n",
      "5        2706.0         8018.0             9446.0         20170.0\n",
      "6        2695.0            NaN             9409.0             NaN\n",
      "7        2630.0         7977.0             9203.0         19810.0\n",
      "8        2597.0            NaN             9004.0             NaN\n",
      "9        2571.0         7862.0             8939.0         19372.0\n"
     ]
    }
   ],
   "source": [
    "ebola_subset = ebola.loc[:, ['Cases_Guinea', 'Cases_Liberia', 'Cases_SierraLeone', 'Cases_multiple']] \n",
    "print(ebola_subset.head(n=10))"
   ]
  },
  {
   "cell_type": "markdown",
   "id": "fe586d93",
   "metadata": {},
   "source": [
    "- Cases_multiple 열을 sum 메서드를 사용해 더하면 세 지역의 ebola 발병 수의 합을 구할 수 있다.\n",
    "- 이때 sum 메서드를 그냥 사용하면 누락값을 포함해 계산한다. 따라서 결과값도 누락값이 된다.\n",
    "- 누락값을 무시한 채 계산하려면 skipna 인자값을 True로 설정하면 된다."
   ]
  },
  {
   "cell_type": "code",
   "execution_count": 59,
   "id": "8f43fe11",
   "metadata": {},
   "outputs": [
    {
     "name": "stdout",
     "output_type": "stream",
     "text": [
      "84729.0\n"
     ]
    }
   ],
   "source": [
    "print(ebola.Cases_Guinea.sum(skipna = True))"
   ]
  },
  {
   "cell_type": "code",
   "execution_count": 60,
   "id": "5fd77566",
   "metadata": {
    "scrolled": true
   },
   "outputs": [
    {
     "name": "stdout",
     "output_type": "stream",
     "text": [
      "nan\n"
     ]
    }
   ],
   "source": [
    "print(ebola.Cases_Guinea.sum(skipna = False))"
   ]
  },
  {
   "cell_type": "markdown",
   "id": "4542557a",
   "metadata": {},
   "source": [
    "# 직접 해보세요!\n",
    "## 누락값 확인하기(135쪽)\n",
    "\n",
    "- 누락값(NaN)은 NaN, NAN, nan과 같은 방법으로 표기할 수 있다.\n",
    "- 먼저 누락값을 사용하기 위해 numpy에서 누락값을 불러온다.\n",
    "\n",
    "from numpy import NaN, NAN, nan\n",
    "\n",
    "- 누락값은 0, ''와 같은 값과는 다른 개념이라는 것에 주의해야 한다. 누락값은 말 그대로 데이터 자체가 없다는 것을 의미한다.\n",
    "- 그래서 '같다'라는 개념도 없다. 다음은 누락값과 True, False, 0 ''을 비교한 결과이다.\n",
    "\n",
    "print(NaN == True)\n",
    "\n",
    "print(NaN == False)\n",
    "\n",
    "print(NaN == 0)\n",
    "\n",
    "print(NaN == '')\n",
    "\n",
    "---\n",
    "\n",
    "- 위의 과정에서 언급했듯이 누락값은 값 자체가 없기 때문에 자기 자신과 비교해도 True가 아닌 False가 출력된다.\n",
    "\n",
    "print(NaN == NaN)\n",
    "\n",
    "print(NaN == nan)\n",
    "\n",
    "print(NaN == NAN)\n",
    "\n",
    "print(nan == NAN)\n",
    "\n",
    "---\n",
    "\n",
    "- 그러면 누락값은 어떻게 확인할 수 있을까?\n",
    "- 다행히 판다스에는 누락값을 확인하는 메서드인 isnull이 있다. 아래는 Isnull 메서드로 누락값을 검사한 예이다.\n",
    "\n",
    "import pandas as pd \n",
    "\n",
    "print(pd.isnull(NaN))\n",
    "\n",
    "print(pd.isnull(nan))\n",
    "\n",
    "print(pd.isnull(NAN))\n",
    "\n",
    "- 반대의 경우(누락값이 아닌 경우)도 검사할 수 있다. \n",
    "- 아래는 notnull메서드로 누락값이 아닌 경우를 검사한 예이다\n",
    "\n",
    "print(pd.notnull(NaN))\n",
    "\n",
    "print(pd.notnull(42))\n",
    "\n",
    "print(pd.notnull('missing'))\n",
    "\n",
    "# 직접 해보세요!\n",
    "## 누락값이 생기는 이유 알아보기(137쪽)\n",
    "\n",
    "- 누락값은 처음부터 누락값이 있는 데이터를 불러오거나 데이터를 연결, 입력하는 등의 과정에서 생길 수 있다.\n",
    "- 그러면 다음 예제를 통해 누락값이 생기는 이유에 대해 자세히 알아보자.\n",
    "\n",
    "### 1. 누락값이 있는 데이터 집합을 연결할 때 누락값이 생기는 경우\n",
    "\n",
    "- 이번에는 사용할 데이터 집합은 누락값이 포함되어 있다. 누락값이 포함되어 있는 데이터 집합을 연결하면 어떻게 될까?\n",
    "- 누락값이 포함되어 있는 데이터 집합을 연결하면 더 많은 누락값이 생긴다.\n",
    "\n",
    "visited = pd.read_csv('../data/survey_visited.csv') \n",
    "survey = pd.read_csv('../data/survey_survey.csv')\n",
    "\n",
    "print(visited)\n",
    "\n",
    "print(survey)\n",
    "\n",
    "- 위의 과정에서 구한 데이터 집합을 연결해보자. 그러면 누락값이 많이 생겨난 것을 볼 수 있다.\n",
    "\n",
    "vs = visited.merge(survey, left_on='ident', right_on='taken') \n",
    "print(vs)\n",
    "\n",
    "### 3. 데이터를 입력할 때 누락값이 생기는 경우\n",
    "\n",
    "- 누락값은 데이터를 잘못 입력하여 생길 수도 있다. 다음은 시리즈를 생성할 때 데이터 프레임에 없는 열과 행 데이터를 입력하여 누락값이 생긴 것이다.\n",
    "- scientists 데이터프레임을 확인하면 Missing이라는 열과 함께 행 데이터에 누락값이 추가된 것을 확인할 수 있다.\n",
    "\n",
    "num_legs = pd.Series({'goat': 4, 'amoeba': nan}) \n",
    "print(num_legs)\n",
    "print(type(num_legs))\n",
    "\n",
    "scientists = pd.DataFrame({ \n",
    "    'Name': ['Rosaline Franklin', 'William Gosset'], \n",
    "    'Occupation': ['Chemist', 'Statistician'], \n",
    "    'Born': ['1920-07-25', '1876-06-13'], \n",
    "    'Died': ['1958-04-16', '1937-10-16'], \n",
    "    'missing': [NaN, nan]}) \n",
    "\n",
    "print(scientists)\n",
    "print(type(scientists))\n",
    "\n",
    "### 4. 범위를 지정하여 데이터를 추출할 때 누락값이 생기는 경우\n",
    "\n",
    "- 데이터프레임에 존재하지 않는 데이터를 추출하면 누락값이 생긴다.\n",
    "- 이번에는 갭마인더 데이터 집합을 불러와 실습해보자.\n",
    "\n",
    "gapminder = pd.read_csv('../data/gapminder.tsv', sep='\\t')\n",
    "\n",
    "- 다음은 gapminder데이터프레임을 연도별로 그룹화한 다음 lifeExp열의 평균을 구한 것이다.\n",
    "\n",
    "life_exp = gapminder.groupby(['year'])['lifeExp'].mean() \n",
    "print(life_exp)\n",
    "\n",
    "- 다음은 range메서드를 이용하여 life_Exp열에서 2000 ~ 2009년의 데이터를 추출한 것이다.\n",
    "- 그런데 이렇게 데이터를 추출하면 처음부터 life_Exp 열에 없었던 연도가 포함되기 때문에 누락값이 많이 발생한다.\n",
    "\n",
    "print(life_exp.loc[range(2000, 2010), ])\n",
    "\n",
    "- 앞에서 발생한 문제를 해결하기 위해 불린 추출을 이용하여 데이터를 추출하면 된다.\n",
    "\n",
    "y2000 = life_exp[life_exp.index > 2000] \n",
    "print(y2000)\n",
    "\n",
    "# 직접 해보세요!\n",
    "## 누락값의 개수 구하기(142쪽)\n",
    "\n",
    "- 지금까지 누락값이 생기는 다양한 경우에 대해 알아보았다.\n",
    "- 이번에는 누락값의 개수를 구하는 방법을 알아보겠다.\n",
    "\n",
    "ebola = pd.read_csv('../data/country_timeseries.csv')\n",
    "\n",
    "- 먼저 count메서드로 누락값이 아닌  값의 개수를 구해 보겠다.\n",
    "\n",
    "print(ebola.count())\n",
    "\n",
    "- 위의 결과만 잘 활용해도 누락값의 개수를 쉽게 구할 수 있다.\n",
    "- shape[0]에 전체 행의 데이터 개수가 저장되어 있다는 점을 이용하여 shape[0]에서 누락값이 아닌 값의 개수를 빼면 누락값의 개수를 구할 수 있다.\n",
    "\n",
    "num_rows = ebola.shape[0]\n",
    "num_missing = num_rows - ebola.count() \n",
    "print(num_missing)\n",
    "\n",
    "- count메서드를 사용해도 되지만 count_nonzero, isnull 메서드를 조합해도 누락값의 개수를 구할 수 있다.\n",
    "\n",
    "import numpy as np \n",
    "\n",
    "print(np.count_nonzero(ebola.isnull()))\n",
    "\n",
    "print(np.count_nonzero(ebola['Cases_Guinea'].isnull()))\n",
    "\n",
    "- 시리즈에 포함된 value_counts 메서드는 지정한 열의 빈도를 구하는 메서드이다.\n",
    "- value_counts 메서드를 사용해 Cases_Guinea 열의 누락값 개수를 구하려면 다음과 같이 입력한다.\n",
    "\n",
    "print(ebola.Cases_Guinea.value_counts(dropna=False).head())\n",
    "\n",
    "# 직접 해보세요!\n",
    "## 누락값 처리하기 ― 변경, 삭제(144쪽)\n",
    "\n",
    "- 누락값은 누락값을 임의의 값으로 변경하거나 데이터프레임에 이미 있는 값으로 대신 채우는 방법 등으로 처리할 수 있다.\n",
    "- 그러면 누락값을 처리하는 방법을 하나씩 알아보자.\n",
    "\n",
    "### 1. 누락값 변경하기\n",
    "\n",
    "- 데이터프레임에 포함된 fillna 메서드에 0을 대입하면 누락값을 0으로 변경한다.\n",
    "- fillna메서드는 처리해야 하는 데이터프레임의 크기가 매우 크고 메모리를 효율적으로 사용해야 하는 경우에 자주 사용하는 메서드이다.\n",
    "\n",
    "print(ebola.fillna(0).iloc[0:10, 0:5])\n",
    "\n",
    "- fillna 메서드의 method 인자값을 ffill로 지정하면 누락값이 나타나기 전의 값으로 누락값이 변경된다.\n",
    "- 예를 들어 6행의 누락값은 누락값이 나타나기 전의 값인 5행의 값을 사용하여 누락값을 처리한다.\n",
    "- 하지만 0, 1행은 처음부터 누락값이기 때문에 누락값이 그대로 남아 있다.\n",
    "\n",
    "print(ebola.fillna(method='ffill').iloc[0:10, 0:5])\n",
    "\n",
    "- method 인자값을 bfill로 지정하면 누락값이 나타난 이후의 첫 번째 값으로 앞쪽의 누락값이 모두 변경한다.\n",
    "- 즉 위의 과정 반대 방향으로 누락값을 처리한다고 생각하면 된다.\n",
    "- 하지만 이 방법도 마지막 값이 누락값인 경우에는 처리하지 못한다는 단점이 있다.\n",
    "\n",
    "print(ebola.fillna(method='bfill').iloc[0:10, 0:5])\n",
    "\n",
    "- 위의 과정에서 데이터프레임의 값을 그대로 사용하여 누락값을 처리한다.\n",
    "- interpolate메서드는 누락값 양쪽에 있는 값을 이용하여 중간값을 구한 다음 누락값을 처리한다.\n",
    "- 이렇게 하면 데이터프레임이 일정한 간격을 유지하고 있는 것처럼 수정할 수 있다.\n",
    "\n",
    "print(ebola.interpolate().iloc[0:10, 0:5])\n",
    "\n",
    "### 5. 누락값 삭제하기\n",
    "\n",
    "- 누락값이 필요 없을 경우에는 누락값을 삭제해도 된다. 하지만 누락값을 무작정 삭제하면 데이터가 너무 편향되거나 데이터의 개수가 너무 적어질 수도 있다.\n",
    "- 그래서 누락값을 삭제할 때는 분석하는 사람이 잘 판단해야 한다. 먼저 ebola의 데이터 구조를 확인해보자.\n",
    "\n",
    "print(ebola.shape)\n",
    "\n",
    "- 누락값을 삭제하기 위해 dropna 메서드를 사용하겠다.\n",
    "- 누락값이 포함된 행들이 모두 삭제되기 때문에 많은 데이터가 삭제되었다.\n",
    "\n",
    "ebola_dropna = ebola.dropna() \n",
    "print(ebola_dropna.shape)\n",
    "\n",
    "print(ebola_dropna)\n",
    "\n",
    "# 직접 해보세요!\n",
    "## 누락값이 포함된 데이터 계산하기(147쪽)\n",
    "\n",
    "- 만약 누락값이 포함된 데이터를 계산하려면 어떻게 해야 할까? 다음의 ebola 데이터프레임에는 누락값이 많다.\n",
    "- 이 점을 염두해두고 확인하자.\n",
    "\n",
    "- Guinea, Liberia, SierraLeone 열에는 누락값이 존재한다. 만약 누락값이 존재하는 Guinea, Liberia, SierraLeone 열을 가지고 ebola 발병 수의 합을 계산하면 어떻게 될까?\n",
    "- 다음은 Cases_Guinea, Cases_Liberia, Cases_SierraLeone 열을 더하여 Cases_multiple 열을 새로 만든 것이다.\n",
    "\n",
    "ebola['Cases_multiple'] = ebola['Cases_Guinea'] + ebola['Cases_Liberia'] + ebola['Cases_SierraLeone']\n",
    "\n",
    "- 위에서 계산한 Cases_multiple 열을 포함하여 ebola_subset이라는 데이터프레임을 새로 만들어서 어떤 값이 존재하는지 확인해 보겠다.\n",
    "- Cases_Guinea, Cases_Liberia, Cases_SierraLeone에서 누락값이 하나라도 있는 행은 계산 결과(Cases_multiple)가 NaN이 되었음을 알 수 있다.\n",
    "- 즉 계산한 결과 누락값이 더 많이 생겼다.\n",
    "\n",
    "ebola_subset = ebola.loc[:, ['Cases_Guinea', 'Cases_Liberia', 'Cases_SierraLeone', 'Cases_multiple']] \n",
    "print(ebola_subset.head(n=10))\n",
    "\n",
    "- Cases_multiple 열을 sum 메서드를 사용해 더하면 세 지역의 ebola 발병 수의 합을 구할 수 있다.\n",
    "- 이때 sum 메서드를 그냥 사용하면 누락값을 포함해 계산한다. 따라서 결과값도 누락값이 된다.\n",
    "- 누락값을 무시한 채 계산하려면 skipna 인자값을 True로 설정하면 된다.\n",
    "\n",
    "print(ebola.Cases_Guinea.sum(skipna = True))\n",
    "\n",
    "print(ebola.Cases_Guinea.sum(skipna = False))"
   ]
  }
 ],
 "metadata": {
  "kernelspec": {
   "display_name": "Python 3 (ipykernel)",
   "language": "python",
   "name": "python3"
  },
  "language_info": {
   "codemirror_mode": {
    "name": "ipython",
    "version": 3
   },
   "file_extension": ".py",
   "mimetype": "text/x-python",
   "name": "python",
   "nbconvert_exporter": "python",
   "pygments_lexer": "ipython3",
   "version": "3.9.13"
  }
 },
 "nbformat": 4,
 "nbformat_minor": 5
}
