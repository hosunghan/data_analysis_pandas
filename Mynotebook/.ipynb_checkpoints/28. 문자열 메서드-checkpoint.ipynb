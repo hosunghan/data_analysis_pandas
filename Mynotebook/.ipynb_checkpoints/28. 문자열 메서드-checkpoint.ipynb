{
 "cells": [
  {
   "cell_type": "markdown",
   "id": "779b6757",
   "metadata": {},
   "source": [
    "# 직접 해보세요!\n",
    "## 문자열 추출하기(183쪽)"
   ]
  },
  {
   "cell_type": "markdown",
   "id": "6d023276",
   "metadata": {},
   "source": [
    "- 문자열은 작은따옴표나 큰따옴표로 감싸서 만든다. 다음은 작은 따옴표로 grail, a scratch라는 문자열 데이터를 만들어 변수 word, send에 저장한 것이다."
   ]
  },
  {
   "cell_type": "markdown",
   "id": "bab9aef7",
   "metadata": {},
   "source": [
    "- 인덱스로 문자열 추출하기\n",
    "- 데이터프레임에서 인덱스를 이용하여 원하는 데이터를 추출했던 것을 기억하는가? 문자열로 인덱스를 사용하여 추출할 수 있다.\n",
    "- 문자는 길이가 1인 문자열로 생각하면 된다."
   ]
  },
  {
   "cell_type": "code",
   "execution_count": 1,
   "id": "2a10ea06",
   "metadata": {},
   "outputs": [],
   "source": [
    "word = 'grail'\n",
    "sent = 'a scratch'"
   ]
  },
  {
   "cell_type": "markdown",
   "id": "ce4f594a",
   "metadata": {},
   "source": [
    "- 각 문자열의 첫 번째 문자는 아래와 같이 추출한다."
   ]
  },
  {
   "cell_type": "code",
   "execution_count": 2,
   "id": "ffa59a0a",
   "metadata": {},
   "outputs": [
    {
     "name": "stdout",
     "output_type": "stream",
     "text": [
      "g\n"
     ]
    }
   ],
   "source": [
    "print(word[0])"
   ]
  },
  {
   "cell_type": "code",
   "execution_count": 3,
   "id": "dc1a7e75",
   "metadata": {},
   "outputs": [
    {
     "name": "stdout",
     "output_type": "stream",
     "text": [
      "a\n"
     ]
    }
   ],
   "source": [
    "print(sent[0])"
   ]
  },
  {
   "cell_type": "markdown",
   "id": "a23f045a",
   "metadata": {},
   "source": [
    "- 인덱스 슬라이싱을 사용하면 여러 개의 문자를 한 번에 추출할 수 있다. 아래는 인덱스 슬라이싱을 사용하여 0~2번째 인덱스의 문자를 추출한 것이다.\n",
    "- 이때 대괄호에 지정한 왼쪽 범위(0)는 포함하고 오른쪽 범위(3)는 포함하지 않는다.\n",
    "- 즉 인덱스가 0,1,2의 문자를 추출한다."
   ]
  },
  {
   "cell_type": "code",
   "execution_count": 4,
   "id": "8e2db125",
   "metadata": {},
   "outputs": [
    {
     "name": "stdout",
     "output_type": "stream",
     "text": [
      "gra\n"
     ]
    }
   ],
   "source": [
    "print(word[0:3])"
   ]
  },
  {
   "cell_type": "markdown",
   "id": "a29a4a36",
   "metadata": {},
   "source": [
    "---"
   ]
  },
  {
   "cell_type": "markdown",
   "id": "d77d8934",
   "metadata": {},
   "source": [
    "- 음수를 사용해도 문자열을 추출할 수 있다.\n",
    "- 만약 인덱스를 -1로 지정하여 문자열을 추출하면 마지막 문자가 추출된다. 아래는 다양한 방법으로 음수 범위의 인덱스 슬라이싱을 한 것이다."
   ]
  },
  {
   "cell_type": "code",
   "execution_count": 5,
   "id": "693cf1e5",
   "metadata": {
    "scrolled": true
   },
   "outputs": [
    {
     "name": "stdout",
     "output_type": "stream",
     "text": [
      "h\n"
     ]
    }
   ],
   "source": [
    "print(sent[-1])"
   ]
  },
  {
   "cell_type": "code",
   "execution_count": 6,
   "id": "ce478cc4",
   "metadata": {},
   "outputs": [
    {
     "name": "stdout",
     "output_type": "stream",
     "text": [
      "a\n"
     ]
    }
   ],
   "source": [
    "print(sent[-9:-8])"
   ]
  },
  {
   "cell_type": "code",
   "execution_count": 7,
   "id": "c7c95a90",
   "metadata": {},
   "outputs": [
    {
     "name": "stdout",
     "output_type": "stream",
     "text": [
      "a\n"
     ]
    }
   ],
   "source": [
    "print(sent[0:-8])"
   ]
  },
  {
   "cell_type": "markdown",
   "id": "e9230942",
   "metadata": {},
   "source": [
    "# 알아두면 좋아요!\n",
    "## 전체 문자열을 추출할 때 음수를 사용하면 안 됩니다(184쪽)"
   ]
  },
  {
   "cell_type": "markdown",
   "id": "236cb310",
   "metadata": {},
   "source": [
    "- 문자열의 마지막 문자를 추출하려면 인덱스를 -1로 지정하면 된다. 그런데 전체 문자열을 추출하기 위해 인덱스 슬라이싱의 범위를 [0:-1]로 지정하면 마지막 문자는 추출되지 않는다.\n",
    "- 왜그러냐면 바로 인덱스 슬라이싱의 오른쪽 범위로 지정한 값은 문자열 추출 버위에서 제외되기 때문이다. 이런 경우에는 len메서드를 사용하여 문자열의 길이를 오른쪽 범위로 지정하면 된다."
   ]
  },
  {
   "cell_type": "code",
   "execution_count": 8,
   "id": "19af575e",
   "metadata": {},
   "outputs": [
    {
     "name": "stdout",
     "output_type": "stream",
     "text": [
      "scratc\n"
     ]
    }
   ],
   "source": [
    "print(sent[2:-1])"
   ]
  },
  {
   "cell_type": "code",
   "execution_count": 11,
   "id": "19d3ecc3",
   "metadata": {},
   "outputs": [
    {
     "name": "stdout",
     "output_type": "stream",
     "text": [
      "scratc\n"
     ]
    }
   ],
   "source": [
    "print(sent[-7:-1])"
   ]
  },
  {
   "cell_type": "code",
   "execution_count": 12,
   "id": "5e692112",
   "metadata": {},
   "outputs": [
    {
     "name": "stdout",
     "output_type": "stream",
     "text": [
      "9\n"
     ]
    }
   ],
   "source": [
    "s_len = len(sent)\n",
    "print(s_len)"
   ]
  },
  {
   "cell_type": "code",
   "execution_count": 13,
   "id": "7671df31",
   "metadata": {},
   "outputs": [
    {
     "name": "stdout",
     "output_type": "stream",
     "text": [
      "scratch\n"
     ]
    }
   ],
   "source": [
    "print(sent[2:s_len])"
   ]
  },
  {
   "cell_type": "markdown",
   "id": "01e4a81b",
   "metadata": {},
   "source": [
    "# 직접 해보세요!\n",
    "## 왼쪽이나 오른쪽 범위를 지정하지 않고 문자열 추출하기(185쪽)"
   ]
  },
  {
   "cell_type": "markdown",
   "id": "159a2121",
   "metadata": {},
   "source": [
    "- 왼쪽 범위를 비우고 문자열을 추출하면 아래와 같이 된다."
   ]
  },
  {
   "cell_type": "code",
   "execution_count": 14,
   "id": "a0341994",
   "metadata": {},
   "outputs": [
    {
     "name": "stdout",
     "output_type": "stream",
     "text": [
      "gra\n"
     ]
    }
   ],
   "source": [
    "print(word[0:3])"
   ]
  },
  {
   "cell_type": "code",
   "execution_count": 15,
   "id": "30334cf2",
   "metadata": {},
   "outputs": [
    {
     "name": "stdout",
     "output_type": "stream",
     "text": [
      "gra\n"
     ]
    }
   ],
   "source": [
    "print(word[ :3])"
   ]
  },
  {
   "cell_type": "markdown",
   "id": "f2f3bb0f",
   "metadata": {},
   "source": [
    "- 만약 오른쪽 범위를 비우면 문자열의 마지막 위치까지 문자열을 추출한다."
   ]
  },
  {
   "cell_type": "code",
   "execution_count": 16,
   "id": "44d896f3",
   "metadata": {
    "scrolled": true
   },
   "outputs": [
    {
     "name": "stdout",
     "output_type": "stream",
     "text": [
      "scratch\n"
     ]
    }
   ],
   "source": [
    "print(sent[2:len(sent)])"
   ]
  },
  {
   "cell_type": "code",
   "execution_count": 17,
   "id": "7fade6a3",
   "metadata": {},
   "outputs": [
    {
     "name": "stdout",
     "output_type": "stream",
     "text": [
      "scratch\n"
     ]
    }
   ],
   "source": [
    "print(sent[2: ])"
   ]
  },
  {
   "cell_type": "markdown",
   "id": "fee36c70",
   "metadata": {},
   "source": [
    "- 양쪽을 모두 비우면 전체 문자열을 추출한다"
   ]
  },
  {
   "cell_type": "code",
   "execution_count": 18,
   "id": "98fa6122",
   "metadata": {},
   "outputs": [
    {
     "name": "stdout",
     "output_type": "stream",
     "text": [
      "a scratch\n"
     ]
    }
   ],
   "source": [
    "print(sent[ : ])"
   ]
  },
  {
   "cell_type": "code",
   "execution_count": 19,
   "id": "157a0ac7",
   "metadata": {},
   "outputs": [
    {
     "name": "stdout",
     "output_type": "stream",
     "text": [
      "asrth\n"
     ]
    }
   ],
   "source": [
    "print(sent[::2])"
   ]
  },
  {
   "cell_type": "markdown",
   "id": "746076f4",
   "metadata": {},
   "source": [
    "# 직접 해보세요!\n",
    "## join, splitlines, replace 메서드 실습하기(188쪽)"
   ]
  },
  {
   "cell_type": "markdown",
   "id": "ccaf3e1e",
   "metadata": {},
   "source": [
    "### 1. join 메서드"
   ]
  },
  {
   "cell_type": "markdown",
   "id": "04a40131",
   "metadata": {},
   "source": [
    "- join 메서드는 문자열을 연결하여 새로운 문자열을 반환하는 메서드이다. 다음은 분리된 좌표 데이터(40', 46', ...)를 합친 것이다.\n",
    "- 이때 join 메서드 앞에 문자(' ')를 지정하면 해당 문자를 단어 사이에 넣어 연결해준다."
   ]
  },
  {
   "cell_type": "code",
   "execution_count": 20,
   "id": "5039d4dd",
   "metadata": {},
   "outputs": [],
   "source": [
    "d1 = '40°' \n",
    "m1 = \"46'\" \n",
    "s1 = '52.837\"' \n",
    "u1 = 'N'\n",
    "\n",
    "d2 = '73°' \n",
    "m2 = \"58'\" \n",
    "s2 = '26.302\"' \n",
    "u2 = 'W'"
   ]
  },
  {
   "cell_type": "code",
   "execution_count": 21,
   "id": "1db185db",
   "metadata": {},
   "outputs": [
    {
     "name": "stdout",
     "output_type": "stream",
     "text": [
      "40° 46' 52.837\" N 73° 58' 26.302\" W\n"
     ]
    }
   ],
   "source": [
    "coords = ' '.join([d1, m1, s1, u1, d2, m2, s2, u2])\n",
    "print(coords)"
   ]
  },
  {
   "cell_type": "markdown",
   "id": "6c1ff821",
   "metadata": {},
   "source": [
    "### 2. splitlines 메서드"
   ]
  },
  {
   "cell_type": "markdown",
   "id": "435f9243",
   "metadata": {},
   "source": [
    "- 이번에는 splitlines 메서드에 대해 알아보자.\n",
    "- splitlines메서드는 여러 행을 가진 문자열을 분리한 다음 리스트로 반환한다.\n",
    "- multi_str에 저장된 문자열 splitlines 메서드로 분리하면 다음과 같이 된다."
   ]
  },
  {
   "cell_type": "code",
   "execution_count": 22,
   "id": "9ad9289c",
   "metadata": {},
   "outputs": [
    {
     "name": "stdout",
     "output_type": "stream",
     "text": [
      "Guard: What? Ridden on a horse?\n",
      "King Arthur: Yes!\n",
      "Guard: You're using coconuts!\n",
      "King Arthur: What?\n",
      "Guard: You've got ... coconut[s] and you're bangin' 'em together. \n",
      "\n"
     ]
    }
   ],
   "source": [
    "multi_str = \"\"\"Guard: What? Ridden on a horse?\n",
    "King Arthur: Yes!\n",
    "Guard: You're using coconuts!\n",
    "King Arthur: What?\n",
    "Guard: You've got ... coconut[s] and you're bangin' 'em together. \n",
    "\"\"\" \n",
    "print(multi_str)"
   ]
  },
  {
   "cell_type": "code",
   "execution_count": 23,
   "id": "c7e00d1a",
   "metadata": {},
   "outputs": [
    {
     "name": "stdout",
     "output_type": "stream",
     "text": [
      "['Guard: What? Ridden on a horse?', 'King Arthur: Yes!', \"Guard: You're using coconuts!\", 'King Arthur: What?', \"Guard: You've got ... coconut[s] and you're bangin' 'em together. \"]\n"
     ]
    }
   ],
   "source": [
    "multi_str_split = multi_str.splitlines() \n",
    "print(multi_str_split)"
   ]
  },
  {
   "cell_type": "markdown",
   "id": "8ce5e01e",
   "metadata": {},
   "source": [
    "- 인덱스 슬라이싱을 응용하면 특정 문자열만 가져올 수도 있다.\n",
    "- 다음은 Guard의 대사만 가져온 것이다."
   ]
  },
  {
   "cell_type": "code",
   "execution_count": 24,
   "id": "dc8fe601",
   "metadata": {},
   "outputs": [
    {
     "name": "stdout",
     "output_type": "stream",
     "text": [
      "['Guard: What? Ridden on a horse?', \"Guard: You're using coconuts!\", \"Guard: You've got ... coconut[s] and you're bangin' 'em together. \"]\n"
     ]
    }
   ],
   "source": [
    "guard = multi_str_split[::2] \n",
    "print(guard)"
   ]
  },
  {
   "cell_type": "markdown",
   "id": "5dff7b64",
   "metadata": {},
   "source": [
    "### 4. replace 메서드"
   ]
  },
  {
   "cell_type": "markdown",
   "id": "a53342d1",
   "metadata": {},
   "source": [
    "- 만약 Guard의 대사에서 'Guard:'라는 문자열을 뺴고 싶다면 어떻게 해야 할까?\n",
    "- 문자열을 치환해주는 replace메서드를 사용하면 된다. 다음과 같이 \"Guard : \"를 \"\"로 치환하여 없앴다."
   ]
  },
  {
   "cell_type": "code",
   "execution_count": 25,
   "id": "625992d0",
   "metadata": {},
   "outputs": [
    {
     "name": "stdout",
     "output_type": "stream",
     "text": [
      "['What? Ridden on a horse?', \"You're using coconuts!\", \"You've got ... coconut[s] and you're bangin' 'em together. \"]\n"
     ]
    }
   ],
   "source": [
    "guard = multi_str.replace(\"Guard: \", \"\").splitlines()[::2] \n",
    "print(guard)"
   ]
  },
  {
   "cell_type": "code",
   "execution_count": null,
   "id": "b39ab345",
   "metadata": {},
   "outputs": [],
   "source": []
  }
 ],
 "metadata": {
  "kernelspec": {
   "display_name": "Python 3 (ipykernel)",
   "language": "python",
   "name": "python3"
  },
  "language_info": {
   "codemirror_mode": {
    "name": "ipython",
    "version": 3
   },
   "file_extension": ".py",
   "mimetype": "text/x-python",
   "name": "python",
   "nbconvert_exporter": "python",
   "pygments_lexer": "ipython3",
   "version": "3.9.13"
  }
 },
 "nbformat": 4,
 "nbformat_minor": 5
}
