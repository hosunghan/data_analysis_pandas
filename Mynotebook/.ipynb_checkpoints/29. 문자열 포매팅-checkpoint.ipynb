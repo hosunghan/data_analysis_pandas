{
 "cells": [
  {
   "cell_type": "markdown",
   "id": "5e6f72ba",
   "metadata": {},
   "source": [
    "# 직접 해보세요!\n",
    "## 문자열 추출하기(183쪽)"
   ]
  },
  {
   "cell_type": "markdown",
   "id": "a5eaf818",
   "metadata": {},
   "source": [
    "- 문자열은 작은따옴표나 큰따옴표로 감싸서 만든다. 다음은 작은 따옴표로 grail, a scratch라는 문자열 데이터를 만들어 변수 word, send에 저장한 것이다."
   ]
  },
  {
   "cell_type": "markdown",
   "id": "00ed2a74",
   "metadata": {},
   "source": [
    "- 인덱스로 문자열 추출하기\n",
    "- 데이터프레임에서 인덱스를 이용하여 원하는 데이터를 추출했던 것을 기억하는가? 문자열로 인덱스를 사용하여 추출할 수 있다.\n",
    "- 문자는 길이가 1인 문자열로 생각하면 된다."
   ]
  },
  {
   "cell_type": "code",
   "execution_count": 1,
   "id": "976fad05",
   "metadata": {},
   "outputs": [],
   "source": [
    "word = 'grail'\n",
    "sent = 'a scratch'"
   ]
  },
  {
   "cell_type": "markdown",
   "id": "a68c4f3e",
   "metadata": {},
   "source": [
    "- 각 문자열의 첫 번째 문자는 아래와 같이 추출한다."
   ]
  },
  {
   "cell_type": "code",
   "execution_count": 2,
   "id": "bbe7ff35",
   "metadata": {},
   "outputs": [
    {
     "name": "stdout",
     "output_type": "stream",
     "text": [
      "g\n"
     ]
    }
   ],
   "source": [
    "print(word[0])"
   ]
  },
  {
   "cell_type": "code",
   "execution_count": 3,
   "id": "c176162a",
   "metadata": {},
   "outputs": [
    {
     "name": "stdout",
     "output_type": "stream",
     "text": [
      "a\n"
     ]
    }
   ],
   "source": [
    "print(sent[0])"
   ]
  },
  {
   "cell_type": "markdown",
   "id": "7e17ce09",
   "metadata": {},
   "source": [
    "- 인덱스 슬라이싱을 사용하면 여러 개의 문자를 한 번에 추출할 수 있다. 아래는 인덱스 슬라이싱을 사용하여 0~2번째 인덱스의 문자를 추출한 것이다.\n",
    "- 이때 대괄호에 지정한 왼쪽 범위(0)는 포함하고 오른쪽 범위(3)는 포함하지 않는다.\n",
    "- 즉 인덱스가 0,1,2의 문자를 추출한다."
   ]
  },
  {
   "cell_type": "code",
   "execution_count": 4,
   "id": "0baf8282",
   "metadata": {},
   "outputs": [
    {
     "name": "stdout",
     "output_type": "stream",
     "text": [
      "gra\n"
     ]
    }
   ],
   "source": [
    "print(word[0:3])"
   ]
  },
  {
   "cell_type": "markdown",
   "id": "0374be81",
   "metadata": {},
   "source": [
    "---"
   ]
  },
  {
   "cell_type": "markdown",
   "id": "3b4a4859",
   "metadata": {},
   "source": [
    "- 음수를 사용해도 문자열을 추출할 수 있다.\n",
    "- 만약 인덱스를 -1로 지정하여 문자열을 추출하면 마지막 문자가 추출된다. 아래는 다양한 방법으로 음수 범위의 인덱스 슬라이싱을 한 것이다."
   ]
  },
  {
   "cell_type": "code",
   "execution_count": 5,
   "id": "1b175c67",
   "metadata": {
    "scrolled": true
   },
   "outputs": [
    {
     "name": "stdout",
     "output_type": "stream",
     "text": [
      "h\n"
     ]
    }
   ],
   "source": [
    "print(sent[-1])"
   ]
  },
  {
   "cell_type": "code",
   "execution_count": 6,
   "id": "5d6e98b2",
   "metadata": {},
   "outputs": [
    {
     "name": "stdout",
     "output_type": "stream",
     "text": [
      "a\n"
     ]
    }
   ],
   "source": [
    "print(sent[-9:-8])"
   ]
  },
  {
   "cell_type": "code",
   "execution_count": 7,
   "id": "a4fc1edc",
   "metadata": {},
   "outputs": [
    {
     "name": "stdout",
     "output_type": "stream",
     "text": [
      "a\n"
     ]
    }
   ],
   "source": [
    "print(sent[0:-8])"
   ]
  },
  {
   "cell_type": "markdown",
   "id": "e6afba9e",
   "metadata": {},
   "source": [
    "# 알아두면 좋아요!\n",
    "## 전체 문자열을 추출할 때 음수를 사용하면 안 됩니다(184쪽)"
   ]
  },
  {
   "cell_type": "markdown",
   "id": "e579630a",
   "metadata": {},
   "source": [
    "- 문자열의 마지막 문자를 추출하려면 인덱스를 -1로 지정하면 된다. 그런데 전체 문자열을 추출하기 위해 인덱스 슬라이싱의 범위를 [0:-1]로 지정하면 마지막 문자는 추출되지 않는다.\n",
    "- 왜그러냐면 바로 인덱스 슬라이싱의 오른쪽 범위로 지정한 값은 문자열 추출 버위에서 제외되기 때문이다. 이런 경우에는 len메서드를 사용하여 문자열의 길이를 오른쪽 범위로 지정하면 된다."
   ]
  },
  {
   "cell_type": "code",
   "execution_count": 8,
   "id": "39a6ce93",
   "metadata": {},
   "outputs": [
    {
     "name": "stdout",
     "output_type": "stream",
     "text": [
      "scratc\n"
     ]
    }
   ],
   "source": [
    "print(sent[2:-1])"
   ]
  },
  {
   "cell_type": "code",
   "execution_count": 11,
   "id": "79565f35",
   "metadata": {},
   "outputs": [
    {
     "name": "stdout",
     "output_type": "stream",
     "text": [
      "scratc\n"
     ]
    }
   ],
   "source": [
    "print(sent[-7:-1])"
   ]
  },
  {
   "cell_type": "code",
   "execution_count": 12,
   "id": "210630d9",
   "metadata": {},
   "outputs": [
    {
     "name": "stdout",
     "output_type": "stream",
     "text": [
      "9\n"
     ]
    }
   ],
   "source": [
    "s_len = len(sent)\n",
    "print(s_len)"
   ]
  },
  {
   "cell_type": "code",
   "execution_count": 13,
   "id": "e5f68e2f",
   "metadata": {},
   "outputs": [
    {
     "name": "stdout",
     "output_type": "stream",
     "text": [
      "scratch\n"
     ]
    }
   ],
   "source": [
    "print(sent[2:s_len])"
   ]
  },
  {
   "cell_type": "markdown",
   "id": "b1621bcd",
   "metadata": {},
   "source": [
    "# 직접 해보세요!\n",
    "## 왼쪽이나 오른쪽 범위를 지정하지 않고 문자열 추출하기(185쪽)"
   ]
  },
  {
   "cell_type": "markdown",
   "id": "811d1724",
   "metadata": {},
   "source": [
    "- 왼쪽 범위를 비우고 문자열을 추출하면 아래와 같이 된다."
   ]
  },
  {
   "cell_type": "code",
   "execution_count": 14,
   "id": "364ca4b6",
   "metadata": {},
   "outputs": [
    {
     "name": "stdout",
     "output_type": "stream",
     "text": [
      "gra\n"
     ]
    }
   ],
   "source": [
    "print(word[0:3])"
   ]
  },
  {
   "cell_type": "code",
   "execution_count": 15,
   "id": "1e444b0a",
   "metadata": {},
   "outputs": [
    {
     "name": "stdout",
     "output_type": "stream",
     "text": [
      "gra\n"
     ]
    }
   ],
   "source": [
    "print(word[ :3])"
   ]
  },
  {
   "cell_type": "markdown",
   "id": "83b02f79",
   "metadata": {},
   "source": [
    "- 만약 오른쪽 범위를 비우면 문자열의 마지막 위치까지 문자열을 추출한다."
   ]
  },
  {
   "cell_type": "code",
   "execution_count": 16,
   "id": "77f2bf3b",
   "metadata": {
    "scrolled": true
   },
   "outputs": [
    {
     "name": "stdout",
     "output_type": "stream",
     "text": [
      "scratch\n"
     ]
    }
   ],
   "source": [
    "print(sent[2:len(sent)])"
   ]
  },
  {
   "cell_type": "code",
   "execution_count": 17,
   "id": "20b894ad",
   "metadata": {},
   "outputs": [
    {
     "name": "stdout",
     "output_type": "stream",
     "text": [
      "scratch\n"
     ]
    }
   ],
   "source": [
    "print(sent[2: ])"
   ]
  },
  {
   "cell_type": "markdown",
   "id": "aeff8a40",
   "metadata": {},
   "source": [
    "- 양쪽을 모두 비우면 전체 문자열을 추출한다"
   ]
  },
  {
   "cell_type": "code",
   "execution_count": 18,
   "id": "50f6b34c",
   "metadata": {},
   "outputs": [
    {
     "name": "stdout",
     "output_type": "stream",
     "text": [
      "a scratch\n"
     ]
    }
   ],
   "source": [
    "print(sent[ : ])"
   ]
  },
  {
   "cell_type": "code",
   "execution_count": 19,
   "id": "3bbb0eb8",
   "metadata": {},
   "outputs": [
    {
     "name": "stdout",
     "output_type": "stream",
     "text": [
      "asrth\n"
     ]
    }
   ],
   "source": [
    "print(sent[::2])"
   ]
  },
  {
   "cell_type": "markdown",
   "id": "00c50482",
   "metadata": {},
   "source": [
    "# 직접 해보세요!\n",
    "## join, splitlines, replace 메서드 실습하기(188쪽)"
   ]
  },
  {
   "cell_type": "markdown",
   "id": "f87ed991",
   "metadata": {},
   "source": [
    "### 1. join 메서드"
   ]
  },
  {
   "cell_type": "markdown",
   "id": "a6f6d58c",
   "metadata": {},
   "source": [
    "- join 메서드는 문자열을 연결하여 새로운 문자열을 반환하는 메서드이다. 다음은 분리된 좌표 데이터(40', 46', ...)를 합친 것이다.\n",
    "- 이때 join 메서드 앞에 문자(' ')를 지정하면 해당 문자를 단어 사이에 넣어 연결해준다."
   ]
  },
  {
   "cell_type": "code",
   "execution_count": 20,
   "id": "22962e96",
   "metadata": {},
   "outputs": [],
   "source": [
    "d1 = '40°' \n",
    "m1 = \"46'\" \n",
    "s1 = '52.837\"' \n",
    "u1 = 'N'\n",
    "\n",
    "d2 = '73°' \n",
    "m2 = \"58'\" \n",
    "s2 = '26.302\"' \n",
    "u2 = 'W'"
   ]
  },
  {
   "cell_type": "code",
   "execution_count": 21,
   "id": "b3cb3639",
   "metadata": {},
   "outputs": [
    {
     "name": "stdout",
     "output_type": "stream",
     "text": [
      "40° 46' 52.837\" N 73° 58' 26.302\" W\n"
     ]
    }
   ],
   "source": [
    "coords = ' '.join([d1, m1, s1, u1, d2, m2, s2, u2])\n",
    "print(coords)"
   ]
  },
  {
   "cell_type": "markdown",
   "id": "4aafae16",
   "metadata": {},
   "source": [
    "### 2. splitlines 메서드"
   ]
  },
  {
   "cell_type": "markdown",
   "id": "c25acb56",
   "metadata": {},
   "source": [
    "- 이번에는 splitlines 메서드에 대해 알아보자.\n",
    "- splitlines메서드는 여러 행을 가진 문자열을 분리한 다음 리스트로 반환한다.\n",
    "- multi_str에 저장된 문자열 splitlines 메서드로 분리하면 다음과 같이 된다."
   ]
  },
  {
   "cell_type": "code",
   "execution_count": 22,
   "id": "793611ba",
   "metadata": {},
   "outputs": [
    {
     "name": "stdout",
     "output_type": "stream",
     "text": [
      "Guard: What? Ridden on a horse?\n",
      "King Arthur: Yes!\n",
      "Guard: You're using coconuts!\n",
      "King Arthur: What?\n",
      "Guard: You've got ... coconut[s] and you're bangin' 'em together. \n",
      "\n"
     ]
    }
   ],
   "source": [
    "multi_str = \"\"\"Guard: What? Ridden on a horse?\n",
    "King Arthur: Yes!\n",
    "Guard: You're using coconuts!\n",
    "King Arthur: What?\n",
    "Guard: You've got ... coconut[s] and you're bangin' 'em together. \n",
    "\"\"\" \n",
    "print(multi_str)"
   ]
  },
  {
   "cell_type": "code",
   "execution_count": 23,
   "id": "602af08e",
   "metadata": {},
   "outputs": [
    {
     "name": "stdout",
     "output_type": "stream",
     "text": [
      "['Guard: What? Ridden on a horse?', 'King Arthur: Yes!', \"Guard: You're using coconuts!\", 'King Arthur: What?', \"Guard: You've got ... coconut[s] and you're bangin' 'em together. \"]\n"
     ]
    }
   ],
   "source": [
    "multi_str_split = multi_str.splitlines() \n",
    "print(multi_str_split)"
   ]
  },
  {
   "cell_type": "markdown",
   "id": "0099efad",
   "metadata": {},
   "source": [
    "- 인덱스 슬라이싱을 응용하면 특정 문자열만 가져올 수도 있다.\n",
    "- 다음은 Guard의 대사만 가져온 것이다."
   ]
  },
  {
   "cell_type": "code",
   "execution_count": 24,
   "id": "6fc89a3a",
   "metadata": {},
   "outputs": [
    {
     "name": "stdout",
     "output_type": "stream",
     "text": [
      "['Guard: What? Ridden on a horse?', \"Guard: You're using coconuts!\", \"Guard: You've got ... coconut[s] and you're bangin' 'em together. \"]\n"
     ]
    }
   ],
   "source": [
    "guard = multi_str_split[::2] \n",
    "print(guard)"
   ]
  },
  {
   "cell_type": "markdown",
   "id": "cc4b47ab",
   "metadata": {},
   "source": [
    "### 4. replace 메서드"
   ]
  },
  {
   "cell_type": "markdown",
   "id": "82a5a289",
   "metadata": {},
   "source": [
    "- 만약 Guard의 대사에서 'Guard:'라는 문자열을 뺴고 싶다면 어떻게 해야 할까?\n",
    "- 문자열을 치환해주는 replace메서드를 사용하면 된다. 다음과 같이 \"Guard : \"를 \"\"로 치환하여 없앴다."
   ]
  },
  {
   "cell_type": "code",
   "execution_count": 25,
   "id": "47ed0de6",
   "metadata": {},
   "outputs": [
    {
     "name": "stdout",
     "output_type": "stream",
     "text": [
      "['What? Ridden on a horse?', \"You're using coconuts!\", \"You've got ... coconut[s] and you're bangin' 'em together. \"]\n"
     ]
    }
   ],
   "source": [
    "guard = multi_str.replace(\"Guard: \", \"\").splitlines()[::2] \n",
    "print(guard)"
   ]
  },
  {
   "cell_type": "markdown",
   "id": "7cec4df7",
   "metadata": {},
   "source": [
    "# 직접 해보세요!\n",
    "## 문자열 포매팅하기(190쪽)"
   ]
  },
  {
   "cell_type": "markdown",
   "id": "ae6f2af1",
   "metadata": {},
   "source": [
    "- 문자열 포매팅은 문자열을 편리하게 출력할 수 있게 해주는 기능이다. 예를 들어 I can swim, I can fly, I can run과 같은 문자열은 I can이라는 문자열에 swim, run, fly와 같은 단어만 바꿔서 출력하는 것이 더 편리하다.\n",
    "- 즉 문자열 포매팅이란 출력할 문자열의 형식을 지정하거나 변수를 조합하여 출력하는 방법을 말한다."
   ]
  },
  {
   "cell_type": "markdown",
   "id": "8edc822b",
   "metadata": {},
   "source": [
    "- 다음과 같이 단어를 삽입할 위치를 {}로 지정하고 format 메서드에 원하는 단어를 전달하면 {}의 위치에 전달할 단어를 삽입해 출력한다.\n",
    "- 이때 {}를 플레이스 홀더라고 부른다."
   ]
  },
  {
   "cell_type": "code",
   "execution_count": 26,
   "id": "27e759cb",
   "metadata": {},
   "outputs": [
    {
     "name": "stdout",
     "output_type": "stream",
     "text": [
      "It's just a flesh wound!\n"
     ]
    }
   ],
   "source": [
    "var = 'flesh wound' \n",
    "s = \"It's just a {}!\"\n",
    "\n",
    "print(s.format(var))"
   ]
  },
  {
   "cell_type": "code",
   "execution_count": 27,
   "id": "8bfe57ae",
   "metadata": {},
   "outputs": [
    {
     "name": "stdout",
     "output_type": "stream",
     "text": [
      "It's just a scratch!\n"
     ]
    }
   ],
   "source": [
    "print(s.format('scratch'))"
   ]
  },
  {
   "cell_type": "markdown",
   "id": "6a831d07",
   "metadata": {},
   "source": [
    "- 플레이스 홀더는 여러 번 사용해도 된다. 하지만 여러 단어를 전달할 때는 어떻게 해야 할까?\n",
    "- format메서드에 여러 단어를 전달하려면 인덱스 개념을 응용하면 된다. 다으은 1개의단어만 사용한다. 따라서 인덱스를 0으로지정한 플레이스 홀더를 사용했다."
   ]
  },
  {
   "cell_type": "code",
   "execution_count": 28,
   "id": "f67d43b3",
   "metadata": {},
   "outputs": [
    {
     "name": "stdout",
     "output_type": "stream",
     "text": [
      "Black Knight: 'Tis but a scratch.\n",
      "King Arthur: A scratch? Your arm's off!\n",
      "\n"
     ]
    }
   ],
   "source": [
    "s = \"\"\"Black Knight: 'Tis but a {0}.\n",
    "King Arthur: A {0}? Your arm's off!\n",
    "\"\"\" \n",
    "print(s.format('scratch'))"
   ]
  },
  {
   "cell_type": "markdown",
   "id": "c9e1435b",
   "metadata": {},
   "source": [
    "- 플레이스 홀더에는 변수를 지정해도 된다. 단, format메서드에 전달하는 문자열도 변수에 담아 전달해야 한다."
   ]
  },
  {
   "cell_type": "code",
   "execution_count": 29,
   "id": "c563fa5d",
   "metadata": {},
   "outputs": [
    {
     "name": "stdout",
     "output_type": "stream",
     "text": [
      "Hayden Planetarium Coordinates: 40.7815° N, 73.9733° W\n"
     ]
    }
   ],
   "source": [
    "s = 'Hayden Planetarium Coordinates: {lat}, {lon}' \n",
    "print(s.format(lat='40.7815° N', lon='73.9733° W'))"
   ]
  },
  {
   "cell_type": "markdown",
   "id": "9c3cf0f3",
   "metadata": {},
   "source": [
    "# 직접 해보세요!\n",
    "## 숫자 데이터 포매팅하기(191쪽)"
   ]
  },
  {
   "cell_type": "markdown",
   "id": "3776ea49",
   "metadata": {},
   "source": [
    "- 숫자 데이터 포매팅을 사용하면 실수의 소수점을 어디까지 출력할지 등을 설정할 수 있다."
   ]
  },
  {
   "cell_type": "markdown",
   "id": "7008edf9",
   "metadata": {},
   "source": [
    "- 숫자 데이터도 플레이스 홀더를 사용할 수 있다."
   ]
  },
  {
   "cell_type": "code",
   "execution_count": 30,
   "id": "864c1d09",
   "metadata": {
    "scrolled": true
   },
   "outputs": [
    {
     "name": "stdout",
     "output_type": "stream",
     "text": [
      "Some digits of pi: 3.14159265359\n"
     ]
    }
   ],
   "source": [
    "print('Some digits of pi: {}'.format(3.14159265359))"
   ]
  },
  {
   "cell_type": "markdown",
   "id": "60054cb5",
   "metadata": {},
   "source": [
    "- 플레이스 홀더에 :, 를 넣으면 쉼표를 넣어 숫자를 표현할 수도 있다."
   ]
  },
  {
   "cell_type": "code",
   "execution_count": 31,
   "id": "c4697ce5",
   "metadata": {
    "scrolled": true
   },
   "outputs": [
    {
     "name": "stdout",
     "output_type": "stream",
     "text": [
      "In 2005, Lu Chao of China recited 67,890 digits of pi\n"
     ]
    }
   ],
   "source": [
    "print(\"In 2005, Lu Chao of China recited {:,} digits of pi\".format(67890))"
   ]
  },
  {
   "cell_type": "markdown",
   "id": "f3a28e37",
   "metadata": {},
   "source": [
    "- 소수는 좀 더 다양한 방법으로 포매팅할 수 있다. 다음은 플레이스홀더에 0:.4, 0:.4%를 넣어 7/67890의 결과값을 포매팅한 것이다.\n",
    "- [0:.4]과 {0:.4%}에서 0은 format메서드에서 전달받을 값(7/67890)의 인덱스를 의미하고, .4는 소수점 이하의 숫자를 4개까지 출력하겠다는 것을 의미한다.\n",
    "- 이때 %를 사용하면 7/67890의 결과값을 백분율로 환산하여 출력한다."
   ]
  },
  {
   "cell_type": "code",
   "execution_count": 32,
   "id": "289d2fb9",
   "metadata": {
    "scrolled": true
   },
   "outputs": [
    {
     "name": "stdout",
     "output_type": "stream",
     "text": [
      "I remember 0.0001031 or 0.0103% of what Lu Chao recited\n"
     ]
    }
   ],
   "source": [
    "print(\"I remember {0:.4} or {0:.4%} of what Lu Chao recited\".format(7/67890))"
   ]
  },
  {
   "cell_type": "markdown",
   "id": "d0398a7d",
   "metadata": {},
   "source": [
    "- 만약 사용자의 아이디가 5자리의 숫자로 표현되어야 한다면 42와 같은 2자리의 값은 00042로 출력해야 한다.\n",
    "- 다음은 format의 0번째 값(42)을 5자리의 수로 표현하되 빈칸을 0으로 채워 출력한 것이다."
   ]
  },
  {
   "cell_type": "code",
   "execution_count": 33,
   "id": "f1004531",
   "metadata": {},
   "outputs": [
    {
     "name": "stdout",
     "output_type": "stream",
     "text": [
      "My ID number is 00042\n"
     ]
    }
   ],
   "source": [
    "print(\"My ID number is {0:05d}\".format(42))"
   ]
  },
  {
   "cell_type": "markdown",
   "id": "f1de19bc",
   "metadata": {},
   "source": [
    "# 직접 해보세요!\n",
    "## % 연산자로 포매팅하기(192쪽)"
   ]
  },
  {
   "cell_type": "markdown",
   "id": "f33d2935",
   "metadata": {},
   "source": [
    "- 만약 삽입할 값이 10진수람녀 값을 삽입할 위치에 %d라고 입력해야 한다. 그런 다음 % 연산자를 이용하여 삽입할 값(7)을 지정하여 출력한다."
   ]
  },
  {
   "cell_type": "code",
   "execution_count": 34,
   "id": "a0184701",
   "metadata": {},
   "outputs": [
    {
     "name": "stdout",
     "output_type": "stream",
     "text": [
      "I only know 7 digits of pi\n"
     ]
    }
   ],
   "source": [
    "s = 'I only know %d digits of pi' % 7 \n",
    "print(s)"
   ]
  },
  {
   "cell_type": "markdown",
   "id": "24e8a5a7",
   "metadata": {},
   "source": [
    "- 만약 삽입할 값이 문자열이라면 값을 삽입할 위치에 %s라고 입력해야 한다. 이때 %와 s 사이에 소괄호를 사용하여 변수를 지정한다."
   ]
  },
  {
   "cell_type": "code",
   "execution_count": 35,
   "id": "c7010f83",
   "metadata": {
    "scrolled": true
   },
   "outputs": [
    {
     "name": "stdout",
     "output_type": "stream",
     "text": [
      "Some digits of e: 2.72\n"
     ]
    }
   ],
   "source": [
    "print('Some digits of %(cont)s: %(value).2f' % {'cont': 'e', 'value': 2.718})"
   ]
  },
  {
   "cell_type": "markdown",
   "id": "62dc2646",
   "metadata": {},
   "source": [
    "# 알아두면 좋아요!\n",
    "## f-strings로 포매팅 사용하기(193쪽)"
   ]
  },
  {
   "cell_type": "markdown",
   "id": "fbbe7cee",
   "metadata": {},
   "source": [
    "- f-strings포매팅은 파이썬 3.6 버전에서 새롭게 도입한 포매팅이다. f-strings 포매팅의 사용 방법은 format 메서드의 사용 방법과 동일하다. \n",
    "- f-strings포매팅은 읽기 쉬울 뿐만 아니라 문자열을 빠르게 처리한다는 장점이 있다."
   ]
  },
  {
   "cell_type": "code",
   "execution_count": 36,
   "id": "3cb099c5",
   "metadata": {},
   "outputs": [
    {
     "name": "stdout",
     "output_type": "stream",
     "text": [
      "It's just a flesh wound!\n"
     ]
    }
   ],
   "source": [
    "var = 'flesh wound' \n",
    "s = f\"It's just a {var}!\" \n",
    "print(s)"
   ]
  },
  {
   "cell_type": "code",
   "execution_count": 37,
   "id": "6de5a249",
   "metadata": {},
   "outputs": [
    {
     "name": "stdout",
     "output_type": "stream",
     "text": [
      "Hayden Planetarium Coordinates: 40.7815°N, 73.9733°W\n"
     ]
    }
   ],
   "source": [
    "lat='40.7815°N' \n",
    "lon='73.9733°W' \n",
    "s = f'Hayden Planetarium Coordinates: {lat}, {lon}' \n",
    "print(s)"
   ]
  },
  {
   "cell_type": "code",
   "execution_count": null,
   "id": "df9958a4",
   "metadata": {},
   "outputs": [],
   "source": []
  }
 ],
 "metadata": {
  "kernelspec": {
   "display_name": "Python 3 (ipykernel)",
   "language": "python",
   "name": "python3"
  },
  "language_info": {
   "codemirror_mode": {
    "name": "ipython",
    "version": 3
   },
   "file_extension": ".py",
   "mimetype": "text/x-python",
   "name": "python",
   "nbconvert_exporter": "python",
   "pygments_lexer": "ipython3",
   "version": "3.9.13"
  }
 },
 "nbformat": 4,
 "nbformat_minor": 5
}
