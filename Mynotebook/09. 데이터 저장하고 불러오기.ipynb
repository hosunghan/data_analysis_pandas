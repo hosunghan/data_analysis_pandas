{
 "cells": [
  {
   "cell_type": "markdown",
   "id": "d60976c8",
   "metadata": {},
   "source": [
    "# 직접 해보세요!\n",
    "## 데이터를 피클, CSV, TSV 파일로 저장하고 불러오기(72쪽)"
   ]
  },
  {
   "cell_type": "markdown",
   "id": "b5c4a1b5",
   "metadata": {},
   "source": [
    "### 1. 피클로 저장하기"
   ]
  },
  {
   "cell_type": "markdown",
   "id": "6556e796",
   "metadata": {},
   "source": [
    "- 피클은 데이터를 바이너리 형태로 직렬화한 오브젝트를 저장하는 방법이다. 피클로 저장하면 스프레드시트보다 더 작은 용량으로 데이터를 저장할 수 있어 매우 편리하다.\n",
    "- 시리즈를 피클로 저장하려면 to_pickle 메서드를 사용하면 되는데, 이 때 저장 경로를 문자열로 전달해야 한다."
   ]
  },
  {
   "cell_type": "code",
   "execution_count": 19,
   "id": "1583d88f",
   "metadata": {},
   "outputs": [],
   "source": [
    "names = scientists['Name'] "
   ]
  },
  {
   "cell_type": "code",
   "execution_count": 20,
   "id": "68aabfdc",
   "metadata": {},
   "outputs": [],
   "source": [
    "names.to_pickle('../output/scientists_names_series.pickle')"
   ]
  },
  {
   "cell_type": "markdown",
   "id": "74103746",
   "metadata": {},
   "source": [
    "- 2. 데이터프레임도 피클로 저장할 수 있다."
   ]
  },
  {
   "cell_type": "code",
   "execution_count": 21,
   "id": "eb141e98",
   "metadata": {},
   "outputs": [],
   "source": [
    "scientists.to_pickle('../output/scientists_df.pickle')"
   ]
  },
  {
   "cell_type": "markdown",
   "id": "e2320c41",
   "metadata": {},
   "source": [
    "- 3. 피클은 바이너리 형태의 오브젝트이기 때문에 저장된 피클 데이터를 편집기와 같은 프로그램으로 열어보면 이상한 문자가 나타난다.\n",
    "- 피클 데이터는 반드시 read_pickle 메서드로 읽어야 한다."
   ]
  },
  {
   "cell_type": "code",
   "execution_count": 53,
   "id": "05952608",
   "metadata": {},
   "outputs": [
    {
     "name": "stdout",
     "output_type": "stream",
     "text": [
      "0       Rosaline Franklin\n",
      "1          William Gosset\n",
      "2    Florence Nightingale\n",
      "3             Marie Curie\n",
      "4           Rachel Carson\n",
      "5               John Snow\n",
      "6             Alan Turing\n",
      "7            Johann Gauss\n",
      "Name: Name, dtype: object\n"
     ]
    }
   ],
   "source": [
    "scientist_names_from_pickle = pd.read_pickle('../output/scientists_names_series.pickle')\n",
    "print(scientist_names_from_pickle)"
   ]
  },
  {
   "cell_type": "code",
   "execution_count": 54,
   "id": "4d6e5388",
   "metadata": {},
   "outputs": [
    {
     "name": "stdout",
     "output_type": "stream",
     "text": [
      "                   Name        Born        Died  Age          Occupation  \\\n",
      "0     Rosaline Franklin  1920-07-25  1958-04-16   66             Chemist   \n",
      "1        William Gosset  1876-06-13  1937-10-16   56        Statistician   \n",
      "2  Florence Nightingale  1820-05-12  1910-08-13   41               Nurse   \n",
      "3           Marie Curie  1867-11-07  1934-07-04   77             Chemist   \n",
      "4         Rachel Carson  1907-05-27  1964-04-14   90           Biologist   \n",
      "5             John Snow  1813-03-15  1858-06-16   45           Physician   \n",
      "6           Alan Turing  1912-06-23  1954-06-07   37  Computer Scientist   \n",
      "7          Johann Gauss  1777-04-30  1855-02-23   61       Mathematician   \n",
      "\n",
      "     born_dt    died_dt age_days_dt  \n",
      "0 1920-07-25 1958-04-16  13779 days  \n",
      "1 1876-06-13 1937-10-16  22404 days  \n",
      "2 1820-05-12 1910-08-13  32964 days  \n",
      "3 1867-11-07 1934-07-04  24345 days  \n",
      "4 1907-05-27 1964-04-14  20777 days  \n",
      "5 1813-03-15 1858-06-16  16529 days  \n",
      "6 1912-06-23 1954-06-07  15324 days  \n",
      "7 1777-04-30 1855-02-23  28422 days  \n"
     ]
    }
   ],
   "source": [
    "scientists_from_pickle = pd.read_pickle('../output/scientists_df.pickle')\n",
    "print(scientists_from_pickle)"
   ]
  },
  {
   "cell_type": "markdown",
   "id": "c079a4ae",
   "metadata": {},
   "source": [
    "### 4. CSV 파일과 TSV 파일로 저장하기"
   ]
  },
  {
   "cell_type": "markdown",
   "id": "9b1d667b",
   "metadata": {},
   "source": [
    "- CSV파일은 데이터를 쉼표로 구분하여 저장한 파일이고 TSV파일은 데이터를 탭으로 구분하여 저장한 파일이다.\n",
    "- 실제로 각각의 파일을 텍스트 편집기로 열어 살펴보면 데이터가 쉼표, 탭으로 구분되어 있는 것을 알 수 있다."
   ]
  },
  {
   "cell_type": "markdown",
   "id": "bf9088ee",
   "metadata": {},
   "source": [
    "- 5. to_csv 메서드로 시리즈와 데이터프레임을 csv 파일로 저장할 수 있다.\n",
    "- 이때 sep 인자를 추가하여 '\\t'를 지정하고 파일의 확장자를 '.tsv'로 지정하면 TSV파일로 저장할 수 있다."
   ]
  },
  {
   "cell_type": "code",
   "execution_count": 55,
   "id": "72692c35",
   "metadata": {},
   "outputs": [],
   "source": [
    "names.to_csv('../output/scientist_names_series.csv')"
   ]
  },
  {
   "cell_type": "code",
   "execution_count": 56,
   "id": "7f3b6600",
   "metadata": {},
   "outputs": [],
   "source": [
    "scientists.to_csv('../output/scientists_df.tsv', sep='\\t')"
   ]
  },
  {
   "cell_type": "code",
   "execution_count": 57,
   "id": "bbbdab39",
   "metadata": {},
   "outputs": [],
   "source": [
    "scientists.to_csv('../output/scientists_df_no_index.csv', index=False)"
   ]
  },
  {
   "cell_type": "markdown",
   "id": "e508c93f",
   "metadata": {},
   "source": [
    "- 시리즈와 데이터프레임을 엑셀 파일로 저장하기\n",
    "- 시리즈는 엑셀 구조와 맞지 않기 때문에 엑셀 파일로 저장할 수 없다. 물론 데이터프레임은 엑셀 파일로 바로 저장할 수 있다. \n",
    "- 단, xls파일로 저장하려면 xlwt라이브러리가 필요하고, xlsx파일로 저장하려면 openpyxl 라이브러리가 필요하다."
   ]
  },
  {
   "cell_type": "code",
   "execution_count": 58,
   "id": "eeb06bff",
   "metadata": {},
   "outputs": [],
   "source": [
    "names_df = names.to_frame()\n",
    "\n",
    "import xlwt \n",
    "names_df.to_excel('../output/scientists_names_series_df.xls')\n",
    "\n",
    "import openpyxl \n",
    "names_df.to_excel('../output/scientists_names_series_df.xlsx')"
   ]
  },
  {
   "cell_type": "code",
   "execution_count": null,
   "id": "5ce6aef5",
   "metadata": {},
   "outputs": [],
   "source": []
  }
 ],
 "metadata": {
  "kernelspec": {
   "display_name": "Python 3 (ipykernel)",
   "language": "python",
   "name": "python3"
  },
  "language_info": {
   "codemirror_mode": {
    "name": "ipython",
    "version": 3
   },
   "file_extension": ".py",
   "mimetype": "text/x-python",
   "name": "python",
   "nbconvert_exporter": "python",
   "pygments_lexer": "ipython3",
   "version": "3.9.13"
  }
 },
 "nbformat": 4,
 "nbformat_minor": 5
}
