{
 "cells": [
  {
   "cell_type": "markdown",
   "id": "0ad435ce",
   "metadata": {},
   "source": [
    "# 직접 해보세요!\n",
    "## 데이터프레임의 누락값을 처리한 다음 apply 메서드 사용하기(208쪽)"
   ]
  },
  {
   "cell_type": "markdown",
   "id": "cd275176",
   "metadata": {},
   "source": [
    "- 이번에 사용할 데이터는 seaborn 라이브러리의 titanic데이터 집합이다."
   ]
  },
  {
   "cell_type": "markdown",
   "id": "85aeb479",
   "metadata": {},
   "source": [
    "### 1. 데이터프레임의 누락값 처리하기 ― 열 방향"
   ]
  },
  {
   "cell_type": "markdown",
   "id": "43c14b60",
   "metadata": {},
   "source": [
    "- 이번에도 seaborn라이브러리에 있는 데이터를 사용한다.\n",
    "- seaborn라이브러리에 있는 titanic데이터 집합을 불러와 변수 titanic에 저장한다."
   ]
  },
  {
   "cell_type": "code",
   "execution_count": 33,
   "id": "4a605d02",
   "metadata": {},
   "outputs": [],
   "source": [
    "import seaborn as sns\n",
    "\n",
    "titanic = sns.load_dataset(\"titanic\")"
   ]
  },
  {
   "cell_type": "markdown",
   "id": "ad87e7dc",
   "metadata": {},
   "source": [
    "- 다음은 titanic 데이터프레임의 데이터 정보를 출력한 것이다."
   ]
  },
  {
   "cell_type": "code",
   "execution_count": 34,
   "id": "50e3e92e",
   "metadata": {},
   "outputs": [
    {
     "name": "stdout",
     "output_type": "stream",
     "text": [
      "<class 'pandas.core.frame.DataFrame'>\n",
      "RangeIndex: 891 entries, 0 to 890\n",
      "Data columns (total 15 columns):\n",
      "survived       891 non-null int64\n",
      "pclass         891 non-null int64\n",
      "sex            891 non-null object\n",
      "age            714 non-null float64\n",
      "sibsp          891 non-null int64\n",
      "parch          891 non-null int64\n",
      "fare           891 non-null float64\n",
      "embarked       889 non-null object\n",
      "class          891 non-null category\n",
      "who            891 non-null object\n",
      "adult_male     891 non-null bool\n",
      "deck           203 non-null category\n",
      "embark_town    889 non-null object\n",
      "alive          891 non-null object\n",
      "alone          891 non-null bool\n",
      "dtypes: bool(2), category(2), float64(2), int64(4), object(5)\n",
      "memory usage: 80.6+ KB\n",
      "None\n"
     ]
    }
   ],
   "source": [
    "print(titanic.info())"
   ]
  },
  {
   "cell_type": "markdown",
   "id": "06e095b2",
   "metadata": {},
   "source": [
    "- 다음은 누락값의 개수를 반환하는 count_missing함수이다. 판다스의 isnull메서드에 데이터프레임을 전달하면 누락값의 유무에 따라 True, False를 적용한 데이터프레임이 만들어 진다.\n",
    "- 이 값을 넘파이의 sum메서드에 전달하면 누락값의 개수를 구할 수 있다."
   ]
  },
  {
   "cell_type": "code",
   "execution_count": 10,
   "id": "06fcd98c",
   "metadata": {},
   "outputs": [],
   "source": [
    "import numpy as np\n",
    "\n",
    "def count_missing(vec):\n",
    "    null_vec = pd.isnull(vec)\n",
    "    null_count = np.sum(null_vec)\n",
    "    return null_count"
   ]
  },
  {
   "cell_type": "markdown",
   "id": "76e2c6c1",
   "metadata": {},
   "source": [
    "- 다음은 apply메서드에 count_missing함수를 전달하여 얻은 결과이다."
   ]
  },
  {
   "cell_type": "code",
   "execution_count": 41,
   "id": "eaa236c4",
   "metadata": {},
   "outputs": [
    {
     "name": "stdout",
     "output_type": "stream",
     "text": [
      "survived         0\n",
      "pclass           0\n",
      "sex              0\n",
      "age            177\n",
      "sibsp            0\n",
      "parch            0\n",
      "fare             0\n",
      "embarked         2\n",
      "class            0\n",
      "who              0\n",
      "adult_male       0\n",
      "deck           688\n",
      "embark_town      2\n",
      "alive            0\n",
      "alone            0\n",
      "dtype: int64\n"
     ]
    }
   ],
   "source": [
    "cmis_col = titanic.apply(count_missing)\n",
    "print(cmis_col)"
   ]
  },
  {
   "cell_type": "markdown",
   "id": "bacf6404",
   "metadata": {},
   "source": [
    "- 다음은 누락값의 비율을 계산하는 prop_missing함수이다. 위에서 작성한 count_missing함수를 이용해 데이터프레임의 누락값 개수를 구하고 size속성을 이용해 데이터프레임의 전체 데이터 수를 구하여 나누면 누락값의 비율을 계산할 수 있다."
   ]
  },
  {
   "cell_type": "code",
   "execution_count": 43,
   "id": "9551d79e",
   "metadata": {},
   "outputs": [],
   "source": [
    "def prop_missing(vec):\n",
    "    num = count_missing(vec)\n",
    "    dem = vec.size\n",
    "    return num / dem"
   ]
  },
  {
   "cell_type": "code",
   "execution_count": 45,
   "id": "edc0447a",
   "metadata": {},
   "outputs": [
    {
     "name": "stdout",
     "output_type": "stream",
     "text": [
      "survived       0.000000\n",
      "pclass         0.000000\n",
      "sex            0.000000\n",
      "age            0.198653\n",
      "sibsp          0.000000\n",
      "parch          0.000000\n",
      "fare           0.000000\n",
      "embarked       0.002245\n",
      "class          0.000000\n",
      "who            0.000000\n",
      "adult_male     0.000000\n",
      "deck           0.772166\n",
      "embark_town    0.002245\n",
      "alive          0.000000\n",
      "alone          0.000000\n",
      "dtype: float64\n"
     ]
    }
   ],
   "source": [
    "pmis_col = titanic.apply(prop_missing)\n",
    "print(pmis_col)"
   ]
  },
  {
   "cell_type": "markdown",
   "id": "10865ced",
   "metadata": {},
   "source": [
    "- 위의 과정에서 작성한 prop_missing함수를 이용하면 누락값이 아닌 데이터의 비율도 구할 수 있다.\n",
    "- 전체 비율(1)에서 누락값의 비율을 빼면 된다. 위의 과정에서 같은 방법으로 apply메서드에 prop_complete 함수를 전달하여 결과를 확인해보자."
   ]
  },
  {
   "cell_type": "code",
   "execution_count": 46,
   "id": "95d68b00",
   "metadata": {},
   "outputs": [],
   "source": [
    "def prop_complete(vec):\n",
    "    return 1 - prop_missing(vec)"
   ]
  },
  {
   "cell_type": "markdown",
   "id": "7d715073",
   "metadata": {},
   "source": [
    "### 8. 데이터프레임의 누락값을 처리하기 ― 행 방뱡"
   ]
  },
  {
   "cell_type": "markdown",
   "id": "3148112f",
   "metadata": {},
   "source": [
    "- 이번에는 행 방향으로 데이터를 처리해보자. 다음은 axis를 1ㄹ로 설정하여 앞에서 만든 count_missing, prop_missing, prop_complete 함수를 행 방향으로 적용하여 실행한 것이다.\n",
    "- 각 행의 누락값의 비율, 누락값이 아닌 값의 비율을 잘 계산하고 있다는 것을 알 수 있다."
   ]
  },
  {
   "cell_type": "code",
   "execution_count": 48,
   "id": "8bf81911",
   "metadata": {},
   "outputs": [
    {
     "name": "stdout",
     "output_type": "stream",
     "text": [
      "0    1\n",
      "1    0\n",
      "2    1\n",
      "3    0\n",
      "4    1\n",
      "dtype: int64\n"
     ]
    }
   ],
   "source": [
    "cmis_row = titanic.apply(count_missing, axis=1)\n",
    "pmis_row = titanic.apply(prop_missing, axis=1)\n",
    "pcom_row = titanic.apply(prop_complete, axis=1)\n",
    "\n",
    "print(cmis_row.head())"
   ]
  },
  {
   "cell_type": "code",
   "execution_count": 49,
   "id": "5b418d00",
   "metadata": {},
   "outputs": [
    {
     "name": "stdout",
     "output_type": "stream",
     "text": [
      "0    0.066667\n",
      "1    0.000000\n",
      "2    0.066667\n",
      "3    0.000000\n",
      "4    0.066667\n",
      "dtype: float64\n"
     ]
    }
   ],
   "source": [
    "print(pmis_row.head())"
   ]
  },
  {
   "cell_type": "code",
   "execution_count": 50,
   "id": "97daea52",
   "metadata": {},
   "outputs": [
    {
     "name": "stdout",
     "output_type": "stream",
     "text": [
      "0    0.933333\n",
      "1    1.000000\n",
      "2    0.933333\n",
      "3    1.000000\n",
      "4    0.933333\n",
      "dtype: float64\n"
     ]
    }
   ],
   "source": [
    "print(pcom_row.head())"
   ]
  },
  {
   "cell_type": "markdown",
   "id": "c763122c",
   "metadata": {},
   "source": [
    "- 다음은 누락값의 개수를 구하여 titanic 데이터프레임에 추가한 것이다.\n",
    "- 데이터프레임에 num_missing열이 추가된 것을 알 수 있다."
   ]
  },
  {
   "cell_type": "code",
   "execution_count": 51,
   "id": "76ed794a",
   "metadata": {},
   "outputs": [
    {
     "name": "stdout",
     "output_type": "stream",
     "text": [
      "   survived  pclass     sex   age  sibsp  parch     fare embarked  class  \\\n",
      "0         0       3    male  22.0      1      0   7.2500        S  Third   \n",
      "1         1       1  female  38.0      1      0  71.2833        C  First   \n",
      "2         1       3  female  26.0      0      0   7.9250        S  Third   \n",
      "3         1       1  female  35.0      1      0  53.1000        S  First   \n",
      "4         0       3    male  35.0      0      0   8.0500        S  Third   \n",
      "\n",
      "     who  adult_male deck  embark_town alive  alone  num_missing  \n",
      "0    man        True  NaN  Southampton    no  False            1  \n",
      "1  woman       False    C    Cherbourg   yes  False            0  \n",
      "2  woman       False  NaN  Southampton   yes   True            1  \n",
      "3  woman       False    C  Southampton   yes  False            0  \n",
      "4    man        True  NaN  Southampton    no   True            1  \n"
     ]
    }
   ],
   "source": [
    "titanic['num_missing'] = titanic.apply(count_missing, axis=1)\n",
    "\n",
    "print(titanic.head())"
   ]
  },
  {
   "cell_type": "markdown",
   "id": "2af208cd",
   "metadata": {},
   "source": [
    "- 위의 과정에서 누락값이 있는 데이터를 데이터프레임에 추가했기 때문에 누락값이 있는 데이터만 따로 모아서 볼 수도 있다.\n",
    "- 다음은 누락값이 2개 이상인 데이터를 추출한 것이다."
   ]
  },
  {
   "cell_type": "code",
   "execution_count": 53,
   "id": "1b830a82",
   "metadata": {
    "scrolled": true
   },
   "outputs": [
    {
     "name": "stdout",
     "output_type": "stream",
     "text": [
      "     survived  pclass     sex  age  sibsp  parch     fare embarked   class  \\\n",
      "186         1       3  female  NaN      1      0  15.5000        Q   Third   \n",
      "274         1       3  female  NaN      0      0   7.7500        Q   Third   \n",
      "410         0       3    male  NaN      0      0   7.8958        S   Third   \n",
      "547         1       2    male  NaN      0      0  13.8625        C  Second   \n",
      "601         0       3    male  NaN      0      0   7.8958        S   Third   \n",
      "578         0       3  female  NaN      1      0  14.4583        C   Third   \n",
      "76          0       3    male  NaN      0      0   7.8958        S   Third   \n",
      "560         0       3    male  NaN      0      0   7.7500        Q   Third   \n",
      "511         0       3    male  NaN      0      0   8.0500        S   Third   \n",
      "495         0       3    male  NaN      0      0  14.4583        C   Third   \n",
      "\n",
      "       who  adult_male deck  embark_town alive  alone  num_missing  \n",
      "186  woman       False  NaN   Queenstown   yes  False            2  \n",
      "274  woman       False  NaN   Queenstown   yes   True            2  \n",
      "410    man        True  NaN  Southampton    no   True            2  \n",
      "547    man        True  NaN    Cherbourg   yes   True            2  \n",
      "601    man        True  NaN  Southampton    no   True            2  \n",
      "578  woman       False  NaN    Cherbourg    no  False            2  \n",
      "76     man        True  NaN  Southampton    no   True            2  \n",
      "560    man        True  NaN   Queenstown    no   True            2  \n",
      "511    man        True  NaN  Southampton    no   True            2  \n",
      "495    man        True  NaN    Cherbourg    no   True            2  \n"
     ]
    }
   ],
   "source": [
    "print(titanic.loc[titanic.num_missing > 1, :].sample(10))"
   ]
  },
  {
   "cell_type": "code",
   "execution_count": null,
   "id": "6fdffbc3",
   "metadata": {},
   "outputs": [],
   "source": []
  }
 ],
 "metadata": {
  "kernelspec": {
   "display_name": "Python 3 (ipykernel)",
   "language": "python",
   "name": "python3"
  },
  "language_info": {
   "codemirror_mode": {
    "name": "ipython",
    "version": 3
   },
   "file_extension": ".py",
   "mimetype": "text/x-python",
   "name": "python",
   "nbconvert_exporter": "python",
   "pygments_lexer": "ipython3",
   "version": "3.9.13"
  }
 },
 "nbformat": 4,
 "nbformat_minor": 5
}
