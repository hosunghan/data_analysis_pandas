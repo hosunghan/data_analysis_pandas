{
 "cells": [
  {
   "cell_type": "markdown",
   "id": "3b3adb52",
   "metadata": {},
   "source": [
    "# 직접 해보세요!\n",
    "## groupby 메서드로 평균값 구하기(215쪽)"
   ]
  },
  {
   "cell_type": "markdown",
   "id": "5d9da5cd",
   "metadata": {},
   "source": [
    "- 수집한 데이터를 바탕으로 평균이나 합 등을 구하여 의미 있는 값을 도출해 내는 것을 '집계'라고 한다.\n",
    "- 데이터를 집계하면 전체 데이터를 요약, 정리하여 볼 수 있기 때문에 데이터 분석이 훨씬 편해진다.\n",
    "- 그러면 groupby 메서드로 평균값을 구하는 과정을 통해 데이터 집계가 무엇인지 알아보자."
   ]
  },
  {
   "cell_type": "markdown",
   "id": "a4cb12ba",
   "metadata": {},
   "source": [
    "- 먼저 갭마인더 데이터 집합을 불러온다."
   ]
  },
  {
   "cell_type": "code",
   "execution_count": 2,
   "id": "340b894a",
   "metadata": {},
   "outputs": [],
   "source": [
    "import pandas as pd \n",
    "df = pd.read_csv('../data/gapminder.tsv', sep='\\t')"
   ]
  },
  {
   "cell_type": "markdown",
   "id": "b782662a",
   "metadata": {},
   "source": [
    "- 다음은 year열을 기준으로 데이터를 그룹화한 다음 lifeExp열의 평균을 구한 것이다."
   ]
  },
  {
   "cell_type": "code",
   "execution_count": 3,
   "id": "723cd97f",
   "metadata": {},
   "outputs": [
    {
     "name": "stdout",
     "output_type": "stream",
     "text": [
      "year\n",
      "1952    49.057620\n",
      "1957    51.507401\n",
      "1962    53.609249\n",
      "1967    55.678290\n",
      "1972    57.647386\n",
      "1977    59.570157\n",
      "1982    61.533197\n",
      "1987    63.212613\n",
      "1992    64.160338\n",
      "1997    65.014676\n",
      "2002    65.694923\n",
      "2007    67.007423\n",
      "Name: lifeExp, dtype: float64\n"
     ]
    }
   ],
   "source": [
    "avg_life_exp_by_year = df.groupby('year').lifeExp.mean() \n",
    "print(avg_life_exp_by_year)\n",
    "\n",
    "# avg_life_exp_by_year = df.groupby('year')['lifeExp'].mean()\n",
    "# print(avg_life_exp_by_year)"
   ]
  },
  {
   "cell_type": "markdown",
   "id": "af12f4ee",
   "metadata": {},
   "source": [
    "# 직접 해보세요!\n",
    "## 분할-반영-결합 과정 살펴보기(216쪽)"
   ]
  },
  {
   "cell_type": "markdown",
   "id": "bfa0bbb6",
   "metadata": {},
   "source": [
    "- 앞에서 groupby 메서드를 사용해 lifeExp 열의 연도별 평균값을 구했다. 그러면 실제로 groupby메서드는 어떤 과정을 통해 데이터를 집계할까?\n",
    "- gruopby 메서드 자체를 분해하여 살펴보는 것은 불가능하기 때문에 비슷한 연산을 수행하는 메서드를 순서대로 실행하며 알아보자."
   ]
  },
  {
   "cell_type": "code",
   "execution_count": 4,
   "id": "c7d74c49",
   "metadata": {},
   "outputs": [
    {
     "name": "stdout",
     "output_type": "stream",
     "text": [
      "[1952 1957 1962 1967 1972 1977 1982 1987 1992 1997 2002 2007]\n"
     ]
    }
   ],
   "source": [
    "years = df.year.unique() \n",
    "print(years)"
   ]
  },
  {
   "cell_type": "markdown",
   "id": "c63f0730",
   "metadata": {},
   "source": [
    "- 실제로 groupby메서드에 life열을 전달하면 가장 먼저 연도별로 데이터를 나누는 과정이 진행된다.\n",
    "- 다음은 year열의 데이터를 중복 없이 추출한 것이다. groupby메서드에 열 이름을 전달하면 이런 '분할'작업이 먼저 일어난다고 이해하자."
   ]
  },
  {
   "cell_type": "code",
   "execution_count": 5,
   "id": "71314d6c",
   "metadata": {},
   "outputs": [
    {
     "name": "stdout",
     "output_type": "stream",
     "text": [
      "        country continent  year  lifeExp       pop    gdpPercap\n",
      "0   Afghanistan      Asia  1952   28.801   8425333   779.445314\n",
      "12      Albania    Europe  1952   55.230   1282697  1601.056136\n",
      "24      Algeria    Africa  1952   43.077   9279525  2449.008185\n",
      "36       Angola    Africa  1952   30.015   4232095  3520.610273\n",
      "48    Argentina  Americas  1952   62.485  17876956  5911.315053\n"
     ]
    }
   ],
   "source": [
    "y1952 = df.loc[df.year == 1952, :] \n",
    "print(y1952.head())"
   ]
  },
  {
   "cell_type": "markdown",
   "id": "5f925f15",
   "metadata": {},
   "source": [
    "- 아직 lifeExp 열의 평균값을 구하지 않았다. 다음의 과정에서 추출한 1952년의 데이터에서 lifeExp열의 평균값을 구한 것이다. 이 과정도 '반영' 작업의 한 부분이다."
   ]
  },
  {
   "cell_type": "code",
   "execution_count": 6,
   "id": "978943ca",
   "metadata": {},
   "outputs": [
    {
     "name": "stdout",
     "output_type": "stream",
     "text": [
      "49.05761971830987\n"
     ]
    }
   ],
   "source": [
    "y1952_mean = y1952.lifeExp.mean() \n",
    "print(y1952_mean)"
   ]
  },
  {
   "cell_type": "markdown",
   "id": "e93bafa8",
   "metadata": {},
   "source": [
    "- 위의 과정을 반복하여 남은 연도의 평균값을 구하면 비로서 '반영' 작업이 끝난다."
   ]
  },
  {
   "cell_type": "code",
   "execution_count": 7,
   "id": "19f96aba",
   "metadata": {
    "scrolled": true
   },
   "outputs": [
    {
     "name": "stdout",
     "output_type": "stream",
     "text": [
      "51.50740112676054\n",
      "53.60924901408449\n",
      "67.00742253521126\n"
     ]
    }
   ],
   "source": [
    "y1957 = df.loc[df.year == 1957, :] \n",
    "y1957_mean = y1957.lifeExp.mean( )\n",
    "print(y1957_mean)\n",
    "\n",
    "y1962 = df.loc[df.year == 1962, :] \n",
    "y1962_mean = y1962.lifeExp.mean( )\n",
    "print(y1962_mean)\n",
    "\n",
    "y2007 = df.loc[df.year == 2007, :] \n",
    "y2007_mean = y2007.lifeExp.mean( )\n",
    "print(y2007_mean)"
   ]
  },
  {
   "cell_type": "markdown",
   "id": "18168bcb",
   "metadata": {},
   "source": [
    "- 마지막으로 연도별 계산한 lifeExp의 평균값을 합친다. 바로 이 과정이 '결합' 작업이다."
   ]
  },
  {
   "cell_type": "code",
   "execution_count": 8,
   "id": "fe3205f2",
   "metadata": {
    "scrolled": true
   },
   "outputs": [
    {
     "name": "stdout",
     "output_type": "stream",
     "text": [
      "   year           \n",
      "0  1952  49.057620\n",
      "1  1957  51.507401\n",
      "2  1962  53.609249\n",
      "3  2007  67.007423\n"
     ]
    }
   ],
   "source": [
    "df2 = pd.DataFrame({\"year\":[1952, 1957, 1962, 2007], \n",
    "                    \"\":[y1952_mean, y1957_mean,y1962_mean,y2007_mean]}) \n",
    "print(df2)"
   ]
  },
  {
   "cell_type": "markdown",
   "id": "908fdfcd",
   "metadata": {},
   "source": [
    "# 직접 해보세요!\n",
    "## 평균값을 구하는 사용자 함수와 groupby 메서드(219쪽)"
   ]
  },
  {
   "cell_type": "markdown",
   "id": "30f4920f",
   "metadata": {},
   "source": [
    "- 라이브러리에서 제공하는 집계 메서드로 원하는 값을 계산할 수 없을 경우에는 직접 함수를 만들어서 사용해야 한다.\n",
    "- 이번에는 사용자 함수와 groupby 메서드를 조합해서 사용해보자. 사용자 함수와 groupby메서드를 조합하려면 agg메서드를 이용해야 한다."
   ]
  },
  {
   "cell_type": "markdown",
   "id": "4eb41ced",
   "metadata": {},
   "source": [
    "- 다음은 입력받은 열의 평균값을 구하는 함수다."
   ]
  },
  {
   "cell_type": "code",
   "execution_count": 11,
   "id": "f1cd0ef9",
   "metadata": {},
   "outputs": [],
   "source": [
    "def my_mean(values):\n",
    "    n = len(values)\n",
    "    \n",
    "    sum = 0 \n",
    "    for value in values:\n",
    "        sum += value\n",
    "    \n",
    "    return sum / n"
   ]
  },
  {
   "cell_type": "markdown",
   "id": "f2dc29df",
   "metadata": {},
   "source": [
    "- 다음은 위에서 만든 함수를 groupby 메서드와 조합하기 위해 agg메서드를 사용한 것이다.\n",
    "- 결과를 보면 mean메서드를 사용하여 얻은 값과 동일하다는 것을 알 수 있다."
   ]
  },
  {
   "cell_type": "code",
   "execution_count": 12,
   "id": "069728b8",
   "metadata": {
    "scrolled": true
   },
   "outputs": [
    {
     "name": "stdout",
     "output_type": "stream",
     "text": [
      "year\n",
      "1952    49.057620\n",
      "1957    51.507401\n",
      "1962    53.609249\n",
      "1967    55.678290\n",
      "1972    57.647386\n",
      "1977    59.570157\n",
      "1982    61.533197\n",
      "1987    63.212613\n",
      "1992    64.160338\n",
      "1997    65.014676\n",
      "2002    65.694923\n",
      "2007    67.007423\n",
      "Name: lifeExp, dtype: float64\n"
     ]
    }
   ],
   "source": [
    "agg_my_mean = df.groupby('year').lifeExp.agg(my_mean) \n",
    "print(agg_my_mean)"
   ]
  },
  {
   "cell_type": "markdown",
   "id": "3a573b46",
   "metadata": {},
   "source": [
    "# 직접 해보세요!\n",
    "## 두 개의 인잣값을 받아 처리하는 사용자 함수와 groupby 메서드(220쪽)"
   ]
  },
  {
   "cell_type": "markdown",
   "id": "a9e875ab",
   "metadata": {},
   "source": [
    "- 이번에는 2개 인자값을 받아 처리하는 사용자 정의 함수(my_mean_diff)를 만들어보자.\n",
    "- 다음은 첫 번째 인자로 받은 열의 평균값을 구하여 두 번째 인자로 받은 값과의 차이를 계산한 다음 반환하는 함수다."
   ]
  },
  {
   "cell_type": "code",
   "execution_count": 10,
   "id": "f6f910d3",
   "metadata": {},
   "outputs": [],
   "source": [
    "def my_mean_diff(values, diff_value):\n",
    "    n = len(values) \n",
    "    sum = 0 \n",
    "    for value in values:\n",
    "        sum += value \n",
    "    mean = sum / n \n",
    "    return mean - diff_value"
   ]
  },
  {
   "cell_type": "markdown",
   "id": "ef85d132",
   "metadata": {},
   "source": [
    "- 다음은 연도별 평균 수명에서 전체 평균 수명을 뺀 값을 구한 것이다.\n",
    "- agg메서드의 첫 번째 인자에 my_mean_diff함수를 전달하고 두 번째 인자에 전체 평균 수명값을 전달했다."
   ]
  },
  {
   "cell_type": "code",
   "execution_count": 11,
   "id": "f3cb241d",
   "metadata": {},
   "outputs": [
    {
     "name": "stdout",
     "output_type": "stream",
     "text": [
      "59.47443936619713\n"
     ]
    }
   ],
   "source": [
    "global_mean = df.lifeExp.mean() \n",
    "print(global_mean)"
   ]
  },
  {
   "cell_type": "code",
   "execution_count": 12,
   "id": "852addea",
   "metadata": {},
   "outputs": [
    {
     "name": "stdout",
     "output_type": "stream",
     "text": [
      "year\n",
      "1952   -10.416820\n",
      "1957    -7.967038\n",
      "1962    -5.865190\n",
      "1967    -3.796150\n",
      "1972    -1.827053\n",
      "1977     0.095718\n",
      "1982     2.058758\n",
      "1987     3.738173\n",
      "1992     4.685899\n",
      "1997     5.540237\n",
      "2002     6.220483\n",
      "2007     7.532983\n",
      "Name: lifeExp, dtype: float64\n"
     ]
    }
   ],
   "source": [
    "agg_mean_diff = df.groupby('year').lifeExp.agg(my_mean_diff, diff_value=global_mean) \n",
    "print(agg_mean_diff)"
   ]
  },
  {
   "cell_type": "markdown",
   "id": "560340c2",
   "metadata": {},
   "source": [
    "# 직접 해보세요!\n",
    "- 다음은 연도별로 그룹화한 lifeExp열의 0이 아닌 값의 개수, 평균, 표준편차를 한 번에 계산하여 출력한 것이다.\n",
    "- 넘파이 메서드인 count_nonzero, mean, std를 리스트에 담아 agg메서드에 전달했다."
   ]
  },
  {
   "cell_type": "markdown",
   "id": "481649b7",
   "metadata": {},
   "source": [
    "- 여러 개의 집계 메서드를 한 번에 사용하고 싶다면 어떻게 해야 할까?\n",
    "- 집계 메서드를 리스트나 딕셔너리에 담아 agg메서드에 전달하면 된다."
   ]
  },
  {
   "cell_type": "markdown",
   "id": "7120ca65",
   "metadata": {},
   "source": [
    "- 다음은 연도별로 그룹화한 lifeExp열의 0이 아닌 값의 개수, 평균, 표준편차를 한 번에 계산하여 출력한 것이다.\n",
    "- 넘파이 메서드인 count_nonzero, mean, std를 리스트에 담아 agg메서드에 전달했다."
   ]
  },
  {
   "cell_type": "code",
   "execution_count": 16,
   "id": "356f4d63",
   "metadata": {},
   "outputs": [
    {
     "name": "stdout",
     "output_type": "stream",
     "text": [
      "      count_nonzero       mean        std\n",
      "year                                     \n",
      "1952          142.0  49.057620  12.225956\n",
      "1957          142.0  51.507401  12.231286\n",
      "1962          142.0  53.609249  12.097245\n",
      "1967          142.0  55.678290  11.718858\n",
      "1972          142.0  57.647386  11.381953\n",
      "1977          142.0  59.570157  11.227229\n",
      "1982          142.0  61.533197  10.770618\n",
      "1987          142.0  63.212613  10.556285\n",
      "1992          142.0  64.160338  11.227380\n",
      "1997          142.0  65.014676  11.559439\n",
      "2002          142.0  65.694923  12.279823\n",
      "2007          142.0  67.007423  12.073021\n"
     ]
    }
   ],
   "source": [
    "import numpy as np\n",
    "gdf = df.groupby('year').lifeExp.agg([np.count_nonzero, np.mean, np.std]) \n",
    "print(gdf)"
   ]
  },
  {
   "cell_type": "markdown",
   "id": "509c7c4e",
   "metadata": {},
   "source": [
    "- 이번에는 집계 메서드를 딕셔너리에 담아 agg메서드에 전달해보자.\n",
    "- 딕셔너리의 키로 집계 메서드를 적용한 열 이름을 전달하고 딕셔너리의 값으로 집계 메서드를 전달하면 된다."
   ]
  },
  {
   "cell_type": "code",
   "execution_count": 17,
   "id": "ba23b25f",
   "metadata": {
    "scrolled": false
   },
   "outputs": [
    {
     "name": "stdout",
     "output_type": "stream",
     "text": [
      "        lifeExp         pop    gdpPercap\n",
      "year                                    \n",
      "1952  49.057620   3943953.0  1968.528344\n",
      "1957  51.507401   4282942.0  2173.220291\n",
      "1962  53.609249   4686039.5  2335.439533\n",
      "1967  55.678290   5170175.5  2678.334741\n",
      "1972  57.647386   5877996.5  3339.129407\n",
      "1977  59.570157   6404036.5  3798.609244\n",
      "1982  61.533197   7007320.0  4216.228428\n",
      "1987  63.212613   7774861.5  4280.300366\n",
      "1992  64.160338   8688686.5  4386.085502\n",
      "1997  65.014676   9735063.5  4781.825478\n",
      "2002  65.694923  10372918.5  5319.804524\n",
      "2007  67.007423  10517531.0  6124.371109\n"
     ]
    }
   ],
   "source": [
    "gdf_dict = df.groupby('year').agg({'lifeExp': 'mean', 'pop': 'median', 'gdpPercap': 'median'}) \n",
    "print(gdf_dict)"
   ]
  },
  {
   "cell_type": "code",
   "execution_count": null,
   "id": "977d3d0c",
   "metadata": {},
   "outputs": [],
   "source": []
  }
 ],
 "metadata": {
  "kernelspec": {
   "display_name": "Python 3 (ipykernel)",
   "language": "python",
   "name": "python3"
  },
  "language_info": {
   "codemirror_mode": {
    "name": "ipython",
    "version": 3
   },
   "file_extension": ".py",
   "mimetype": "text/x-python",
   "name": "python",
   "nbconvert_exporter": "python",
   "pygments_lexer": "ipython3",
   "version": "3.9.13"
  }
 },
 "nbformat": 4,
 "nbformat_minor": 5
}
