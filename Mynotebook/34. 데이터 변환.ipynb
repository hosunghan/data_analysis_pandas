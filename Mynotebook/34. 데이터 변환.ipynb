{
 "cells": [
  {
   "cell_type": "markdown",
   "id": "66aa3434",
   "metadata": {},
   "source": [
    "# 직접 해보세요!\n",
    "## 표준점수 계산하기(223쪽)"
   ]
  },
  {
   "cell_type": "markdown",
   "id": "60548c4c",
   "metadata": {},
   "source": [
    "- 데이터 변환 메서드는 데이터와 메서드를 일대일로 대응시켜 계산하기 때문에 데이터의 양이 줄어들지 않는다. 말 그대로 데이터를 변환하는데 사용한다."
   ]
  },
  {
   "cell_type": "markdown",
   "id": "d3022e00",
   "metadata": {},
   "source": [
    "- 통계 분야에서 데이터의 평균과 표준편차의 차이를 표준점수라고 부른다.\n",
    "- 표준점수를 구하면 변환한 데이터의 평균값이 0이 되고 표준편차는 1이 된다. 그러면 데이터가 표준화되어 서로 다른 데이터를 쉽게 비교할 수 있게 된다.\n",
    "- 표준점수는 통계에서 자주 사용하는 지표다\n",
    "- 다음은 표준점수를 계산하는 함수다"
   ]
  },
  {
   "cell_type": "code",
   "execution_count": 15,
   "id": "d817c6b8",
   "metadata": {},
   "outputs": [],
   "source": [
    "def my_zscore(x):\n",
    "    return (x - x.mean()) / x.std()"
   ]
  },
  {
   "cell_type": "markdown",
   "id": "a08bf48f",
   "metadata": {},
   "source": [
    "- 다음은 각 연도별 lifeExp 열의 표준점수를 계산한 것이다. my_zscore 함수를 적용하기 위해 transform메서드를 사용했다."
   ]
  },
  {
   "cell_type": "code",
   "execution_count": 16,
   "id": "87796bb4",
   "metadata": {},
   "outputs": [
    {
     "name": "stdout",
     "output_type": "stream",
     "text": [
      "0   -1.656854\n",
      "1   -1.731249\n",
      "2   -1.786543\n",
      "3   -1.848157\n",
      "4   -1.894173\n",
      "Name: lifeExp, dtype: float64\n"
     ]
    }
   ],
   "source": [
    "transform_z = df.groupby('year').lifeExp.transform(my_zscore)\n",
    "\n",
    "print(transform_z.head())"
   ]
  },
  {
   "cell_type": "markdown",
   "id": "05340597",
   "metadata": {},
   "source": [
    "- my_zscore 함수는 데이터를 표준화할 뿐 집계하지 않는다. 즉, 데이터의 양이 줄어들지 않는다.\n",
    "- 다음은 원본 데이터프레임(df)의 크기와 변환한 데이터프레임(transform_z)의 데이터 크기를 비교한 것이다."
   ]
  },
  {
   "cell_type": "code",
   "execution_count": 17,
   "id": "860db59e",
   "metadata": {},
   "outputs": [
    {
     "name": "stdout",
     "output_type": "stream",
     "text": [
      "(1704, 6)\n"
     ]
    }
   ],
   "source": [
    "print(df.shape)"
   ]
  },
  {
   "cell_type": "code",
   "execution_count": 18,
   "id": "b0a9a4bc",
   "metadata": {},
   "outputs": [
    {
     "name": "stdout",
     "output_type": "stream",
     "text": [
      "(1704,)\n"
     ]
    }
   ],
   "source": [
    "print(transform_z.shape)"
   ]
  },
  {
   "cell_type": "markdown",
   "id": "9b190d63",
   "metadata": {},
   "source": [
    "# 직접 해보세요!\n",
    "## 누락값을 평균값으로 처리하기(224쪽)"
   ]
  },
  {
   "cell_type": "markdown",
   "id": "59b7afe5",
   "metadata": {},
   "source": [
    "- 앞에서 누락값을 처리하는 다양한 방법에 대해서 알아봤는데, 이번에는 누락값을 평균값으로 처리하는 방법에 대해 알아보자."
   ]
  },
  {
   "cell_type": "markdown",
   "id": "b4c0eeaa",
   "metadata": {},
   "source": [
    "- 다음은 seaborn 라이브러리의 tips데이터 집합에서 10개의 행 데이터만 가져온 다음 total_bill열의 값 4개를 임의로 선택하여 누락값으로 바꾼 것이다."
   ]
  },
  {
   "cell_type": "code",
   "execution_count": 19,
   "id": "facb8893",
   "metadata": {},
   "outputs": [
    {
     "name": "stdout",
     "output_type": "stream",
     "text": [
      "     total_bill   tip     sex smoker   day    time  size\n",
      "24        19.82  3.18    Male     No   Sat  Dinner     2\n",
      "6          8.77  2.00    Male     No   Sun  Dinner     2\n",
      "153         NaN  2.00    Male     No   Sun  Dinner     4\n",
      "211         NaN  5.16    Male    Yes   Sat  Dinner     4\n",
      "198         NaN  2.00  Female    Yes  Thur   Lunch     2\n",
      "176         NaN  2.00    Male    Yes   Sun  Dinner     2\n",
      "192       28.44  2.56    Male    Yes  Thur   Lunch     2\n",
      "124       12.48  2.52  Female     No  Thur   Lunch     2\n",
      "9         14.78  3.23    Male     No   Sun  Dinner     2\n",
      "101       15.38  3.00  Female    Yes   Fri  Dinner     2\n"
     ]
    }
   ],
   "source": [
    "import seaborn as sns \n",
    "import numpy as np\n",
    "\n",
    "np.random.seed(42)\n",
    "tips_10 = sns.load_dataset('tips').sample(10)\n",
    "tips_10.loc[np.random.permutation(tips_10.index)[:4], 'total_bill'] = np.NaN\n",
    "\n",
    "print(tips_10)"
   ]
  },
  {
   "cell_type": "markdown",
   "id": "a0f3f00b",
   "metadata": {},
   "source": [
    "- 그런데 total_bill 열의 누락값을 단순히 total_bill 열의 평균값으로 채우면 안된다.\n",
    "- 현재 tips_10의 데이터는 여성보다 남성이 많다. 즉 여성과 남성을 구분하여 total_bill 열의 평균값ㅇ르 구하지 않으면 여성 데이터가 남성 데이터의 영향을 많아 받아 여성의 데이터가 훼손될 수 있다.\n",
    "- 다음은 성별로 그룹화한 다음 각 열의 데이터 수를 구한 것이다.\n",
    "- total_bill 열을 살펴보면 남성의 누락값은 3개, 여성의 누락값은 1개라는 것을 알 수 있다."
   ]
  },
  {
   "cell_type": "code",
   "execution_count": 20,
   "id": "08ee55b7",
   "metadata": {},
   "outputs": [
    {
     "name": "stdout",
     "output_type": "stream",
     "text": [
      "        total_bill  tip  smoker  day  time  size\n",
      "sex                                             \n",
      "Male             4    7       7    7     7     7\n",
      "Female           2    3       3    3     3     3\n"
     ]
    }
   ],
   "source": [
    "count_sex = tips_10.groupby('sex').count() \n",
    "print(count_sex)"
   ]
  },
  {
   "cell_type": "markdown",
   "id": "ca2fc948",
   "metadata": {},
   "source": [
    "- 다음은 성별을 구분하여 total_bill열의 데이터를 받아 평균값을 구하는 함수다"
   ]
  },
  {
   "cell_type": "code",
   "execution_count": 21,
   "id": "5eb63350",
   "metadata": {},
   "outputs": [],
   "source": [
    "def fill_na_mean(x):\n",
    "    avg = x.mean() \n",
    "    return x.fillna(avg)"
   ]
  },
  {
   "cell_type": "markdown",
   "id": "f26d4ae3",
   "metadata": {},
   "source": [
    "- 다음은 성별을 구분한 total_bill열의 데이터를 fill_na_mean함수에 전달하여 평균값을 구한 다음 tips_10에 새로운 열을 추가한 것이다.\n",
    "- 남성과 여성의 누락값을 고려하여 계산한 평균값으로 잘 채워져 있는 것을 알 수 있다."
   ]
  },
  {
   "cell_type": "code",
   "execution_count": 22,
   "id": "cfc5ad8e",
   "metadata": {
    "scrolled": true
   },
   "outputs": [
    {
     "name": "stdout",
     "output_type": "stream",
     "text": [
      "     total_bill   tip     sex smoker   day    time  size  fill_total_bill\n",
      "24        19.82  3.18    Male     No   Sat  Dinner     2          19.8200\n",
      "6          8.77  2.00    Male     No   Sun  Dinner     2           8.7700\n",
      "153         NaN  2.00    Male     No   Sun  Dinner     4          17.9525\n",
      "211         NaN  5.16    Male    Yes   Sat  Dinner     4          17.9525\n",
      "198         NaN  2.00  Female    Yes  Thur   Lunch     2          13.9300\n",
      "176         NaN  2.00    Male    Yes   Sun  Dinner     2          17.9525\n",
      "192       28.44  2.56    Male    Yes  Thur   Lunch     2          28.4400\n",
      "124       12.48  2.52  Female     No  Thur   Lunch     2          12.4800\n",
      "9         14.78  3.23    Male     No   Sun  Dinner     2          14.7800\n",
      "101       15.38  3.00  Female    Yes   Fri  Dinner     2          15.3800\n"
     ]
    }
   ],
   "source": [
    "total_bill_group_mean = tips_10.groupby('sex').total_bill.transform(fill_na_mean)\n",
    "tips_10['fill_total_bill'] = total_bill_group_mean\n",
    "print(tips_10)"
   ]
  },
  {
   "cell_type": "code",
   "execution_count": null,
   "id": "881eda6d",
   "metadata": {},
   "outputs": [],
   "source": []
  }
 ],
 "metadata": {
  "kernelspec": {
   "display_name": "Python 3 (ipykernel)",
   "language": "python",
   "name": "python3"
  },
  "language_info": {
   "codemirror_mode": {
    "name": "ipython",
    "version": 3
   },
   "file_extension": ".py",
   "mimetype": "text/x-python",
   "name": "python",
   "nbconvert_exporter": "python",
   "pygments_lexer": "ipython3",
   "version": "3.9.13"
  }
 },
 "nbformat": 4,
 "nbformat_minor": 5
}
