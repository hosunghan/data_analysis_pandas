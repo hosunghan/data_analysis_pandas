{
 "cells": [
  {
   "cell_type": "markdown",
   "id": "98c21990",
   "metadata": {},
   "source": [
    "# 직접 해보세요!\n",
    "## 누락값을 평균값으로 처리하기(224쪽)"
   ]
  },
  {
   "cell_type": "markdown",
   "id": "e25c29bb",
   "metadata": {},
   "source": [
    "- 앞에서 누락값을 처리하는 다양한 방법에 대해서 알아봤는데, 이번에는 누락값을 평균값으로 처리하는 방법에 대해 알아보자."
   ]
  },
  {
   "cell_type": "markdown",
   "id": "49fbffee",
   "metadata": {},
   "source": [
    "- 다음은 seaborn 라이브러리의 tips데이터 집합에서 10개의 행 데이터만 가져온 다음 total_bill열의 값 4개를 임의로 선택하여 누락값으로 바꾼 것이다."
   ]
  },
  {
   "cell_type": "code",
   "execution_count": 19,
   "id": "9852c1b3",
   "metadata": {},
   "outputs": [
    {
     "name": "stdout",
     "output_type": "stream",
     "text": [
      "     total_bill   tip     sex smoker   day    time  size\n",
      "24        19.82  3.18    Male     No   Sat  Dinner     2\n",
      "6          8.77  2.00    Male     No   Sun  Dinner     2\n",
      "153         NaN  2.00    Male     No   Sun  Dinner     4\n",
      "211         NaN  5.16    Male    Yes   Sat  Dinner     4\n",
      "198         NaN  2.00  Female    Yes  Thur   Lunch     2\n",
      "176         NaN  2.00    Male    Yes   Sun  Dinner     2\n",
      "192       28.44  2.56    Male    Yes  Thur   Lunch     2\n",
      "124       12.48  2.52  Female     No  Thur   Lunch     2\n",
      "9         14.78  3.23    Male     No   Sun  Dinner     2\n",
      "101       15.38  3.00  Female    Yes   Fri  Dinner     2\n"
     ]
    }
   ],
   "source": [
    "import seaborn as sns \n",
    "import numpy as np\n",
    "\n",
    "np.random.seed(42)\n",
    "tips_10 = sns.load_dataset('tips').sample(10)\n",
    "tips_10.loc[np.random.permutation(tips_10.index)[:4], 'total_bill'] = np.NaN\n",
    "\n",
    "print(tips_10)"
   ]
  },
  {
   "cell_type": "markdown",
   "id": "59ce9374",
   "metadata": {},
   "source": [
    "- 그런데 total_bill 열의 누락값을 단순히 total_bill 열의 평균값으로 채우면 안된다.\n",
    "- 현재 tips_10의 데이터는 여성보다 남성이 많다. 즉 여성과 남성을 구분하여 total_bill 열의 평균값ㅇ르 구하지 않으면 여성 데이터가 남성 데이터의 영향을 많아 받아 여성의 데이터가 훼손될 수 있다.\n",
    "- 다음은 성별로 그룹화한 다음 각 열의 데이터 수를 구한 것이다.\n",
    "- total_bill 열을 살펴보면 남성의 누락값은 3개, 여성의 누락값은 1개라는 것을 알 수 있다."
   ]
  },
  {
   "cell_type": "code",
   "execution_count": 20,
   "id": "f0b649ea",
   "metadata": {},
   "outputs": [
    {
     "name": "stdout",
     "output_type": "stream",
     "text": [
      "        total_bill  tip  smoker  day  time  size\n",
      "sex                                             \n",
      "Male             4    7       7    7     7     7\n",
      "Female           2    3       3    3     3     3\n"
     ]
    }
   ],
   "source": [
    "count_sex = tips_10.groupby('sex').count() \n",
    "print(count_sex)"
   ]
  },
  {
   "cell_type": "markdown",
   "id": "82b60b3f",
   "metadata": {},
   "source": [
    "- 다음은 성별을 구분하여 total_bill열의 데이터를 받아 평균값을 구하는 함수다"
   ]
  },
  {
   "cell_type": "code",
   "execution_count": 21,
   "id": "9cddc904",
   "metadata": {},
   "outputs": [],
   "source": [
    "def fill_na_mean(x):\n",
    "    avg = x.mean() \n",
    "    return x.fillna(avg)"
   ]
  },
  {
   "cell_type": "markdown",
   "id": "951e9939",
   "metadata": {},
   "source": [
    "- 다음은 성별을 구분한 total_bill열의 데이터를 fill_na_mean함수에 전달하여 평균값을 구한 다음 tips_10에 새로운 열을 추가한 것이다.\n",
    "- 남성과 여성의 누락값을 고려하여 계산한 평균값으로 잘 채워져 있는 것을 알 수 있다."
   ]
  },
  {
   "cell_type": "code",
   "execution_count": 22,
   "id": "54996e33",
   "metadata": {
    "scrolled": true
   },
   "outputs": [
    {
     "name": "stdout",
     "output_type": "stream",
     "text": [
      "     total_bill   tip     sex smoker   day    time  size  fill_total_bill\n",
      "24        19.82  3.18    Male     No   Sat  Dinner     2          19.8200\n",
      "6          8.77  2.00    Male     No   Sun  Dinner     2           8.7700\n",
      "153         NaN  2.00    Male     No   Sun  Dinner     4          17.9525\n",
      "211         NaN  5.16    Male    Yes   Sat  Dinner     4          17.9525\n",
      "198         NaN  2.00  Female    Yes  Thur   Lunch     2          13.9300\n",
      "176         NaN  2.00    Male    Yes   Sun  Dinner     2          17.9525\n",
      "192       28.44  2.56    Male    Yes  Thur   Lunch     2          28.4400\n",
      "124       12.48  2.52  Female     No  Thur   Lunch     2          12.4800\n",
      "9         14.78  3.23    Male     No   Sun  Dinner     2          14.7800\n",
      "101       15.38  3.00  Female    Yes   Fri  Dinner     2          15.3800\n"
     ]
    }
   ],
   "source": [
    "total_bill_group_mean = tips_10.groupby('sex').total_bill.transform(fill_na_mean)\n",
    "tips_10['fill_total_bill'] = total_bill_group_mean\n",
    "print(tips_10)"
   ]
  },
  {
   "cell_type": "markdown",
   "id": "2b306477",
   "metadata": {},
   "source": [
    "# 직접 해보세요!\n",
    "## 데이터 필터링 사용하기 ─ filter 메서드(227쪽)"
   ]
  },
  {
   "cell_type": "markdown",
   "id": "079e4648",
   "metadata": {},
   "source": [
    "- 만약 그룹화한 데이터에서 원하는 데이터를 걸러내고 싶다면 어떻게 할까?\n",
    "- 그럴 때는 데이터 필터링을 사용하면 된다. 데이터 필터링을 사용하면 기준에 맞는 데이터를 걸러낼 수 있다."
   ]
  },
  {
   "cell_type": "markdown",
   "id": "ac10b574",
   "metadata": {},
   "source": [
    "- 다음과 같이 tips 데이터 집합을 불러와 데이터 크기를 확인한다."
   ]
  },
  {
   "cell_type": "code",
   "execution_count": 23,
   "id": "65387219",
   "metadata": {},
   "outputs": [
    {
     "name": "stdout",
     "output_type": "stream",
     "text": [
      "(244, 7)\n"
     ]
    }
   ],
   "source": [
    "tips = sns.load_dataset('tips')\n",
    "\n",
    "print(tips.shape)"
   ]
  },
  {
   "cell_type": "markdown",
   "id": "0ab065c5",
   "metadata": {},
   "source": [
    "- size 열의 데이터 수를 확인해 보면 1, 5, 6 테이블의 주문이 매우 적다는 것을 알 수 있다."
   ]
  },
  {
   "cell_type": "code",
   "execution_count": 24,
   "id": "288c5391",
   "metadata": {},
   "outputs": [
    {
     "name": "stdout",
     "output_type": "stream",
     "text": [
      "2    156\n",
      "3     38\n",
      "4     37\n",
      "5      5\n",
      "1      4\n",
      "6      4\n",
      "Name: size, dtype: int64\n"
     ]
    }
   ],
   "source": [
    "print(tips['size'].value_counts())"
   ]
  },
  {
   "cell_type": "markdown",
   "id": "dfc17046",
   "metadata": {},
   "source": [
    "- 상황에 따라 이런 데이터는 제외하기도 한다. 만약 30번 이상의 주문이 있는 테이블만 추려 데이터 분석을 하려면 어떻게 해야 할까?\n",
    "- 다음은 30번 이상의 주문이 있는 테이블만 그룹화 하여 변수 tips_filtered에 저장한 것이다."
   ]
  },
  {
   "cell_type": "code",
   "execution_count": 25,
   "id": "c95518c3",
   "metadata": {},
   "outputs": [],
   "source": [
    "tips_filtered = tips.\\\n",
    "    groupby('size').\\\n",
    "    filter(lambda x: x['size'].count() >= 30)"
   ]
  },
  {
   "cell_type": "markdown",
   "id": "e23ebeba",
   "metadata": {},
   "source": [
    "- 위의 과정에서 1, 5, 6 테이블의 데이터가 제외되었다는 것을 알 수 있었다."
   ]
  },
  {
   "cell_type": "code",
   "execution_count": 26,
   "id": "90571964",
   "metadata": {},
   "outputs": [
    {
     "name": "stdout",
     "output_type": "stream",
     "text": [
      "(231, 7)\n"
     ]
    }
   ],
   "source": [
    "print(tips_filtered.shape)"
   ]
  },
  {
   "cell_type": "code",
   "execution_count": 27,
   "id": "87a77536",
   "metadata": {
    "scrolled": true
   },
   "outputs": [
    {
     "name": "stdout",
     "output_type": "stream",
     "text": [
      "2    156\n",
      "3     38\n",
      "4     37\n",
      "Name: size, dtype: int64\n"
     ]
    }
   ],
   "source": [
    "print(tips_filtered['size'].value_counts())"
   ]
  },
  {
   "cell_type": "code",
   "execution_count": null,
   "id": "be280c81",
   "metadata": {},
   "outputs": [],
   "source": []
  }
 ],
 "metadata": {
  "kernelspec": {
   "display_name": "Python 3 (ipykernel)",
   "language": "python",
   "name": "python3"
  },
  "language_info": {
   "codemirror_mode": {
    "name": "ipython",
    "version": 3
   },
   "file_extension": ".py",
   "mimetype": "text/x-python",
   "name": "python",
   "nbconvert_exporter": "python",
   "pygments_lexer": "ipython3",
   "version": "3.9.13"
  }
 },
 "nbformat": 4,
 "nbformat_minor": 5
}
