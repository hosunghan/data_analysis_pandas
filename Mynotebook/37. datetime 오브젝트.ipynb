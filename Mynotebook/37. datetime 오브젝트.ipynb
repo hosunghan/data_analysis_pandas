{
 "cells": [
  {
   "cell_type": "markdown",
   "id": "aa093d10",
   "metadata": {},
   "source": [
    "# 직접 해보세요!\n",
    "## datetime 오브젝트 사용하기(238쪽)"
   ]
  },
  {
   "cell_type": "markdown",
   "id": "a8f290ab",
   "metadata": {},
   "source": [
    "- datetime 라이브러리나 날짜와 시간을 처리하는 등의 다양한 기능을 제공하는 파이썬 라이브러리이다. datetime 라이브러리에는 날짜를 처리하는 date오브젝트. 시간을 처리하는 time 오브젝트,\n",
    "- 날짜와 시간을 모두 처리하는 datetime 오브젝트가 포함되어 이싿.\n",
    "- 앞으로 3개의 오브젝트를 명확히 구분하기 위해 영문 그대로 살려 date, time, datetiem 오브젝트라고 부르겠다."
   ]
  },
  {
   "cell_type": "code",
   "execution_count": 113,
   "id": "9da3acc6",
   "metadata": {},
   "outputs": [],
   "source": [
    "from datetime import datetime"
   ]
  },
  {
   "cell_type": "markdown",
   "id": "d2405b9d",
   "metadata": {},
   "source": [
    "- datetime 오브젝트를 사용하기 위해 datetime라이브러리를 불러온다."
   ]
  },
  {
   "cell_type": "code",
   "execution_count": 114,
   "id": "48e20b42",
   "metadata": {},
   "outputs": [
    {
     "name": "stdout",
     "output_type": "stream",
     "text": [
      "2018-08-27 17:10:47.880731\n"
     ]
    }
   ],
   "source": [
    "now1 = datetime.now() \n",
    "print(now1)"
   ]
  },
  {
   "cell_type": "code",
   "execution_count": 115,
   "id": "4d70e440",
   "metadata": {},
   "outputs": [
    {
     "name": "stdout",
     "output_type": "stream",
     "text": [
      "2018-08-27 17:10:48.088284\n"
     ]
    }
   ],
   "source": [
    "now2 = datetime.today()\n",
    "print(now2) "
   ]
  },
  {
   "cell_type": "markdown",
   "id": "43f2c80a",
   "metadata": {},
   "source": [
    "ㅁ"
   ]
  },
  {
   "cell_type": "code",
   "execution_count": 116,
   "id": "b9a98b1b",
   "metadata": {
    "scrolled": true
   },
   "outputs": [
    {
     "name": "stdout",
     "output_type": "stream",
     "text": [
      "2018-08-27 17:10:48.312881\n",
      "1970-01-01 00:00:00\n",
      "1970-12-12 13:24:34\n"
     ]
    }
   ],
   "source": [
    "t1 = datetime.now() \n",
    "t2 = datetime(1970, 1, 1)\n",
    "t3 = datetime(1970, 12, 12, 13, 24, 34)\n",
    "\n",
    "print(t1)\n",
    "print(t2)\n",
    "print(t3)"
   ]
  },
  {
   "cell_type": "markdown",
   "id": "8baa547e",
   "metadata": {},
   "source": [
    "- datetime 오브젝트를 사용하는 이유 중 하나는 시간 계산을 할 수 있다는 점이다.\n",
    "- 다음 두 datetime 오브젝트 차이를 구한 것이다."
   ]
  },
  {
   "cell_type": "code",
   "execution_count": 117,
   "id": "f6fadac5",
   "metadata": {
    "scrolled": true
   },
   "outputs": [
    {
     "name": "stdout",
     "output_type": "stream",
     "text": [
      "17770 days, 17:10:48.312881\n",
      "<class 'datetime.timedelta'>\n"
     ]
    }
   ],
   "source": [
    "diff1 = t1 - t2\n",
    "\n",
    "print(diff1)\n",
    "print(type(diff1))"
   ]
  },
  {
   "cell_type": "code",
   "execution_count": 118,
   "id": "994c0a49",
   "metadata": {
    "scrolled": true
   },
   "outputs": [
    {
     "name": "stdout",
     "output_type": "stream",
     "text": [
      "-17771 days, 6:49:11.687119\n",
      "<class 'datetime.timedelta'>\n"
     ]
    }
   ],
   "source": [
    "diff2 = t2 - t1\n",
    "\n",
    "print(diff2)\n",
    "print(type(diff2))"
   ]
  },
  {
   "cell_type": "markdown",
   "id": "62315106",
   "metadata": {},
   "source": [
    "# 직접 해보세요!"
   ]
  },
  {
   "cell_type": "markdown",
   "id": "69996408",
   "metadata": {},
   "source": [
    "## 문자열을 datetime 오브젝트로 변환하기(240쪽)"
   ]
  },
  {
   "cell_type": "markdown",
   "id": "4914c778",
   "metadata": {},
   "source": [
    "- 경우에 따라서는 시계열 데이터를 문자열로 지정해야 할 때도 있다. 하지만 문자열은 시간 계산을 할 수 없기 때문에 datetime 오브젝트로 변환해 주어야 한다.\n",
    "- 이번에는 to_datetime 메서드를 사용하여 문자열 datetime 오브젝트로 변환하는 방법에 대해 알아보자."
   ]
  },
  {
   "cell_type": "markdown",
   "id": "4ce42540",
   "metadata": {},
   "source": [
    "- 먼저 ebola 데이터 집합을 불러온다."
   ]
  },
  {
   "cell_type": "code",
   "execution_count": 119,
   "id": "13d57eba",
   "metadata": {},
   "outputs": [],
   "source": [
    "import pandas as pd \n",
    "import os\n",
    "ebola = pd.read_csv('../data/country_timeseries.csv')"
   ]
  },
  {
   "cell_type": "markdown",
   "id": "80486034",
   "metadata": {},
   "source": [
    "- ebolar데이터프레임을 보면 문자열로 저장된 Date열이 있는 것을 알 수 있다."
   ]
  },
  {
   "cell_type": "code",
   "execution_count": 120,
   "id": "753b42ab",
   "metadata": {
    "scrolled": false
   },
   "outputs": [
    {
     "name": "stdout",
     "output_type": "stream",
     "text": [
      "<class 'pandas.core.frame.DataFrame'>\n",
      "RangeIndex: 122 entries, 0 to 121\n",
      "Data columns (total 18 columns):\n",
      "Date                   122 non-null object\n",
      "Day                    122 non-null int64\n",
      "Cases_Guinea           93 non-null float64\n",
      "Cases_Liberia          83 non-null float64\n",
      "Cases_SierraLeone      87 non-null float64\n",
      "Cases_Nigeria          38 non-null float64\n",
      "Cases_Senegal          25 non-null float64\n",
      "Cases_UnitedStates     18 non-null float64\n",
      "Cases_Spain            16 non-null float64\n",
      "Cases_Mali             12 non-null float64\n",
      "Deaths_Guinea          92 non-null float64\n",
      "Deaths_Liberia         81 non-null float64\n",
      "Deaths_SierraLeone     87 non-null float64\n",
      "Deaths_Nigeria         38 non-null float64\n",
      "Deaths_Senegal         22 non-null float64\n",
      "Deaths_UnitedStates    18 non-null float64\n",
      "Deaths_Spain           16 non-null float64\n",
      "Deaths_Mali            12 non-null float64\n",
      "dtypes: float64(16), int64(1), object(1)\n",
      "memory usage: 17.2+ KB\n",
      "None\n"
     ]
    }
   ],
   "source": [
    "print(ebola.info())"
   ]
  },
  {
   "cell_type": "markdown",
   "id": "ae3ce591",
   "metadata": {},
   "source": [
    "- to_datetime 메서드를 사용하면 Date열의 자료형을 datetime 오브젝트로 변환할 수 있다.\n",
    "- 다음과 같이 to_datetime 메서드를 사용하여 Date 열의 자료형을 datetime오브젝트로 변환한 다음 ebola 데이터프레임에 새로운 열로 추가한다."
   ]
  },
  {
   "cell_type": "code",
   "execution_count": 121,
   "id": "1c8ec231",
   "metadata": {},
   "outputs": [
    {
     "name": "stdout",
     "output_type": "stream",
     "text": [
      "<class 'pandas.core.frame.DataFrame'>\n",
      "RangeIndex: 122 entries, 0 to 121\n",
      "Data columns (total 19 columns):\n",
      "Date                   122 non-null object\n",
      "Day                    122 non-null int64\n",
      "Cases_Guinea           93 non-null float64\n",
      "Cases_Liberia          83 non-null float64\n",
      "Cases_SierraLeone      87 non-null float64\n",
      "Cases_Nigeria          38 non-null float64\n",
      "Cases_Senegal          25 non-null float64\n",
      "Cases_UnitedStates     18 non-null float64\n",
      "Cases_Spain            16 non-null float64\n",
      "Cases_Mali             12 non-null float64\n",
      "Deaths_Guinea          92 non-null float64\n",
      "Deaths_Liberia         81 non-null float64\n",
      "Deaths_SierraLeone     87 non-null float64\n",
      "Deaths_Nigeria         38 non-null float64\n",
      "Deaths_Senegal         22 non-null float64\n",
      "Deaths_UnitedStates    18 non-null float64\n",
      "Deaths_Spain           16 non-null float64\n",
      "Deaths_Mali            12 non-null float64\n",
      "date_dt                122 non-null datetime64[ns]\n",
      "dtypes: datetime64[ns](1), float64(16), int64(1), object(1)\n",
      "memory usage: 18.2+ KB\n",
      "None\n"
     ]
    }
   ],
   "source": [
    "ebola['date_dt'] = pd.to_datetime(ebola['Date'])\n",
    "print(ebola.info())"
   ]
  },
  {
   "cell_type": "markdown",
   "id": "0d1ee6c3",
   "metadata": {},
   "source": [
    "- to_datetime 메서드를 좀 더 자세히 알아보자.\n",
    "- 시간 형식 지정자(%d, %m, %Y)와 기호(/, -)를 적절히 조합하여 format 인자에 전달하면 그 형식에 맞게 정리된 datetime 오브젝트를 얻을 수 있다."
   ]
  },
  {
   "cell_type": "code",
   "execution_count": 122,
   "id": "7131d353",
   "metadata": {},
   "outputs": [
    {
     "name": "stdout",
     "output_type": "stream",
     "text": [
      "  order_day   date_dt1   date_dt2   date_dt3\n",
      "0  01/01/15 2015-01-01 2015-01-01 2001-01-15\n",
      "1  02/01/15 2015-01-02 2015-02-01 2002-01-15\n",
      "2  03/01/15 2015-01-03 2015-03-01 2003-01-15\n"
     ]
    }
   ],
   "source": [
    "test_df1 = pd.DataFrame({'order_day':['01/01/15', '02/01/15', '03/01/15']})\n",
    "\n",
    "test_df1['date_dt1'] = pd.to_datetime(test_df1['order_day'], format='%d/%m/%y')\n",
    "test_df1['date_dt2'] = pd.to_datetime(test_df1['order_day'], format='%m/%d/%y')\n",
    "test_df1['date_dt3'] = pd.to_datetime(test_df1['order_day'], format='%y/%m/%d')\n",
    "\n",
    "print(test_df1)"
   ]
  },
  {
   "cell_type": "code",
   "execution_count": 123,
   "id": "fae1ad45",
   "metadata": {},
   "outputs": [
    {
     "name": "stdout",
     "output_type": "stream",
     "text": [
      "  order_day    date_dt\n",
      "0  01-01-15 2015-01-01\n",
      "1  02-01-15 2015-01-02\n",
      "2  03-01-15 2015-01-03\n"
     ]
    }
   ],
   "source": [
    "test_df2 = pd.DataFrame({'order_day':['01-01-15', '02-01-15', '03-01-15']})\n",
    "test_df2['date_dt'] = pd.to_datetime(test_df2['order_day'], format='%d-%m-%y')\n",
    "\n",
    "print(test_df2)"
   ]
  },
  {
   "cell_type": "markdown",
   "id": "34ebc62e",
   "metadata": {},
   "source": [
    "# 알아두면 좋아요!\n",
    "## 시계열 데이터를 구분해서 추출하고 싶어요(243쪽)"
   ]
  },
  {
   "cell_type": "markdown",
   "id": "a261ec15",
   "metadata": {},
   "source": [
    "- now 메서드로 얻은 현재 시간의 데이터는 아주 정밀한 단위까지 시간을 표현한다. 하지만 원하는 시계열 데이터의 시간 요소가 연도, 월, 일뿐이라면 now메서드로 얻은 시계열 데이터를 잘라내야 한다. 다음은 strftime메서드와 시간 형식 지정자를 이용하여 시계열 데이터를 잘라낸 것이다."
   ]
  },
  {
   "cell_type": "code",
   "execution_count": 124,
   "id": "a5f3b40b",
   "metadata": {},
   "outputs": [
    {
     "name": "stdout",
     "output_type": "stream",
     "text": [
      "2018-08-27 17:10:51.920477\n"
     ]
    }
   ],
   "source": [
    "now = datetime.now()\n",
    "print(now)"
   ]
  },
  {
   "cell_type": "code",
   "execution_count": 125,
   "id": "c85a00e8",
   "metadata": {},
   "outputs": [
    {
     "name": "stdout",
     "output_type": "stream",
     "text": [
      "2018-08-27\n"
     ]
    }
   ],
   "source": [
    "nowDate = now.strftime('%Y-%m-%d')\n",
    "print(nowDate)"
   ]
  },
  {
   "cell_type": "code",
   "execution_count": 126,
   "id": "4b4e0aac",
   "metadata": {},
   "outputs": [
    {
     "name": "stdout",
     "output_type": "stream",
     "text": [
      "17:10:51\n"
     ]
    }
   ],
   "source": [
    "nowTime = now.strftime('%H:%M:%S')\n",
    "print(nowTime) "
   ]
  },
  {
   "cell_type": "code",
   "execution_count": 127,
   "id": "09a1f321",
   "metadata": {},
   "outputs": [
    {
     "name": "stdout",
     "output_type": "stream",
     "text": [
      "2018-08-27 17:10:51\n"
     ]
    }
   ],
   "source": [
    "nowDatetime = now.strftime('%Y-%m-%d %H:%M:%S')\n",
    "print(nowDatetime) "
   ]
  },
  {
   "cell_type": "markdown",
   "id": "f4ea5c5f",
   "metadata": {},
   "source": [
    "# 직접 해보세요!\n",
    "## datetime 오브젝트로 변환하려는 열을 지정하여 데이터 집합 불러오기(244쪽)"
   ]
  },
  {
   "cell_type": "markdown",
   "id": "4f31cd41",
   "metadata": {},
   "source": [
    "- 앞에서는 to_datetime메서드를 사용하여 문자열로 저장되어 있는 Date열을 datetime오브젝트로 변환했다. 하지만 datetime 오브젝트로 변환하려는 열을 지정하여 데이터집합을 불러오는 것이 더 간단하다. "
   ]
  },
  {
   "cell_type": "markdown",
   "id": "f97de073",
   "metadata": {},
   "source": [
    "- 다음은 read_csv메서드의 parse_dates 인자에 datetime 오브젝트로 변환하고자 하는 열의 이름을 전달하여 데이터 집합을 불러온 것이다.\n",
    "- 결과를 보면 Date 열이 문자열이 아니라 datetime 오브젝트라는 것을 확인할 수 있다."
   ]
  },
  {
   "cell_type": "code",
   "execution_count": 128,
   "id": "b4f9f9fb",
   "metadata": {},
   "outputs": [
    {
     "name": "stdout",
     "output_type": "stream",
     "text": [
      "<class 'pandas.core.frame.DataFrame'>\n",
      "RangeIndex: 122 entries, 0 to 121\n",
      "Data columns (total 18 columns):\n",
      "Date                   122 non-null datetime64[ns]\n",
      "Day                    122 non-null int64\n",
      "Cases_Guinea           93 non-null float64\n",
      "Cases_Liberia          83 non-null float64\n",
      "Cases_SierraLeone      87 non-null float64\n",
      "Cases_Nigeria          38 non-null float64\n",
      "Cases_Senegal          25 non-null float64\n",
      "Cases_UnitedStates     18 non-null float64\n",
      "Cases_Spain            16 non-null float64\n",
      "Cases_Mali             12 non-null float64\n",
      "Deaths_Guinea          92 non-null float64\n",
      "Deaths_Liberia         81 non-null float64\n",
      "Deaths_SierraLeone     87 non-null float64\n",
      "Deaths_Nigeria         38 non-null float64\n",
      "Deaths_Senegal         22 non-null float64\n",
      "Deaths_UnitedStates    18 non-null float64\n",
      "Deaths_Spain           16 non-null float64\n",
      "Deaths_Mali            12 non-null float64\n",
      "dtypes: datetime64[ns](1), float64(16), int64(1)\n",
      "memory usage: 17.2 KB\n",
      "None\n"
     ]
    }
   ],
   "source": [
    "ebola1 = pd.read_csv('../data/country_timeseries.csv', parse_dates=['Date']) \n",
    "print(ebola1.info())"
   ]
  },
  {
   "cell_type": "markdown",
   "id": "84d0485a",
   "metadata": {},
   "source": [
    "# 직접 해보세요!\n",
    "## datetime 오브젝트에서 날짜 정보 추출하기(244쪽)"
   ]
  },
  {
   "cell_type": "markdown",
   "id": "8051d443",
   "metadata": {},
   "source": [
    "- datetime오브젝트에는 년, 월, 일과 같은 날짜 정보를 따로 저장하고 있는 속성이 이미 준비되어 있다.\n",
    "- 다음은 실습을 통해 datetime 오브젝트에서 날짜 정보를 하나씨 추출해보자."
   ]
  },
  {
   "cell_type": "markdown",
   "id": "c2468193",
   "metadata": {},
   "source": [
    "- 다음은 문자열로 저장된 날짜를 시리즈에 담아 datetime 오브젝트로 변환한 것이다."
   ]
  },
  {
   "cell_type": "code",
   "execution_count": 129,
   "id": "70081768",
   "metadata": {},
   "outputs": [
    {
     "name": "stdout",
     "output_type": "stream",
     "text": [
      "0   2018-05-16\n",
      "1   2018-05-17\n",
      "2   2018-05-18\n",
      "dtype: datetime64[ns]\n"
     ]
    }
   ],
   "source": [
    "date_series = pd.Series(['2018-05-16', '2018-05-17', '2018-05-18'])\n",
    "d1 = pd.to_datetime(date_series) \n",
    "print(d1)"
   ]
  },
  {
   "cell_type": "markdown",
   "id": "4052fd05",
   "metadata": {},
   "source": [
    "- datetime 오브젝트(d1)의 year, month, day속성을 이용하면 년, 월, 일 정보를 바로 추출할 수 있다."
   ]
  },
  {
   "cell_type": "code",
   "execution_count": 130,
   "id": "0c478498",
   "metadata": {},
   "outputs": [
    {
     "name": "stdout",
     "output_type": "stream",
     "text": [
      "2018\n"
     ]
    }
   ],
   "source": [
    "print(d1[0].year)"
   ]
  },
  {
   "cell_type": "code",
   "execution_count": 131,
   "id": "f34762df",
   "metadata": {},
   "outputs": [
    {
     "name": "stdout",
     "output_type": "stream",
     "text": [
      "5\n"
     ]
    }
   ],
   "source": [
    "print(d1[0].month)"
   ]
  },
  {
   "cell_type": "code",
   "execution_count": 132,
   "id": "de9708a3",
   "metadata": {},
   "outputs": [
    {
     "name": "stdout",
     "output_type": "stream",
     "text": [
      "16\n"
     ]
    }
   ],
   "source": [
    "print(d1[0].day)"
   ]
  },
  {
   "cell_type": "markdown",
   "id": "4c668323",
   "metadata": {},
   "source": [
    "# 직접 해보세요!\n",
    "## dt 접근자로 시계열 데이터 정리하기(245쪽)"
   ]
  },
  {
   "cell_type": "markdown",
   "id": "87ae9928",
   "metadata": {},
   "source": [
    "- 문자열을 처리하려면 str접근자를 사용한 다음 문자열 속성이나 메서드를 사용해야 했다.\n",
    "- datetime오브젝트로 마찬가지로 dt접근자를 사용하면 datetime속성이나 메서드를 사용하여 시계열 데이터를 처리할 수 있다."
   ]
  },
  {
   "cell_type": "markdown",
   "id": "981a2948",
   "metadata": {},
   "source": [
    "- 먼저 ebola 데이터 집합을 불러온 다음 Date 열을 datetime오브젝트로 변환하여 새로운 열(date_dt)로 추가한다."
   ]
  },
  {
   "cell_type": "code",
   "execution_count": 133,
   "id": "edd33856",
   "metadata": {},
   "outputs": [],
   "source": [
    "ebola = pd.read_csv('../data/country_timeseries.csv')\n",
    "ebola['date_dt'] = pd.to_datetime(ebola['Date'])"
   ]
  },
  {
   "cell_type": "markdown",
   "id": "d734d332",
   "metadata": {},
   "source": [
    "- 다음은 dt접근자를 사용하지 않고 인덱스가 3인 데이터의 년, 월, 일 데이터를 추출한 것이다."
   ]
  },
  {
   "cell_type": "code",
   "execution_count": 134,
   "id": "6b06a528",
   "metadata": {
    "scrolled": true
   },
   "outputs": [
    {
     "name": "stdout",
     "output_type": "stream",
     "text": [
      "         Date    date_dt\n",
      "0    1/5/2015 2015-01-05\n",
      "1    1/4/2015 2015-01-04\n",
      "2    1/3/2015 2015-01-03\n",
      "3    1/2/2015 2015-01-02\n",
      "4  12/31/2014 2014-12-31\n"
     ]
    }
   ],
   "source": [
    "print(ebola[['Date', 'date_dt']].head())"
   ]
  },
  {
   "cell_type": "code",
   "execution_count": 135,
   "id": "d9a5c9fa",
   "metadata": {},
   "outputs": [
    {
     "name": "stdout",
     "output_type": "stream",
     "text": [
      "2015\n"
     ]
    }
   ],
   "source": [
    "print(ebola['date_dt'][3].year)"
   ]
  },
  {
   "cell_type": "code",
   "execution_count": 136,
   "id": "e406a7f7",
   "metadata": {},
   "outputs": [
    {
     "name": "stdout",
     "output_type": "stream",
     "text": [
      "1\n"
     ]
    }
   ],
   "source": [
    "print(ebola['date_dt'][3].month)"
   ]
  },
  {
   "cell_type": "code",
   "execution_count": 137,
   "id": "044325a4",
   "metadata": {},
   "outputs": [
    {
     "name": "stdout",
     "output_type": "stream",
     "text": [
      "2\n"
     ]
    }
   ],
   "source": [
    "print(ebola['date_dt'][3].day)"
   ]
  },
  {
   "cell_type": "markdown",
   "id": "82996469",
   "metadata": {},
   "source": [
    "- 위와 같은 방법은 date_dt 열의 특정 데이터를 인덱스로 접근해야 하기 때문에 불편하다.\n",
    "- 다음은 dt접근자로 date_dt열에 한 번에 접근한 다음 year 속성을 이용하여 연도값을 추출한다.\n",
    "- 추출한 연도값은 ebola데이터프레임의 새로운 열(year)로 추가했다."
   ]
  },
  {
   "cell_type": "code",
   "execution_count": 138,
   "id": "f67b1ef9",
   "metadata": {},
   "outputs": [
    {
     "name": "stdout",
     "output_type": "stream",
     "text": [
      "         Date    date_dt  year\n",
      "0    1/5/2015 2015-01-05  2015\n",
      "1    1/4/2015 2015-01-04  2015\n",
      "2    1/3/2015 2015-01-03  2015\n",
      "3    1/2/2015 2015-01-02  2015\n",
      "4  12/31/2014 2014-12-31  2014\n"
     ]
    }
   ],
   "source": [
    "ebola['year'] = ebola['date_dt'].dt.year\n",
    "print(ebola[['Date', 'date_dt', 'year']].head())"
   ]
  },
  {
   "cell_type": "markdown",
   "id": "c2284041",
   "metadata": {},
   "source": [
    "- 다음은 위의 과정을 응용하여 월, 일 데이터를 한 번에 추출해서 새로운 열(month, day)로 추가한 것이다."
   ]
  },
  {
   "cell_type": "code",
   "execution_count": 139,
   "id": "82f3c3d0",
   "metadata": {
    "scrolled": true
   },
   "outputs": [
    {
     "name": "stdout",
     "output_type": "stream",
     "text": [
      "         Date    date_dt  year  month  day\n",
      "0    1/5/2015 2015-01-05  2015      1    5\n",
      "1    1/4/2015 2015-01-04  2015      1    4\n",
      "2    1/3/2015 2015-01-03  2015      1    3\n",
      "3    1/2/2015 2015-01-02  2015      1    2\n",
      "4  12/31/2014 2014-12-31  2014     12   31\n"
     ]
    }
   ],
   "source": [
    "ebola['month'], ebola['day'] = (ebola['date_dt'].dt.month, ebola['date_dt'].dt.day)\n",
    "\n",
    "print(ebola[['Date', 'date_dt', 'year', 'month', 'day']].head())"
   ]
  },
  {
   "cell_type": "markdown",
   "id": "e4f39232",
   "metadata": {},
   "source": [
    "- 아래 ebola데이터프레임에 새로 추가한 date_dt, year, month, day열의 자료형을 출력한 것이다.\n",
    "- date_dt열은 datetime오브젝트이고 나머지는 정수형이라는 것을 알 수 있다."
   ]
  },
  {
   "cell_type": "code",
   "execution_count": 140,
   "id": "39609c08",
   "metadata": {
    "scrolled": true
   },
   "outputs": [
    {
     "name": "stdout",
     "output_type": "stream",
     "text": [
      "<class 'pandas.core.frame.DataFrame'>\n",
      "RangeIndex: 122 entries, 0 to 121\n",
      "Data columns (total 22 columns):\n",
      "Date                   122 non-null object\n",
      "Day                    122 non-null int64\n",
      "Cases_Guinea           93 non-null float64\n",
      "Cases_Liberia          83 non-null float64\n",
      "Cases_SierraLeone      87 non-null float64\n",
      "Cases_Nigeria          38 non-null float64\n",
      "Cases_Senegal          25 non-null float64\n",
      "Cases_UnitedStates     18 non-null float64\n",
      "Cases_Spain            16 non-null float64\n",
      "Cases_Mali             12 non-null float64\n",
      "Deaths_Guinea          92 non-null float64\n",
      "Deaths_Liberia         81 non-null float64\n",
      "Deaths_SierraLeone     87 non-null float64\n",
      "Deaths_Nigeria         38 non-null float64\n",
      "Deaths_Senegal         22 non-null float64\n",
      "Deaths_UnitedStates    18 non-null float64\n",
      "Deaths_Spain           16 non-null float64\n",
      "Deaths_Mali            12 non-null float64\n",
      "date_dt                122 non-null datetime64[ns]\n",
      "year                   122 non-null int64\n",
      "month                  122 non-null int64\n",
      "day                    122 non-null int64\n",
      "dtypes: datetime64[ns](1), float64(16), int64(4), object(1)\n",
      "memory usage: 21.0+ KB\n",
      "None\n"
     ]
    }
   ],
   "source": [
    "print(ebola.info())"
   ]
  },
  {
   "cell_type": "code",
   "execution_count": null,
   "id": "0d41cf1f",
   "metadata": {},
   "outputs": [],
   "source": []
  }
 ],
 "metadata": {
  "kernelspec": {
   "display_name": "Python 3 (ipykernel)",
   "language": "python",
   "name": "python3"
  },
  "language_info": {
   "codemirror_mode": {
    "name": "ipython",
    "version": 3
   },
   "file_extension": ".py",
   "mimetype": "text/x-python",
   "name": "python",
   "nbconvert_exporter": "python",
   "pygments_lexer": "ipython3",
   "version": "3.9.13"
  }
 },
 "nbformat": 4,
 "nbformat_minor": 5
}
