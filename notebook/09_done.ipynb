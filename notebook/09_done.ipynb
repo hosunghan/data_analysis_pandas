{
 "cells": [
  {
   "cell_type": "markdown",
   "metadata": {},
   "source": [
    "# 직접 해보세요!\n",
    "## 문자열 추출하기(183쪽)"
   ]
  },
  {
   "cell_type": "markdown",
   "metadata": {},
   "source": [
    "- 문자열은 작은따옴표나 큰따옴표로 감싸서 만든다. 다음은 작은 따옴표로 grail, a scratch라는 문자열 데이터를 만들어 변수 word, send에 저장한 것이다."
   ]
  },
  {
   "cell_type": "markdown",
   "metadata": {},
   "source": [
    "- 인덱스로 문자열 추출하기\n",
    "- 데이터프레임에서 인덱스를 이용하여 원하는 데이터를 추출했던 것을 기억하는가? 문자열로 인덱스를 사용하여 추출할 수 있다.\n",
    "- 문자는 길이가 1인 문자열로 생각하면 된다."
   ]
  },
  {
   "cell_type": "code",
   "execution_count": 1,
   "metadata": {},
   "outputs": [],
   "source": [
    "word = 'grail'\n",
    "sent = 'a scratch'"
   ]
  },
  {
   "cell_type": "markdown",
   "metadata": {},
   "source": [
    "- 각 문자열의 첫 번째 문자는 아래와 같이 추출한다."
   ]
  },
  {
   "cell_type": "code",
   "execution_count": 2,
   "metadata": {},
   "outputs": [
    {
     "name": "stdout",
     "output_type": "stream",
     "text": [
      "g\n"
     ]
    }
   ],
   "source": [
    "print(word[0])"
   ]
  },
  {
   "cell_type": "code",
   "execution_count": 3,
   "metadata": {},
   "outputs": [
    {
     "name": "stdout",
     "output_type": "stream",
     "text": [
      "a\n"
     ]
    }
   ],
   "source": [
    "print(sent[0])"
   ]
  },
  {
   "cell_type": "markdown",
   "metadata": {},
   "source": [
    "- 인덱스 슬라이싱을 사용하면 여러 개의 문자를 한 번에 추출할 수 있다. 아래는 인덱스 슬라이싱을 사용하여 0~2번째 인덱스의 문자를 추출한 것이다.\n",
    "- 이때 대괄호에 지정한 왼쪽 범위(0)는 포함하고 오른쪽 범위(3)는 포함하지 않는다.\n",
    "- 즉 인덱스가 0,1,2의 문자를 추출한다."
   ]
  },
  {
   "cell_type": "code",
   "execution_count": 4,
   "metadata": {},
   "outputs": [
    {
     "name": "stdout",
     "output_type": "stream",
     "text": [
      "gra\n"
     ]
    }
   ],
   "source": [
    "print(word[0:3])"
   ]
  },
  {
   "cell_type": "markdown",
   "metadata": {},
   "source": [
    "---"
   ]
  },
  {
   "cell_type": "markdown",
   "metadata": {},
   "source": [
    "- 음수를 사용해도 문자열을 추출할 수 있다.\n",
    "- 만약 인덱스를 -1로 지정하여 문자열을 추출하면 마지막 문자가 추출된다. 아래는 다양한 방법으로 음수 범위의 인덱스 슬라이싱을 한 것이다."
   ]
  },
  {
   "cell_type": "code",
   "execution_count": 5,
   "metadata": {
    "scrolled": true
   },
   "outputs": [
    {
     "name": "stdout",
     "output_type": "stream",
     "text": [
      "h\n"
     ]
    }
   ],
   "source": [
    "print(sent[-1])"
   ]
  },
  {
   "cell_type": "code",
   "execution_count": 6,
   "metadata": {},
   "outputs": [
    {
     "name": "stdout",
     "output_type": "stream",
     "text": [
      "a\n"
     ]
    }
   ],
   "source": [
    "print(sent[-9:-8])"
   ]
  },
  {
   "cell_type": "code",
   "execution_count": 7,
   "metadata": {},
   "outputs": [
    {
     "name": "stdout",
     "output_type": "stream",
     "text": [
      "a\n"
     ]
    }
   ],
   "source": [
    "print(sent[0:-8])"
   ]
  },
  {
   "cell_type": "markdown",
   "metadata": {},
   "source": [
    "# 알아두면 좋아요!\n",
    "## 전체 문자열을 추출할 때 음수를 사용하면 안 됩니다(184쪽)"
   ]
  },
  {
   "cell_type": "markdown",
   "metadata": {},
   "source": [
    "- 문자열의 마지막 문자를 추출하려면 인덱스를 -1로 지정하면 된다. 그런데 전체 문자열을 추출하기 위해 인덱스 슬라이싱의 범위를 [0:-1]로 지정하면 마지막 문자는 추출되지 않는다.\n",
    "- 왜그러냐면 바로 인덱스 슬라이싱의 오른쪽 범위로 지정한 값은 문자열 추출 버위에서 제외되기 때문이다. 이런 경우에는 len메서드를 사용하여 문자열의 길이를 오른쪽 범위로 지정하면 된다."
   ]
  },
  {
   "cell_type": "code",
   "execution_count": 8,
   "metadata": {},
   "outputs": [
    {
     "name": "stdout",
     "output_type": "stream",
     "text": [
      "scratc\n"
     ]
    }
   ],
   "source": [
    "print(sent[2:-1])"
   ]
  },
  {
   "cell_type": "code",
   "execution_count": 11,
   "metadata": {},
   "outputs": [
    {
     "name": "stdout",
     "output_type": "stream",
     "text": [
      "scratc\n"
     ]
    }
   ],
   "source": [
    "print(sent[-7:-1])"
   ]
  },
  {
   "cell_type": "code",
   "execution_count": 12,
   "metadata": {},
   "outputs": [
    {
     "name": "stdout",
     "output_type": "stream",
     "text": [
      "9\n"
     ]
    }
   ],
   "source": [
    "s_len = len(sent)\n",
    "print(s_len)"
   ]
  },
  {
   "cell_type": "code",
   "execution_count": 13,
   "metadata": {},
   "outputs": [
    {
     "name": "stdout",
     "output_type": "stream",
     "text": [
      "scratch\n"
     ]
    }
   ],
   "source": [
    "print(sent[2:s_len])"
   ]
  },
  {
   "cell_type": "markdown",
   "metadata": {},
   "source": [
    "# 직접 해보세요!\n",
    "## 왼쪽이나 오른쪽 범위를 지정하지 않고 문자열 추출하기(185쪽)"
   ]
  },
  {
   "cell_type": "markdown",
   "metadata": {},
   "source": [
    "- 왼쪽 범위를 비우고 문자열을 추출하면 아래와 같이 된다."
   ]
  },
  {
   "cell_type": "code",
   "execution_count": 14,
   "metadata": {},
   "outputs": [
    {
     "name": "stdout",
     "output_type": "stream",
     "text": [
      "gra\n"
     ]
    }
   ],
   "source": [
    "print(word[0:3])"
   ]
  },
  {
   "cell_type": "code",
   "execution_count": 15,
   "metadata": {},
   "outputs": [
    {
     "name": "stdout",
     "output_type": "stream",
     "text": [
      "gra\n"
     ]
    }
   ],
   "source": [
    "print(word[ :3])"
   ]
  },
  {
   "cell_type": "markdown",
   "metadata": {},
   "source": [
    "- 만약 오른쪽 범위를 비우면 문자열의 마지막 위치까지 문자열을 추출한다."
   ]
  },
  {
   "cell_type": "code",
   "execution_count": 16,
   "metadata": {
    "scrolled": true
   },
   "outputs": [
    {
     "name": "stdout",
     "output_type": "stream",
     "text": [
      "scratch\n"
     ]
    }
   ],
   "source": [
    "print(sent[2:len(sent)])"
   ]
  },
  {
   "cell_type": "code",
   "execution_count": 17,
   "metadata": {},
   "outputs": [
    {
     "name": "stdout",
     "output_type": "stream",
     "text": [
      "scratch\n"
     ]
    }
   ],
   "source": [
    "print(sent[2: ])"
   ]
  },
  {
   "cell_type": "markdown",
   "metadata": {},
   "source": [
    "- 양쪽을 모두 비우면 전체 문자열을 추출한다"
   ]
  },
  {
   "cell_type": "code",
   "execution_count": 18,
   "metadata": {},
   "outputs": [
    {
     "name": "stdout",
     "output_type": "stream",
     "text": [
      "a scratch\n"
     ]
    }
   ],
   "source": [
    "print(sent[ : ])"
   ]
  },
  {
   "cell_type": "code",
   "execution_count": 19,
   "metadata": {},
   "outputs": [
    {
     "name": "stdout",
     "output_type": "stream",
     "text": [
      "asrth\n"
     ]
    }
   ],
   "source": [
    "print(sent[::2])"
   ]
  },
  {
   "cell_type": "markdown",
   "metadata": {},
   "source": [
    "# 직접 해보세요!\n",
    "## join, splitlines, replace 메서드 실습하기(188쪽)"
   ]
  },
  {
   "cell_type": "markdown",
   "metadata": {},
   "source": [
    "### 1. join 메서드"
   ]
  },
  {
   "cell_type": "markdown",
   "metadata": {},
   "source": [
    "- join 메서드는 문자열을 연결하여 새로운 문자열을 반환하는 메서드이다. 다음은 분리된 좌표 데이터(40', 46', ...)를 합친 것이다.\n",
    "- 이때 join 메서드 앞에 문자(' ')를 지정하면 해당 문자를 단어 사이에 넣어 연결해준다."
   ]
  },
  {
   "cell_type": "code",
   "execution_count": 20,
   "metadata": {},
   "outputs": [],
   "source": [
    "d1 = '40°' \n",
    "m1 = \"46'\" \n",
    "s1 = '52.837\"' \n",
    "u1 = 'N'\n",
    "\n",
    "d2 = '73°' \n",
    "m2 = \"58'\" \n",
    "s2 = '26.302\"' \n",
    "u2 = 'W'"
   ]
  },
  {
   "cell_type": "code",
   "execution_count": 21,
   "metadata": {},
   "outputs": [
    {
     "name": "stdout",
     "output_type": "stream",
     "text": [
      "40° 46' 52.837\" N 73° 58' 26.302\" W\n"
     ]
    }
   ],
   "source": [
    "coords = ' '.join([d1, m1, s1, u1, d2, m2, s2, u2])\n",
    "print(coords)"
   ]
  },
  {
   "cell_type": "markdown",
   "metadata": {},
   "source": [
    "### 2. splitlines 메서드"
   ]
  },
  {
   "cell_type": "markdown",
   "metadata": {},
   "source": [
    "- 이번에는 splitlines 메서드에 대해 알아보자.\n",
    "- splitlines메서드는 여러 행을 가진 문자열을 분리한 다음 리스트로 반환한다.\n",
    "- multi_str에 저장된 문자열 splitlines 메서드로 분리하면 다음과 같이 된다."
   ]
  },
  {
   "cell_type": "code",
   "execution_count": 22,
   "metadata": {},
   "outputs": [
    {
     "name": "stdout",
     "output_type": "stream",
     "text": [
      "Guard: What? Ridden on a horse?\n",
      "King Arthur: Yes!\n",
      "Guard: You're using coconuts!\n",
      "King Arthur: What?\n",
      "Guard: You've got ... coconut[s] and you're bangin' 'em together. \n",
      "\n"
     ]
    }
   ],
   "source": [
    "multi_str = \"\"\"Guard: What? Ridden on a horse?\n",
    "King Arthur: Yes!\n",
    "Guard: You're using coconuts!\n",
    "King Arthur: What?\n",
    "Guard: You've got ... coconut[s] and you're bangin' 'em together. \n",
    "\"\"\" \n",
    "print(multi_str)"
   ]
  },
  {
   "cell_type": "code",
   "execution_count": 23,
   "metadata": {},
   "outputs": [
    {
     "name": "stdout",
     "output_type": "stream",
     "text": [
      "['Guard: What? Ridden on a horse?', 'King Arthur: Yes!', \"Guard: You're using coconuts!\", 'King Arthur: What?', \"Guard: You've got ... coconut[s] and you're bangin' 'em together. \"]\n"
     ]
    }
   ],
   "source": [
    "multi_str_split = multi_str.splitlines() \n",
    "print(multi_str_split)"
   ]
  },
  {
   "cell_type": "markdown",
   "metadata": {},
   "source": [
    "- 인덱스 슬라이싱을 응용하면 특정 문자열만 가져올 수도 있다.\n",
    "- 다음은 Guard의 대사만 가져온 것이다."
   ]
  },
  {
   "cell_type": "code",
   "execution_count": 24,
   "metadata": {},
   "outputs": [
    {
     "name": "stdout",
     "output_type": "stream",
     "text": [
      "['Guard: What? Ridden on a horse?', \"Guard: You're using coconuts!\", \"Guard: You've got ... coconut[s] and you're bangin' 'em together. \"]\n"
     ]
    }
   ],
   "source": [
    "guard = multi_str_split[::2] \n",
    "print(guard)"
   ]
  },
  {
   "cell_type": "markdown",
   "metadata": {},
   "source": [
    "### 4. replace 메서드"
   ]
  },
  {
   "cell_type": "markdown",
   "metadata": {},
   "source": [
    "- 만약 Guard의 대사에서 'Guard:'라는 문자열을 뺴고 싶다면 어떻게 해야 할까?\n",
    "- 문자열을 치환해주는 replace메서드를 사용하면 된다. 다음과 같이 \"Guard : \"를 \"\"로 치환하여 없앴다."
   ]
  },
  {
   "cell_type": "code",
   "execution_count": 25,
   "metadata": {},
   "outputs": [
    {
     "name": "stdout",
     "output_type": "stream",
     "text": [
      "['What? Ridden on a horse?', \"You're using coconuts!\", \"You've got ... coconut[s] and you're bangin' 'em together. \"]\n"
     ]
    }
   ],
   "source": [
    "guard = multi_str.replace(\"Guard: \", \"\").splitlines()[::2] \n",
    "print(guard)"
   ]
  },
  {
   "cell_type": "markdown",
   "metadata": {},
   "source": [
    "# 직접 해보세요!\n",
    "## 문자열 포매팅하기(190쪽)"
   ]
  },
  {
   "cell_type": "markdown",
   "metadata": {},
   "source": [
    "- 문자열 포매팅은 문자열을 편리하게 출력할 수 있게 해주는 기능이다. 예를 들어 I can swim, I can fly, I can run과 같은 문자열은 I can이라는 문자열에 swim, run, fly와 같은 단어만 바꿔서 출력하는 것이 더 편리하다.\n",
    "- 즉 문자열 포매팅이란 출력할 문자열의 형식을 지정하거나 변수를 조합하여 출력하는 방법을 말한다."
   ]
  },
  {
   "cell_type": "markdown",
   "metadata": {},
   "source": [
    "- 다음과 같이 단어를 삽입할 위치를 {}로 지정하고 format 메서드에 원하는 단어를 전달하면 {}의 위치에 전달할 단어를 삽입해 출력한다.\n",
    "- 이때 {}를 플레이스 홀더라고 부른다."
   ]
  },
  {
   "cell_type": "code",
   "execution_count": 26,
   "metadata": {},
   "outputs": [
    {
     "name": "stdout",
     "output_type": "stream",
     "text": [
      "It's just a flesh wound!\n"
     ]
    }
   ],
   "source": [
    "var = 'flesh wound' \n",
    "s = \"It's just a {}!\"\n",
    "\n",
    "print(s.format(var))"
   ]
  },
  {
   "cell_type": "code",
   "execution_count": 27,
   "metadata": {},
   "outputs": [
    {
     "name": "stdout",
     "output_type": "stream",
     "text": [
      "It's just a scratch!\n"
     ]
    }
   ],
   "source": [
    "print(s.format('scratch'))"
   ]
  },
  {
   "cell_type": "markdown",
   "metadata": {},
   "source": [
    "- 플레이스 홀더는 여러 번 사용해도 된다. 하지만 여러 단어를 전달할 때는 어떻게 해야 할까?\n",
    "- format메서드에 여러 단어를 전달하려면 인덱스 개념을 응용하면 된다. 다으은 1개의단어만 사용한다. 따라서 인덱스를 0으로지정한 플레이스 홀더를 사용했다."
   ]
  },
  {
   "cell_type": "code",
   "execution_count": 28,
   "metadata": {},
   "outputs": [
    {
     "name": "stdout",
     "output_type": "stream",
     "text": [
      "Black Knight: 'Tis but a scratch.\n",
      "King Arthur: A scratch? Your arm's off!\n",
      "\n"
     ]
    }
   ],
   "source": [
    "s = \"\"\"Black Knight: 'Tis but a {0}.\n",
    "King Arthur: A {0}? Your arm's off!\n",
    "\"\"\" \n",
    "print(s.format('scratch'))"
   ]
  },
  {
   "cell_type": "markdown",
   "metadata": {},
   "source": [
    "- 플레이스 홀더에는 변수를 지정해도 된다. 단, format메서드에 전달하는 문자열도 변수에 담아 전달해야 한다."
   ]
  },
  {
   "cell_type": "code",
   "execution_count": 29,
   "metadata": {},
   "outputs": [
    {
     "name": "stdout",
     "output_type": "stream",
     "text": [
      "Hayden Planetarium Coordinates: 40.7815° N, 73.9733° W\n"
     ]
    }
   ],
   "source": [
    "s = 'Hayden Planetarium Coordinates: {lat}, {lon}' \n",
    "print(s.format(lat='40.7815° N', lon='73.9733° W'))"
   ]
  },
  {
   "cell_type": "markdown",
   "metadata": {},
   "source": [
    "# 직접 해보세요!\n",
    "## 숫자 데이터 포매팅하기(191쪽)"
   ]
  },
  {
   "cell_type": "markdown",
   "metadata": {},
   "source": [
    "- 숫자 데이터 포매팅을 사용하면 실수의 소수점을 어디까지 출력할지 등을 설정할 수 있다."
   ]
  },
  {
   "cell_type": "markdown",
   "metadata": {},
   "source": [
    "- 숫자 데이터도 플레이스 홀더를 사용할 수 있다."
   ]
  },
  {
   "cell_type": "code",
   "execution_count": 30,
   "metadata": {
    "scrolled": true
   },
   "outputs": [
    {
     "name": "stdout",
     "output_type": "stream",
     "text": [
      "Some digits of pi: 3.14159265359\n"
     ]
    }
   ],
   "source": [
    "print('Some digits of pi: {}'.format(3.14159265359))"
   ]
  },
  {
   "cell_type": "markdown",
   "metadata": {},
   "source": [
    "- 플레이스 홀더에 :, 를 넣으면 쉼표를 넣어 숫자를 표현할 수도 있다."
   ]
  },
  {
   "cell_type": "code",
   "execution_count": 31,
   "metadata": {
    "scrolled": true
   },
   "outputs": [
    {
     "name": "stdout",
     "output_type": "stream",
     "text": [
      "In 2005, Lu Chao of China recited 67,890 digits of pi\n"
     ]
    }
   ],
   "source": [
    "print(\"In 2005, Lu Chao of China recited {:,} digits of pi\".format(67890))"
   ]
  },
  {
   "cell_type": "markdown",
   "metadata": {},
   "source": [
    "- 소수는 좀 더 다양한 방법으로 포매팅할 수 있다. 다음은 플레이스홀더에 0:.4, 0:.4%를 넣어 7/67890의 결과값을 포매팅한 것이다.\n",
    "- [0:.4]과 {0:.4%}에서 0은 format메서드에서 전달받을 값(7/67890)의 인덱스를 의미하고, .4는 소수점 이하의 숫자를 4개까지 출력하겠다는 것을 의미한다.\n",
    "- 이때 %를 사용하면 7/67890의 결과값을 백분율로 환산하여 출력한다."
   ]
  },
  {
   "cell_type": "code",
   "execution_count": 32,
   "metadata": {
    "scrolled": true
   },
   "outputs": [
    {
     "name": "stdout",
     "output_type": "stream",
     "text": [
      "I remember 0.0001031 or 0.0103% of what Lu Chao recited\n"
     ]
    }
   ],
   "source": [
    "print(\"I remember {0:.4} or {0:.4%} of what Lu Chao recited\".format(7/67890))"
   ]
  },
  {
   "cell_type": "markdown",
   "metadata": {},
   "source": [
    "- 만약 사용자의 아이디가 5자리의 숫자로 표현되어야 한다면 42와 같은 2자리의 값은 00042로 출력해야 한다.\n",
    "- 다음은 format의 0번째 값(42)을 5자리의 수로 표현하되 빈칸을 0으로 채워 출력한 것이다."
   ]
  },
  {
   "cell_type": "code",
   "execution_count": 33,
   "metadata": {},
   "outputs": [
    {
     "name": "stdout",
     "output_type": "stream",
     "text": [
      "My ID number is 00042\n"
     ]
    }
   ],
   "source": [
    "print(\"My ID number is {0:05d}\".format(42))"
   ]
  },
  {
   "cell_type": "markdown",
   "metadata": {},
   "source": [
    "# 직접 해보세요!\n",
    "## % 연산자로 포매팅하기(192쪽)"
   ]
  },
  {
   "cell_type": "markdown",
   "metadata": {},
   "source": [
    "- 만약 삽입할 값이 10진수람녀 값을 삽입할 위치에 %d라고 입력해야 한다. 그런 다음 % 연산자를 이용하여 삽입할 값(7)을 지정하여 출력한다."
   ]
  },
  {
   "cell_type": "code",
   "execution_count": 34,
   "metadata": {},
   "outputs": [
    {
     "name": "stdout",
     "output_type": "stream",
     "text": [
      "I only know 7 digits of pi\n"
     ]
    }
   ],
   "source": [
    "s = 'I only know %d digits of pi' % 7 \n",
    "print(s)"
   ]
  },
  {
   "cell_type": "markdown",
   "metadata": {},
   "source": [
    "- 만약 삽입할 값이 문자열이라면 값을 삽입할 위치에 %s라고 입력해야 한다. 이때 %와 s 사이에 소괄호를 사용하여 변수를 지정한다."
   ]
  },
  {
   "cell_type": "code",
   "execution_count": 35,
   "metadata": {
    "scrolled": true
   },
   "outputs": [
    {
     "name": "stdout",
     "output_type": "stream",
     "text": [
      "Some digits of e: 2.72\n"
     ]
    }
   ],
   "source": [
    "print('Some digits of %(cont)s: %(value).2f' % {'cont': 'e', 'value': 2.718})"
   ]
  },
  {
   "cell_type": "markdown",
   "metadata": {},
   "source": [
    "# 알아두면 좋아요!\n",
    "## f-strings로 포매팅 사용하기(193쪽)"
   ]
  },
  {
   "cell_type": "markdown",
   "metadata": {},
   "source": [
    "- f-strings포매팅은 파이썬 3.6 버전에서 새롭게 도입한 포매팅이다. f-strings 포매팅의 사용 방법은 format 메서드의 사용 방법과 동일하다. \n",
    "- f-strings포매팅은 읽기 쉬울 뿐만 아니라 문자열을 빠르게 처리한다는 장점이 있다."
   ]
  },
  {
   "cell_type": "code",
   "execution_count": 36,
   "metadata": {},
   "outputs": [
    {
     "name": "stdout",
     "output_type": "stream",
     "text": [
      "It's just a flesh wound!\n"
     ]
    }
   ],
   "source": [
    "var = 'flesh wound' \n",
    "s = f\"It's just a {var}!\" \n",
    "print(s)"
   ]
  },
  {
   "cell_type": "code",
   "execution_count": 37,
   "metadata": {},
   "outputs": [
    {
     "name": "stdout",
     "output_type": "stream",
     "text": [
      "Hayden Planetarium Coordinates: 40.7815°N, 73.9733°W\n"
     ]
    }
   ],
   "source": [
    "lat='40.7815°N' \n",
    "lon='73.9733°W' \n",
    "s = f'Hayden Planetarium Coordinates: {lat}, {lon}' \n",
    "print(s)"
   ]
  },
  {
   "cell_type": "markdown",
   "metadata": {},
   "source": [
    "# 직접 해보세요!\n",
    "## 정규식으로 전화번호 패턴 찾기(196쪽)"
   ]
  },
  {
   "cell_type": "markdown",
   "metadata": {},
   "source": [
    "- 정규식이란?\n",
    "- 수만 개의 문자열 중에서 내가 원하는 패턴의 문자열만 추출하려면 어떻게 해야 할까?\n",
    "- 예를 들어 I like apple, I like to make application이라는 문자열에서 app을 포함하는 문자열만 추출하려면 어떻게 해야 할까?\n",
    "- find메서드를 사용해도 되지만 이런 경우에는 정규식을 사용하면 더 편리하다."
   ]
  },
  {
   "cell_type": "markdown",
   "metadata": {},
   "source": [
    "- 전화번호와 같은 단순한 데이터도 복잡하고 다양한 정규식이 필요하다. \n",
    "- 정규식은 원하는 패턴의 문자열을 가장 효율적으로 찾아주는 방법이다. 따라서 데이터 분석이 필요한 분야에서는 정규식을 알아둬야 한다."
   ]
  },
  {
   "cell_type": "code",
   "execution_count": 38,
   "metadata": {},
   "outputs": [],
   "source": [
    "import re\n",
    "\n",
    "tele_num = '1234567890'"
   ]
  },
  {
   "cell_type": "markdown",
   "metadata": {},
   "source": [
    "- match 메서드를 사용하여 길이가 10인 숫자를 확인해보자. pattern인자에는 10개의 숫자를 의미하는 10개의 \\d를, string에는 테스트용 문자열인 tele_num을 전달했다.\n",
    "- 만약 패턴을 찾으면 match오브젝트를 반환한다. Match 오브젝트를 출력하면 span에는 찾는 패턴의 인덱스가, match에는 찾는 패턴의 문자열이 있는 것을 확인할 수 있다."
   ]
  },
  {
   "cell_type": "code",
   "execution_count": 39,
   "metadata": {
    "scrolled": true
   },
   "outputs": [
    {
     "name": "stdout",
     "output_type": "stream",
     "text": [
      "<class '_sre.SRE_Match'>\n"
     ]
    }
   ],
   "source": [
    "m = re.match(pattern='\\d\\d\\d\\d\\d\\d\\d\\d\\d\\d', string=tele_num) \n",
    "print(type(m))"
   ]
  },
  {
   "cell_type": "code",
   "execution_count": 40,
   "metadata": {},
   "outputs": [
    {
     "name": "stdout",
     "output_type": "stream",
     "text": [
      "<_sre.SRE_Match object; span=(0, 10), match='1234567890'>\n"
     ]
    }
   ],
   "source": [
    "print(m)"
   ]
  },
  {
   "cell_type": "markdown",
   "metadata": {},
   "source": [
    "- 이때 bool 메서드에 m을 전달하면 True나 False를 얻을 수 있다. 즉, match 메서드가 반환한 Match오브젝트는 bool메서드로 True, False를 판단할 수 있다."
   ]
  },
  {
   "cell_type": "code",
   "execution_count": 41,
   "metadata": {},
   "outputs": [
    {
     "name": "stdout",
     "output_type": "stream",
     "text": [
      "True\n"
     ]
    }
   ],
   "source": [
    "print(bool(m))"
   ]
  },
  {
   "cell_type": "code",
   "execution_count": 42,
   "metadata": {},
   "outputs": [
    {
     "name": "stdout",
     "output_type": "stream",
     "text": [
      "match\n"
     ]
    }
   ],
   "source": [
    "if m:\n",
    "    print('match') \n",
    "else:\n",
    "    print('no match')"
   ]
  },
  {
   "cell_type": "markdown",
   "metadata": {},
   "source": [
    "- Match 오브젝트에는 찾아낸 패턴의 정보를 확인할 수 있는 다양한 메서드가 있다.\n",
    "- start와 end메서드는 첫 번째와 마지막 인덱스를 반환한다. span 메서드는 찾은 패턴의 첫 번쨰와 마지막 인덱스를 한 번에 반환한다. group 메서드는 찾아낸 패턴을 반환한다."
   ]
  },
  {
   "cell_type": "code",
   "execution_count": 43,
   "metadata": {},
   "outputs": [
    {
     "name": "stdout",
     "output_type": "stream",
     "text": [
      "0\n"
     ]
    }
   ],
   "source": [
    "print(m.start())"
   ]
  },
  {
   "cell_type": "code",
   "execution_count": 44,
   "metadata": {},
   "outputs": [
    {
     "name": "stdout",
     "output_type": "stream",
     "text": [
      "10\n"
     ]
    }
   ],
   "source": [
    "print(m.end())"
   ]
  },
  {
   "cell_type": "code",
   "execution_count": 45,
   "metadata": {},
   "outputs": [
    {
     "name": "stdout",
     "output_type": "stream",
     "text": [
      "(0, 10)\n"
     ]
    }
   ],
   "source": [
    "print(m.span())"
   ]
  },
  {
   "cell_type": "code",
   "execution_count": 46,
   "metadata": {},
   "outputs": [
    {
     "name": "stdout",
     "output_type": "stream",
     "text": [
      "1234567890\n"
     ]
    }
   ],
   "source": [
    "print(m.group())"
   ]
  },
  {
   "cell_type": "markdown",
   "metadata": {},
   "source": [
    "- 전화번호를 입력하는 방법은 1234567890이 아니라 123-456-7890이나 123 456 7890 같은 방법도 있다.\n",
    "- 다음은 앞에서 사용한 패턴을 그대로 적용하여 123 456 7890을 검사한 것이다.\n",
    "- 그러면 패턴을 찾지 못해 Match오브젝트가 아닌 None을 출력한다"
   ]
  },
  {
   "cell_type": "code",
   "execution_count": 47,
   "metadata": {},
   "outputs": [],
   "source": [
    "tele_num_spaces = '123 456 7890'"
   ]
  },
  {
   "cell_type": "code",
   "execution_count": 48,
   "metadata": {},
   "outputs": [
    {
     "name": "stdout",
     "output_type": "stream",
     "text": [
      "None\n"
     ]
    }
   ],
   "source": [
    "m = re.match(pattern='\\d{10}', string=tele_num_spaces) \n",
    "print(m)"
   ]
  },
  {
   "cell_type": "code",
   "execution_count": 49,
   "metadata": {},
   "outputs": [
    {
     "name": "stdout",
     "output_type": "stream",
     "text": [
      "no match\n"
     ]
    }
   ],
   "source": [
    "if m:\n",
    "    print('match') \n",
    "else:\n",
    "    print('no match')"
   ]
  },
  {
   "cell_type": "code",
   "execution_count": 50,
   "metadata": {
    "scrolled": true
   },
   "outputs": [
    {
     "name": "stdout",
     "output_type": "stream",
     "text": [
      "<_sre.SRE_Match object; span=(0, 12), match='123 456 7890'>\n"
     ]
    }
   ],
   "source": [
    "p = '\\d{3}\\s?\\d{3}\\s?\\d{4}' \n",
    "m = re.match(pattern=p, string=tele_num_spaces) \n",
    "print(m)"
   ]
  },
  {
   "cell_type": "markdown",
   "metadata": {},
   "source": [
    "- 지역 코드는 소괄호로 감싸고 나머지 번호는 반각 기호로 구분한 전화번호의 정규식은 다음과 같이 작성한다."
   ]
  },
  {
   "cell_type": "code",
   "execution_count": 51,
   "metadata": {},
   "outputs": [
    {
     "name": "stdout",
     "output_type": "stream",
     "text": [
      "<_sre.SRE_Match object; span=(0, 14), match='(123) 456-7890'>\n"
     ]
    }
   ],
   "source": [
    "tele_num_space_paren_dash = '(123) 456-7890' \n",
    "p = '\\(?\\d{3}\\)?\\s?\\d{3}\\s?-?\\d{4}' \n",
    "m = re.match(pattern=p, string=tele_num_space_paren_dash) \n",
    "print(m)"
   ]
  },
  {
   "cell_type": "markdown",
   "metadata": {},
   "source": [
    "- 국가 코드까지 있는 전화번호 정규식은 다음과 같이 작성할 수 있다."
   ]
  },
  {
   "cell_type": "code",
   "execution_count": 52,
   "metadata": {
    "scrolled": true
   },
   "outputs": [
    {
     "name": "stdout",
     "output_type": "stream",
     "text": [
      "<_sre.SRE_Match object; span=(0, 17), match='+1 (123) 456-7890'>\n"
     ]
    }
   ],
   "source": [
    "cnty_tele_num_space_paren_dash = '+1 (123) 456-7890' \n",
    "p = '\\+?1\\s?\\(?\\d{3}\\)?\\s?\\d{3}\\s?-?\\d{4}' \n",
    "m = re.match(pattern=p, string=cnty_tele_num_space_paren_dash) \n",
    "print(m)"
   ]
  },
  {
   "cell_type": "markdown",
   "metadata": {},
   "source": [
    "# 알아두면 좋아요!\n",
    "## compile 메서드로 정규식 메서드 사용하기(200쪽)"
   ]
  },
  {
   "cell_type": "markdown",
   "metadata": {},
   "source": [
    "- 패턴을 반복해서 사용하려면 compile메서드로 패턴을 컴파일한 다음 변수에 저장하여 사용하면 된다.\n",
    "- 패턴을 컴파일한 다음 변수에 저장했기 때문에 정규식 메서드를 반복해서 사용할 수 있어 매우 편리하다."
   ]
  },
  {
   "cell_type": "code",
   "execution_count": 54,
   "metadata": {},
   "outputs": [
    {
     "name": "stdout",
     "output_type": "stream",
     "text": [
      "<_sre.SRE_Match object; span=(0, 10), match='1234567890'>\n"
     ]
    }
   ],
   "source": [
    "p = re.compile('\\d{10}') \n",
    "s = '1234567890' \n",
    "m = p.match(s) \n",
    "print(m)"
   ]
  }
 ],
 "metadata": {
  "kernelspec": {
   "display_name": "Python 3 (ipykernel)",
   "language": "python",
   "name": "python3"
  },
  "language_info": {
   "codemirror_mode": {
    "name": "ipython",
    "version": 3
   },
   "file_extension": ".py",
   "mimetype": "text/x-python",
   "name": "python",
   "nbconvert_exporter": "python",
   "pygments_lexer": "ipython3",
   "version": "3.9.13"
  }
 },
 "nbformat": 4,
 "nbformat_minor": 1
}
